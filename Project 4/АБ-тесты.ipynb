{
 "cells": [
  {
   "cell_type": "markdown",
   "metadata": {},
   "source": [
    "# Анализ вариантов увеличения выручки интернет-магазина и проведенного A/B-теста"
   ]
  },
  {
   "cell_type": "markdown",
   "metadata": {},
   "source": [
    "Для анализа представлены сведения о коммерческой деятельности крупного интернет-магазина. Анализ будет проводиться на основе данных из следующих датасетов: \n",
    "\n",
    "1.  описание гипотез и различные их показатели, такие как охват пользователей, их влияние на пользователей, уверенность в гипотезе, затраты ресурсов на проверку гипотезы;\n",
    "\n",
    "2. сведения о заказах по группам A/B-теста;\n",
    "\n",
    "3. сведения о количестве пользователей в указанную дату по группам A/B-теста.\n",
    "\n",
    "В начале работы будет произведена предобработка данных, заключающаяся в приведении данных к стандартному виду, преобразование форматов данных при необходдимости, поиск и удаление дубликатов при их наличии. Поиск и удаление аномалий будет осуществлен в разрезе перцентилей в блоке по анализу A/B-теста.\n",
    "\n",
    "Для анализа представлено 9 гипотез о мерах по увеличения выручки магазина. Будет произведена их приоритизация с выявлением наиболее перспективной. \n",
    "\n",
    "Далее будет произведено исследование результатов запущенного A/B-теста и дана оценка необходимости либо ее отсутствию в реализации гипотетических мероприятий в всязи с наличием/отсутсивем положительных изменений в контрольной группе. "
   ]
  },
  {
   "cell_type": "markdown",
   "metadata": {},
   "source": [
    "### Загрука данных и их подготовка к анализу"
   ]
  },
  {
   "cell_type": "code",
   "execution_count": 1,
   "metadata": {},
   "outputs": [],
   "source": [
    "import pandas as pd\n",
    "import seaborn\n",
    "import matplotlib.pyplot as plt\n",
    "import matplotlib.ticker\n",
    "from datetime import datetime as dt, timedelta\n",
    "import numpy as np\n",
    "from pandas.plotting import register_matplotlib_converters\n",
    "import warnings\n",
    "register_matplotlib_converters()\n",
    "import scipy.stats as stats\n",
    "pd.set_option(\"max_colwidth\", 100)"
   ]
  },
  {
   "cell_type": "code",
   "execution_count": 2,
   "metadata": {},
   "outputs": [],
   "source": [
    "hypothesis = pd.read_csv('/....csv')\n",
    "orders = pd.read_csv('/...s.csv')\n",
    "visitors = pd.read_csv('/....csv')"
   ]
  },
  {
   "cell_type": "markdown",
   "metadata": {},
   "source": [
    "#### Предобработака данных таблицы hypothesis"
   ]
  },
  {
   "cell_type": "code",
   "execution_count": 3,
   "metadata": {},
   "outputs": [
    {
     "data": {
      "text/html": [
       "<div>\n",
       "<style scoped>\n",
       "    .dataframe tbody tr th:only-of-type {\n",
       "        vertical-align: middle;\n",
       "    }\n",
       "\n",
       "    .dataframe tbody tr th {\n",
       "        vertical-align: top;\n",
       "    }\n",
       "\n",
       "    .dataframe thead th {\n",
       "        text-align: right;\n",
       "    }\n",
       "</style>\n",
       "<table border=\"1\" class=\"dataframe\">\n",
       "  <thead>\n",
       "    <tr style=\"text-align: right;\">\n",
       "      <th></th>\n",
       "      <th>Hypothesis</th>\n",
       "      <th>Reach</th>\n",
       "      <th>Impact</th>\n",
       "      <th>Confidence</th>\n",
       "      <th>Efforts</th>\n",
       "    </tr>\n",
       "  </thead>\n",
       "  <tbody>\n",
       "    <tr>\n",
       "      <th>0</th>\n",
       "      <td>Добавить два новых канала привлечения трафика, что позволит привлекать на 30% больше пользователей</td>\n",
       "      <td>3</td>\n",
       "      <td>10</td>\n",
       "      <td>8</td>\n",
       "      <td>6</td>\n",
       "    </tr>\n",
       "    <tr>\n",
       "      <th>1</th>\n",
       "      <td>Запустить собственную службу доставки, что сократит срок доставки заказов</td>\n",
       "      <td>2</td>\n",
       "      <td>5</td>\n",
       "      <td>4</td>\n",
       "      <td>10</td>\n",
       "    </tr>\n",
       "    <tr>\n",
       "      <th>2</th>\n",
       "      <td>Добавить блоки рекомендаций товаров на сайт интернет магазина, чтобы повысить конверсию и средни...</td>\n",
       "      <td>8</td>\n",
       "      <td>3</td>\n",
       "      <td>7</td>\n",
       "      <td>3</td>\n",
       "    </tr>\n",
       "    <tr>\n",
       "      <th>3</th>\n",
       "      <td>Изменить структура категорий, что увеличит конверсию, т.к. пользователи быстрее найдут нужный товар</td>\n",
       "      <td>8</td>\n",
       "      <td>3</td>\n",
       "      <td>3</td>\n",
       "      <td>8</td>\n",
       "    </tr>\n",
       "    <tr>\n",
       "      <th>4</th>\n",
       "      <td>Изменить цвет фона главной страницы, чтобы увеличить вовлеченность пользователей</td>\n",
       "      <td>3</td>\n",
       "      <td>1</td>\n",
       "      <td>1</td>\n",
       "      <td>1</td>\n",
       "    </tr>\n",
       "    <tr>\n",
       "      <th>5</th>\n",
       "      <td>Добавить страницу отзывов клиентов о магазине, что позволит увеличить количество заказов</td>\n",
       "      <td>3</td>\n",
       "      <td>2</td>\n",
       "      <td>2</td>\n",
       "      <td>3</td>\n",
       "    </tr>\n",
       "    <tr>\n",
       "      <th>6</th>\n",
       "      <td>Показать на главной странице баннеры с актуальными акциями и распродажами, чтобы увеличить конве...</td>\n",
       "      <td>5</td>\n",
       "      <td>3</td>\n",
       "      <td>8</td>\n",
       "      <td>3</td>\n",
       "    </tr>\n",
       "    <tr>\n",
       "      <th>7</th>\n",
       "      <td>Добавить форму подписки на все основные страницы, чтобы собрать базу клиентов для email-рассылок</td>\n",
       "      <td>10</td>\n",
       "      <td>7</td>\n",
       "      <td>8</td>\n",
       "      <td>5</td>\n",
       "    </tr>\n",
       "    <tr>\n",
       "      <th>8</th>\n",
       "      <td>Запустить акцию, дающую скидку на товар в день рождения</td>\n",
       "      <td>1</td>\n",
       "      <td>9</td>\n",
       "      <td>9</td>\n",
       "      <td>5</td>\n",
       "    </tr>\n",
       "  </tbody>\n",
       "</table>\n",
       "</div>"
      ],
      "text/plain": [
       "                                                                                            Hypothesis  \\\n",
       "0   Добавить два новых канала привлечения трафика, что позволит привлекать на 30% больше пользователей   \n",
       "1                            Запустить собственную службу доставки, что сократит срок доставки заказов   \n",
       "2  Добавить блоки рекомендаций товаров на сайт интернет магазина, чтобы повысить конверсию и средни...   \n",
       "3  Изменить структура категорий, что увеличит конверсию, т.к. пользователи быстрее найдут нужный товар   \n",
       "4                     Изменить цвет фона главной страницы, чтобы увеличить вовлеченность пользователей   \n",
       "5             Добавить страницу отзывов клиентов о магазине, что позволит увеличить количество заказов   \n",
       "6  Показать на главной странице баннеры с актуальными акциями и распродажами, чтобы увеличить конве...   \n",
       "7     Добавить форму подписки на все основные страницы, чтобы собрать базу клиентов для email-рассылок   \n",
       "8                                              Запустить акцию, дающую скидку на товар в день рождения   \n",
       "\n",
       "   Reach  Impact  Confidence  Efforts  \n",
       "0      3      10           8        6  \n",
       "1      2       5           4       10  \n",
       "2      8       3           7        3  \n",
       "3      8       3           3        8  \n",
       "4      3       1           1        1  \n",
       "5      3       2           2        3  \n",
       "6      5       3           8        3  \n",
       "7     10       7           8        5  \n",
       "8      1       9           9        5  "
      ]
     },
     "execution_count": 3,
     "metadata": {},
     "output_type": "execute_result"
    }
   ],
   "source": [
    "hypothesis"
   ]
  },
  {
   "cell_type": "code",
   "execution_count": 4,
   "metadata": {},
   "outputs": [
    {
     "name": "stdout",
     "output_type": "stream",
     "text": [
      "<class 'pandas.core.frame.DataFrame'>\n",
      "RangeIndex: 9 entries, 0 to 8\n",
      "Data columns (total 5 columns):\n",
      " #   Column      Non-Null Count  Dtype \n",
      "---  ------      --------------  ----- \n",
      " 0   Hypothesis  9 non-null      object\n",
      " 1   Reach       9 non-null      int64 \n",
      " 2   Impact      9 non-null      int64 \n",
      " 3   Confidence  9 non-null      int64 \n",
      " 4   Efforts     9 non-null      int64 \n",
      "dtypes: int64(4), object(1)\n",
      "memory usage: 488.0+ bytes\n"
     ]
    }
   ],
   "source": [
    "hypothesis.info()"
   ]
  },
  {
   "cell_type": "code",
   "execution_count": 5,
   "metadata": {},
   "outputs": [],
   "source": [
    "hypothesis.columns = ['hypothesis', 'reach', 'impact', 'confidence', 'efforts']"
   ]
  },
  {
   "cell_type": "markdown",
   "metadata": {},
   "source": [
    "#### Предобработака данных таблицы orders"
   ]
  },
  {
   "cell_type": "code",
   "execution_count": 6,
   "metadata": {},
   "outputs": [
    {
     "data": {
      "text/html": [
       "<div>\n",
       "<style scoped>\n",
       "    .dataframe tbody tr th:only-of-type {\n",
       "        vertical-align: middle;\n",
       "    }\n",
       "\n",
       "    .dataframe tbody tr th {\n",
       "        vertical-align: top;\n",
       "    }\n",
       "\n",
       "    .dataframe thead th {\n",
       "        text-align: right;\n",
       "    }\n",
       "</style>\n",
       "<table border=\"1\" class=\"dataframe\">\n",
       "  <thead>\n",
       "    <tr style=\"text-align: right;\">\n",
       "      <th></th>\n",
       "      <th>transactionId</th>\n",
       "      <th>visitorId</th>\n",
       "      <th>date</th>\n",
       "      <th>revenue</th>\n",
       "      <th>group</th>\n",
       "    </tr>\n",
       "  </thead>\n",
       "  <tbody>\n",
       "    <tr>\n",
       "      <th>0</th>\n",
       "      <td>3667963787</td>\n",
       "      <td>3312258926</td>\n",
       "      <td>2019-08-15</td>\n",
       "      <td>1650</td>\n",
       "      <td>B</td>\n",
       "    </tr>\n",
       "    <tr>\n",
       "      <th>1</th>\n",
       "      <td>2804400009</td>\n",
       "      <td>3642806036</td>\n",
       "      <td>2019-08-15</td>\n",
       "      <td>730</td>\n",
       "      <td>B</td>\n",
       "    </tr>\n",
       "    <tr>\n",
       "      <th>2</th>\n",
       "      <td>2961555356</td>\n",
       "      <td>4069496402</td>\n",
       "      <td>2019-08-15</td>\n",
       "      <td>400</td>\n",
       "      <td>A</td>\n",
       "    </tr>\n",
       "    <tr>\n",
       "      <th>3</th>\n",
       "      <td>3797467345</td>\n",
       "      <td>1196621759</td>\n",
       "      <td>2019-08-15</td>\n",
       "      <td>9759</td>\n",
       "      <td>B</td>\n",
       "    </tr>\n",
       "    <tr>\n",
       "      <th>4</th>\n",
       "      <td>2282983706</td>\n",
       "      <td>2322279887</td>\n",
       "      <td>2019-08-15</td>\n",
       "      <td>2308</td>\n",
       "      <td>B</td>\n",
       "    </tr>\n",
       "  </tbody>\n",
       "</table>\n",
       "</div>"
      ],
      "text/plain": [
       "   transactionId   visitorId        date  revenue group\n",
       "0     3667963787  3312258926  2019-08-15     1650     B\n",
       "1     2804400009  3642806036  2019-08-15      730     B\n",
       "2     2961555356  4069496402  2019-08-15      400     A\n",
       "3     3797467345  1196621759  2019-08-15     9759     B\n",
       "4     2282983706  2322279887  2019-08-15     2308     B"
      ]
     },
     "metadata": {},
     "output_type": "display_data"
    },
    {
     "data": {
      "text/html": [
       "<div>\n",
       "<style scoped>\n",
       "    .dataframe tbody tr th:only-of-type {\n",
       "        vertical-align: middle;\n",
       "    }\n",
       "\n",
       "    .dataframe tbody tr th {\n",
       "        vertical-align: top;\n",
       "    }\n",
       "\n",
       "    .dataframe thead th {\n",
       "        text-align: right;\n",
       "    }\n",
       "</style>\n",
       "<table border=\"1\" class=\"dataframe\">\n",
       "  <thead>\n",
       "    <tr style=\"text-align: right;\">\n",
       "      <th></th>\n",
       "      <th>transactionId</th>\n",
       "      <th>visitorId</th>\n",
       "      <th>date</th>\n",
       "      <th>revenue</th>\n",
       "      <th>group</th>\n",
       "    </tr>\n",
       "  </thead>\n",
       "  <tbody>\n",
       "    <tr>\n",
       "      <th>1192</th>\n",
       "      <td>2662137336</td>\n",
       "      <td>3733762160</td>\n",
       "      <td>2019-08-14</td>\n",
       "      <td>6490</td>\n",
       "      <td>B</td>\n",
       "    </tr>\n",
       "    <tr>\n",
       "      <th>1193</th>\n",
       "      <td>2203539145</td>\n",
       "      <td>370388673</td>\n",
       "      <td>2019-08-14</td>\n",
       "      <td>3190</td>\n",
       "      <td>A</td>\n",
       "    </tr>\n",
       "    <tr>\n",
       "      <th>1194</th>\n",
       "      <td>1807773912</td>\n",
       "      <td>573423106</td>\n",
       "      <td>2019-08-14</td>\n",
       "      <td>10550</td>\n",
       "      <td>A</td>\n",
       "    </tr>\n",
       "    <tr>\n",
       "      <th>1195</th>\n",
       "      <td>1947021204</td>\n",
       "      <td>1614305549</td>\n",
       "      <td>2019-08-14</td>\n",
       "      <td>100</td>\n",
       "      <td>A</td>\n",
       "    </tr>\n",
       "    <tr>\n",
       "      <th>1196</th>\n",
       "      <td>3936777065</td>\n",
       "      <td>2108080724</td>\n",
       "      <td>2019-08-15</td>\n",
       "      <td>202740</td>\n",
       "      <td>B</td>\n",
       "    </tr>\n",
       "  </tbody>\n",
       "</table>\n",
       "</div>"
      ],
      "text/plain": [
       "      transactionId   visitorId        date  revenue group\n",
       "1192     2662137336  3733762160  2019-08-14     6490     B\n",
       "1193     2203539145   370388673  2019-08-14     3190     A\n",
       "1194     1807773912   573423106  2019-08-14    10550     A\n",
       "1195     1947021204  1614305549  2019-08-14      100     A\n",
       "1196     3936777065  2108080724  2019-08-15   202740     B"
      ]
     },
     "execution_count": 6,
     "metadata": {},
     "output_type": "execute_result"
    }
   ],
   "source": [
    "display(orders.head())\n",
    "orders.tail()"
   ]
  },
  {
   "cell_type": "code",
   "execution_count": 7,
   "metadata": {},
   "outputs": [
    {
     "name": "stdout",
     "output_type": "stream",
     "text": [
      "<class 'pandas.core.frame.DataFrame'>\n",
      "RangeIndex: 1197 entries, 0 to 1196\n",
      "Data columns (total 5 columns):\n",
      " #   Column         Non-Null Count  Dtype \n",
      "---  ------         --------------  ----- \n",
      " 0   transactionId  1197 non-null   int64 \n",
      " 1   visitorId      1197 non-null   int64 \n",
      " 2   date           1197 non-null   object\n",
      " 3   revenue        1197 non-null   int64 \n",
      " 4   group          1197 non-null   object\n",
      "dtypes: int64(3), object(2)\n",
      "memory usage: 46.9+ KB\n"
     ]
    }
   ],
   "source": [
    "orders.info()"
   ]
  },
  {
   "cell_type": "code",
   "execution_count": 8,
   "metadata": {},
   "outputs": [],
   "source": [
    "orders.columns = ['transaction_id', 'visitor_id', 'date', 'revenue', 'group']"
   ]
  },
  {
   "cell_type": "code",
   "execution_count": 9,
   "metadata": {},
   "outputs": [],
   "source": [
    "orders['date'] = pd.to_datetime(orders['date'])"
   ]
  },
  {
   "cell_type": "code",
   "execution_count": 11,
   "metadata": {},
   "outputs": [
    {
     "data": {
      "text/plain": [
       "0"
      ]
     },
     "execution_count": 11,
     "metadata": {},
     "output_type": "execute_result"
    }
   ],
   "source": [
    "orders.duplicated().sum()"
   ]
  },
  {
   "cell_type": "code",
   "execution_count": 12,
   "metadata": {},
   "outputs": [
    {
     "name": "stdout",
     "output_type": "stream",
     "text": [
      "<class 'pandas.core.frame.DataFrame'>\n",
      "RangeIndex: 1197 entries, 0 to 1196\n",
      "Data columns (total 5 columns):\n",
      " #   Column          Non-Null Count  Dtype         \n",
      "---  ------          --------------  -----         \n",
      " 0   transaction_id  1197 non-null   int64         \n",
      " 1   visitor_id      1197 non-null   int64         \n",
      " 2   date            1197 non-null   datetime64[ns]\n",
      " 3   revenue         1197 non-null   int64         \n",
      " 4   group           1197 non-null   object        \n",
      "dtypes: datetime64[ns](1), int64(3), object(1)\n",
      "memory usage: 46.9+ KB\n"
     ]
    }
   ],
   "source": [
    "orders.info()"
   ]
  },
  {
   "cell_type": "markdown",
   "metadata": {},
   "source": [
    "#### Предобработака данных таблицы visitors"
   ]
  },
  {
   "cell_type": "code",
   "execution_count": 13,
   "metadata": {},
   "outputs": [
    {
     "data": {
      "text/html": [
       "<div>\n",
       "<style scoped>\n",
       "    .dataframe tbody tr th:only-of-type {\n",
       "        vertical-align: middle;\n",
       "    }\n",
       "\n",
       "    .dataframe tbody tr th {\n",
       "        vertical-align: top;\n",
       "    }\n",
       "\n",
       "    .dataframe thead th {\n",
       "        text-align: right;\n",
       "    }\n",
       "</style>\n",
       "<table border=\"1\" class=\"dataframe\">\n",
       "  <thead>\n",
       "    <tr style=\"text-align: right;\">\n",
       "      <th></th>\n",
       "      <th>date</th>\n",
       "      <th>group</th>\n",
       "      <th>visitors</th>\n",
       "    </tr>\n",
       "  </thead>\n",
       "  <tbody>\n",
       "    <tr>\n",
       "      <th>0</th>\n",
       "      <td>2019-08-01</td>\n",
       "      <td>A</td>\n",
       "      <td>719</td>\n",
       "    </tr>\n",
       "    <tr>\n",
       "      <th>1</th>\n",
       "      <td>2019-08-02</td>\n",
       "      <td>A</td>\n",
       "      <td>619</td>\n",
       "    </tr>\n",
       "    <tr>\n",
       "      <th>2</th>\n",
       "      <td>2019-08-03</td>\n",
       "      <td>A</td>\n",
       "      <td>507</td>\n",
       "    </tr>\n",
       "    <tr>\n",
       "      <th>3</th>\n",
       "      <td>2019-08-04</td>\n",
       "      <td>A</td>\n",
       "      <td>717</td>\n",
       "    </tr>\n",
       "    <tr>\n",
       "      <th>4</th>\n",
       "      <td>2019-08-05</td>\n",
       "      <td>A</td>\n",
       "      <td>756</td>\n",
       "    </tr>\n",
       "  </tbody>\n",
       "</table>\n",
       "</div>"
      ],
      "text/plain": [
       "         date group  visitors\n",
       "0  2019-08-01     A       719\n",
       "1  2019-08-02     A       619\n",
       "2  2019-08-03     A       507\n",
       "3  2019-08-04     A       717\n",
       "4  2019-08-05     A       756"
      ]
     },
     "metadata": {},
     "output_type": "display_data"
    },
    {
     "data": {
      "text/html": [
       "<div>\n",
       "<style scoped>\n",
       "    .dataframe tbody tr th:only-of-type {\n",
       "        vertical-align: middle;\n",
       "    }\n",
       "\n",
       "    .dataframe tbody tr th {\n",
       "        vertical-align: top;\n",
       "    }\n",
       "\n",
       "    .dataframe thead th {\n",
       "        text-align: right;\n",
       "    }\n",
       "</style>\n",
       "<table border=\"1\" class=\"dataframe\">\n",
       "  <thead>\n",
       "    <tr style=\"text-align: right;\">\n",
       "      <th></th>\n",
       "      <th>date</th>\n",
       "      <th>group</th>\n",
       "      <th>visitors</th>\n",
       "    </tr>\n",
       "  </thead>\n",
       "  <tbody>\n",
       "    <tr>\n",
       "      <th>57</th>\n",
       "      <td>2019-08-27</td>\n",
       "      <td>B</td>\n",
       "      <td>720</td>\n",
       "    </tr>\n",
       "    <tr>\n",
       "      <th>58</th>\n",
       "      <td>2019-08-28</td>\n",
       "      <td>B</td>\n",
       "      <td>654</td>\n",
       "    </tr>\n",
       "    <tr>\n",
       "      <th>59</th>\n",
       "      <td>2019-08-29</td>\n",
       "      <td>B</td>\n",
       "      <td>531</td>\n",
       "    </tr>\n",
       "    <tr>\n",
       "      <th>60</th>\n",
       "      <td>2019-08-30</td>\n",
       "      <td>B</td>\n",
       "      <td>490</td>\n",
       "    </tr>\n",
       "    <tr>\n",
       "      <th>61</th>\n",
       "      <td>2019-08-31</td>\n",
       "      <td>B</td>\n",
       "      <td>718</td>\n",
       "    </tr>\n",
       "  </tbody>\n",
       "</table>\n",
       "</div>"
      ],
      "text/plain": [
       "          date group  visitors\n",
       "57  2019-08-27     B       720\n",
       "58  2019-08-28     B       654\n",
       "59  2019-08-29     B       531\n",
       "60  2019-08-30     B       490\n",
       "61  2019-08-31     B       718"
      ]
     },
     "execution_count": 13,
     "metadata": {},
     "output_type": "execute_result"
    }
   ],
   "source": [
    "display(visitors.head())\n",
    "visitors.tail()"
   ]
  },
  {
   "cell_type": "code",
   "execution_count": 14,
   "metadata": {},
   "outputs": [
    {
     "name": "stdout",
     "output_type": "stream",
     "text": [
      "<class 'pandas.core.frame.DataFrame'>\n",
      "RangeIndex: 62 entries, 0 to 61\n",
      "Data columns (total 3 columns):\n",
      " #   Column    Non-Null Count  Dtype \n",
      "---  ------    --------------  ----- \n",
      " 0   date      62 non-null     object\n",
      " 1   group     62 non-null     object\n",
      " 2   visitors  62 non-null     int64 \n",
      "dtypes: int64(1), object(2)\n",
      "memory usage: 1.6+ KB\n"
     ]
    }
   ],
   "source": [
    "visitors.info()"
   ]
  },
  {
   "cell_type": "code",
   "execution_count": 15,
   "metadata": {},
   "outputs": [],
   "source": [
    "visitors['date'] = pd.to_datetime(visitors['date'])"
   ]
  },
  {
   "cell_type": "code",
   "execution_count": 16,
   "metadata": {},
   "outputs": [
    {
     "data": {
      "text/plain": [
       "0"
      ]
     },
     "execution_count": 16,
     "metadata": {},
     "output_type": "execute_result"
    }
   ],
   "source": [
    "visitors.duplicated().sum()"
   ]
  },
  {
   "cell_type": "code",
   "execution_count": 17,
   "metadata": {},
   "outputs": [
    {
     "name": "stdout",
     "output_type": "stream",
     "text": [
      "<class 'pandas.core.frame.DataFrame'>\n",
      "RangeIndex: 62 entries, 0 to 61\n",
      "Data columns (total 3 columns):\n",
      " #   Column    Non-Null Count  Dtype         \n",
      "---  ------    --------------  -----         \n",
      " 0   date      62 non-null     datetime64[ns]\n",
      " 1   group     62 non-null     object        \n",
      " 2   visitors  62 non-null     int64         \n",
      "dtypes: datetime64[ns](1), int64(1), object(1)\n",
      "memory usage: 1.6+ KB\n"
     ]
    }
   ],
   "source": [
    "visitors.info()"
   ]
  },
  {
   "cell_type": "markdown",
   "metadata": {},
   "source": [
    "#### Изучение тестируемых групп"
   ]
  },
  {
   "cell_type": "code",
   "execution_count": 18,
   "metadata": {},
   "outputs": [
    {
     "name": "stdout",
     "output_type": "stream",
     "text": [
      "Общее количество наблюдений в тесте - 1197\n",
      "Количество уникальных пользователей по двум группам - 1031\n"
     ]
    }
   ],
   "source": [
    "print(f'Общее количество наблюдений в тесте - {orders.shape[0]}')\n",
    "print(f'Количество уникальных пользователей по двум группам - {orders[\"visitor_id\"].nunique()}')"
   ]
  },
  {
   "cell_type": "code",
   "execution_count": 19,
   "metadata": {},
   "outputs": [
    {
     "name": "stdout",
     "output_type": "stream",
     "text": [
      "Количество наблюдений в группе А - 557\n",
      "Количество уникальных пользователей в группе - 503\n"
     ]
    }
   ],
   "source": [
    "ordersA = orders.query('group == \"A\"')\n",
    "print(f'Количество наблюдений в группе А - {ordersA.shape[0]}')\n",
    "print(f'Количество уникальных пользователей в группе - {ordersA[\"visitor_id\"].nunique()}')"
   ]
  },
  {
   "cell_type": "code",
   "execution_count": 20,
   "metadata": {},
   "outputs": [
    {
     "name": "stdout",
     "output_type": "stream",
     "text": [
      "Количество наблюдений в группе В - 640\n",
      "Количество уникальных пользователей в группе - 586\n"
     ]
    }
   ],
   "source": [
    "ordersB = orders.query('group == \"B\"')\n",
    "print(f'Количество наблюдений в группе В - {ordersB.shape[0]}')\n",
    "print(f'Количество уникальных пользователей в группе - {ordersB[\"visitor_id\"].nunique()}')"
   ]
  },
  {
   "cell_type": "code",
   "execution_count": 21,
   "metadata": {},
   "outputs": [
    {
     "name": "stdout",
     "output_type": "stream",
     "text": [
      "Разница в количестве наблюдений между группами составляет 12.97 %\n",
      "Разница в количестве уникальных пользователей между группами составляет 14.16 %\n"
     ]
    }
   ],
   "source": [
    "print(f'Разница в количестве наблюдений между группами составляет {round((ordersB.shape[0]-ordersA.shape[0])/ordersB.shape[0]*100, 2)} %')\n",
    "print(f'Разница в количестве уникальных пользователей между группами составляет {round((ordersB[\"visitor_id\"].nunique()-ordersA[\"visitor_id\"].nunique())/ordersB[\"visitor_id\"].nunique()*100, 2)} %')"
   ]
  },
  {
   "cell_type": "code",
   "execution_count": 22,
   "metadata": {},
   "outputs": [
    {
     "name": "stdout",
     "output_type": "stream",
     "text": [
      "Количество наблюдений, присутствующих сразу в двух группах - 183\n",
      "Количество уникальных пользователей, присутствующих сразу в двух группах - 58\n"
     ]
    }
   ],
   "source": [
    "ordersAB = ordersA.merge(ordersB, on='visitor_id')\n",
    "print(f'Количество наблюдений, присутствующих сразу в двух группах - {ordersAB.shape[0]}')\n",
    "print(f'Количество уникальных пользователей, присутствующих сразу в двух группах - {ordersAB[\"visitor_id\"].nunique()}')"
   ]
  },
  {
   "cell_type": "markdown",
   "metadata": {},
   "source": [
    "Таким образом, изучив структуру пользователей, можно сделать вывод о том, что количество как наблюдений, так и уникальных пользователей различно между группами А и В, разница составляет 12.97 и 14.16 % соответственно. Поскольку данное различие не столь критично, оставим его без изменений. Также имеется 183 наблюдения (58 уникальных пользователей), присутствующих в обеих группах сразу, однако, во-первых, это также не столь большое количество, а во-вторых, непонятен критерий выбора для удаления пользователя из одной из групп, поэтому данные пользователи также будут участвовать в дальнейшем тестировании."
   ]
  },
  {
   "cell_type": "markdown",
   "metadata": {},
   "source": [
    "**Таким образом, стандартная предобработка данных произведена, общая информация о них проанализирована, данные приведены к соответствующим форматам, дублирующих записей в них не обнаружено, произведен анализ структуры данных в разрезе проводимого А/В-теста, можно приступать к следующему этапу исследования** "
   ]
  },
  {
   "cell_type": "markdown",
   "metadata": {},
   "source": [
    "### Приоритизация гипотез"
   ]
  },
  {
   "cell_type": "code",
   "execution_count": 23,
   "metadata": {},
   "outputs": [
    {
     "data": {
      "text/html": [
       "<div>\n",
       "<style scoped>\n",
       "    .dataframe tbody tr th:only-of-type {\n",
       "        vertical-align: middle;\n",
       "    }\n",
       "\n",
       "    .dataframe tbody tr th {\n",
       "        vertical-align: top;\n",
       "    }\n",
       "\n",
       "    .dataframe thead th {\n",
       "        text-align: right;\n",
       "    }\n",
       "</style>\n",
       "<table border=\"1\" class=\"dataframe\">\n",
       "  <thead>\n",
       "    <tr style=\"text-align: right;\">\n",
       "      <th></th>\n",
       "      <th>hypothesis</th>\n",
       "      <th>reach</th>\n",
       "      <th>impact</th>\n",
       "      <th>confidence</th>\n",
       "      <th>efforts</th>\n",
       "    </tr>\n",
       "  </thead>\n",
       "  <tbody>\n",
       "    <tr>\n",
       "      <th>0</th>\n",
       "      <td>Добавить два новых канала привлечения трафика, что позволит привлекать на 30% больше пользователей</td>\n",
       "      <td>3</td>\n",
       "      <td>10</td>\n",
       "      <td>8</td>\n",
       "      <td>6</td>\n",
       "    </tr>\n",
       "    <tr>\n",
       "      <th>1</th>\n",
       "      <td>Запустить собственную службу доставки, что сократит срок доставки заказов</td>\n",
       "      <td>2</td>\n",
       "      <td>5</td>\n",
       "      <td>4</td>\n",
       "      <td>10</td>\n",
       "    </tr>\n",
       "    <tr>\n",
       "      <th>2</th>\n",
       "      <td>Добавить блоки рекомендаций товаров на сайт интернет магазина, чтобы повысить конверсию и средни...</td>\n",
       "      <td>8</td>\n",
       "      <td>3</td>\n",
       "      <td>7</td>\n",
       "      <td>3</td>\n",
       "    </tr>\n",
       "    <tr>\n",
       "      <th>3</th>\n",
       "      <td>Изменить структура категорий, что увеличит конверсию, т.к. пользователи быстрее найдут нужный товар</td>\n",
       "      <td>8</td>\n",
       "      <td>3</td>\n",
       "      <td>3</td>\n",
       "      <td>8</td>\n",
       "    </tr>\n",
       "    <tr>\n",
       "      <th>4</th>\n",
       "      <td>Изменить цвет фона главной страницы, чтобы увеличить вовлеченность пользователей</td>\n",
       "      <td>3</td>\n",
       "      <td>1</td>\n",
       "      <td>1</td>\n",
       "      <td>1</td>\n",
       "    </tr>\n",
       "    <tr>\n",
       "      <th>5</th>\n",
       "      <td>Добавить страницу отзывов клиентов о магазине, что позволит увеличить количество заказов</td>\n",
       "      <td>3</td>\n",
       "      <td>2</td>\n",
       "      <td>2</td>\n",
       "      <td>3</td>\n",
       "    </tr>\n",
       "    <tr>\n",
       "      <th>6</th>\n",
       "      <td>Показать на главной странице баннеры с актуальными акциями и распродажами, чтобы увеличить конве...</td>\n",
       "      <td>5</td>\n",
       "      <td>3</td>\n",
       "      <td>8</td>\n",
       "      <td>3</td>\n",
       "    </tr>\n",
       "    <tr>\n",
       "      <th>7</th>\n",
       "      <td>Добавить форму подписки на все основные страницы, чтобы собрать базу клиентов для email-рассылок</td>\n",
       "      <td>10</td>\n",
       "      <td>7</td>\n",
       "      <td>8</td>\n",
       "      <td>5</td>\n",
       "    </tr>\n",
       "    <tr>\n",
       "      <th>8</th>\n",
       "      <td>Запустить акцию, дающую скидку на товар в день рождения</td>\n",
       "      <td>1</td>\n",
       "      <td>9</td>\n",
       "      <td>9</td>\n",
       "      <td>5</td>\n",
       "    </tr>\n",
       "  </tbody>\n",
       "</table>\n",
       "</div>"
      ],
      "text/plain": [
       "                                                                                            hypothesis  \\\n",
       "0   Добавить два новых канала привлечения трафика, что позволит привлекать на 30% больше пользователей   \n",
       "1                            Запустить собственную службу доставки, что сократит срок доставки заказов   \n",
       "2  Добавить блоки рекомендаций товаров на сайт интернет магазина, чтобы повысить конверсию и средни...   \n",
       "3  Изменить структура категорий, что увеличит конверсию, т.к. пользователи быстрее найдут нужный товар   \n",
       "4                     Изменить цвет фона главной страницы, чтобы увеличить вовлеченность пользователей   \n",
       "5             Добавить страницу отзывов клиентов о магазине, что позволит увеличить количество заказов   \n",
       "6  Показать на главной странице баннеры с актуальными акциями и распродажами, чтобы увеличить конве...   \n",
       "7     Добавить форму подписки на все основные страницы, чтобы собрать базу клиентов для email-рассылок   \n",
       "8                                              Запустить акцию, дающую скидку на товар в день рождения   \n",
       "\n",
       "   reach  impact  confidence  efforts  \n",
       "0      3      10           8        6  \n",
       "1      2       5           4       10  \n",
       "2      8       3           7        3  \n",
       "3      8       3           3        8  \n",
       "4      3       1           1        1  \n",
       "5      3       2           2        3  \n",
       "6      5       3           8        3  \n",
       "7     10       7           8        5  \n",
       "8      1       9           9        5  "
      ]
     },
     "execution_count": 23,
     "metadata": {},
     "output_type": "execute_result"
    }
   ],
   "source": [
    "hypothesis"
   ]
  },
  {
   "cell_type": "code",
   "execution_count": 24,
   "metadata": {},
   "outputs": [],
   "source": [
    "hypothesis['ICE']=round(hypothesis['impact']*hypothesis['confidence']/hypothesis['efforts'], 2)"
   ]
  },
  {
   "cell_type": "code",
   "execution_count": 25,
   "metadata": {},
   "outputs": [
    {
     "data": {
      "text/html": [
       "<div>\n",
       "<style scoped>\n",
       "    .dataframe tbody tr th:only-of-type {\n",
       "        vertical-align: middle;\n",
       "    }\n",
       "\n",
       "    .dataframe tbody tr th {\n",
       "        vertical-align: top;\n",
       "    }\n",
       "\n",
       "    .dataframe thead th {\n",
       "        text-align: right;\n",
       "    }\n",
       "</style>\n",
       "<table border=\"1\" class=\"dataframe\">\n",
       "  <thead>\n",
       "    <tr style=\"text-align: right;\">\n",
       "      <th></th>\n",
       "      <th>hypothesis</th>\n",
       "      <th>reach</th>\n",
       "      <th>impact</th>\n",
       "      <th>confidence</th>\n",
       "      <th>efforts</th>\n",
       "      <th>ICE</th>\n",
       "    </tr>\n",
       "  </thead>\n",
       "  <tbody>\n",
       "    <tr>\n",
       "      <th>8</th>\n",
       "      <td>Запустить акцию, дающую скидку на товар в день рождения</td>\n",
       "      <td>1</td>\n",
       "      <td>9</td>\n",
       "      <td>9</td>\n",
       "      <td>5</td>\n",
       "      <td>16.20</td>\n",
       "    </tr>\n",
       "    <tr>\n",
       "      <th>0</th>\n",
       "      <td>Добавить два новых канала привлечения трафика, что позволит привлекать на 30% больше пользователей</td>\n",
       "      <td>3</td>\n",
       "      <td>10</td>\n",
       "      <td>8</td>\n",
       "      <td>6</td>\n",
       "      <td>13.33</td>\n",
       "    </tr>\n",
       "    <tr>\n",
       "      <th>7</th>\n",
       "      <td>Добавить форму подписки на все основные страницы, чтобы собрать базу клиентов для email-рассылок</td>\n",
       "      <td>10</td>\n",
       "      <td>7</td>\n",
       "      <td>8</td>\n",
       "      <td>5</td>\n",
       "      <td>11.20</td>\n",
       "    </tr>\n",
       "    <tr>\n",
       "      <th>6</th>\n",
       "      <td>Показать на главной странице баннеры с актуальными акциями и распродажами, чтобы увеличить конве...</td>\n",
       "      <td>5</td>\n",
       "      <td>3</td>\n",
       "      <td>8</td>\n",
       "      <td>3</td>\n",
       "      <td>8.00</td>\n",
       "    </tr>\n",
       "    <tr>\n",
       "      <th>2</th>\n",
       "      <td>Добавить блоки рекомендаций товаров на сайт интернет магазина, чтобы повысить конверсию и средни...</td>\n",
       "      <td>8</td>\n",
       "      <td>3</td>\n",
       "      <td>7</td>\n",
       "      <td>3</td>\n",
       "      <td>7.00</td>\n",
       "    </tr>\n",
       "    <tr>\n",
       "      <th>1</th>\n",
       "      <td>Запустить собственную службу доставки, что сократит срок доставки заказов</td>\n",
       "      <td>2</td>\n",
       "      <td>5</td>\n",
       "      <td>4</td>\n",
       "      <td>10</td>\n",
       "      <td>2.00</td>\n",
       "    </tr>\n",
       "    <tr>\n",
       "      <th>5</th>\n",
       "      <td>Добавить страницу отзывов клиентов о магазине, что позволит увеличить количество заказов</td>\n",
       "      <td>3</td>\n",
       "      <td>2</td>\n",
       "      <td>2</td>\n",
       "      <td>3</td>\n",
       "      <td>1.33</td>\n",
       "    </tr>\n",
       "    <tr>\n",
       "      <th>3</th>\n",
       "      <td>Изменить структура категорий, что увеличит конверсию, т.к. пользователи быстрее найдут нужный товар</td>\n",
       "      <td>8</td>\n",
       "      <td>3</td>\n",
       "      <td>3</td>\n",
       "      <td>8</td>\n",
       "      <td>1.12</td>\n",
       "    </tr>\n",
       "    <tr>\n",
       "      <th>4</th>\n",
       "      <td>Изменить цвет фона главной страницы, чтобы увеличить вовлеченность пользователей</td>\n",
       "      <td>3</td>\n",
       "      <td>1</td>\n",
       "      <td>1</td>\n",
       "      <td>1</td>\n",
       "      <td>1.00</td>\n",
       "    </tr>\n",
       "  </tbody>\n",
       "</table>\n",
       "</div>"
      ],
      "text/plain": [
       "                                                                                            hypothesis  \\\n",
       "8                                              Запустить акцию, дающую скидку на товар в день рождения   \n",
       "0   Добавить два новых канала привлечения трафика, что позволит привлекать на 30% больше пользователей   \n",
       "7     Добавить форму подписки на все основные страницы, чтобы собрать базу клиентов для email-рассылок   \n",
       "6  Показать на главной странице баннеры с актуальными акциями и распродажами, чтобы увеличить конве...   \n",
       "2  Добавить блоки рекомендаций товаров на сайт интернет магазина, чтобы повысить конверсию и средни...   \n",
       "1                            Запустить собственную службу доставки, что сократит срок доставки заказов   \n",
       "5             Добавить страницу отзывов клиентов о магазине, что позволит увеличить количество заказов   \n",
       "3  Изменить структура категорий, что увеличит конверсию, т.к. пользователи быстрее найдут нужный товар   \n",
       "4                     Изменить цвет фона главной страницы, чтобы увеличить вовлеченность пользователей   \n",
       "\n",
       "   reach  impact  confidence  efforts    ICE  \n",
       "8      1       9           9        5  16.20  \n",
       "0      3      10           8        6  13.33  \n",
       "7     10       7           8        5  11.20  \n",
       "6      5       3           8        3   8.00  \n",
       "2      8       3           7        3   7.00  \n",
       "1      2       5           4       10   2.00  \n",
       "5      3       2           2        3   1.33  \n",
       "3      8       3           3        8   1.12  \n",
       "4      3       1           1        1   1.00  "
      ]
     },
     "execution_count": 25,
     "metadata": {},
     "output_type": "execute_result"
    }
   ],
   "source": [
    "hypothesis.sort_values(by='ICE', ascending=False)"
   ]
  },
  {
   "cell_type": "code",
   "execution_count": 26,
   "metadata": {},
   "outputs": [],
   "source": [
    "hypothesis['RICE']=round(hypothesis['reach']*hypothesis['impact']*hypothesis['confidence']/hypothesis['efforts'], 2)"
   ]
  },
  {
   "cell_type": "code",
   "execution_count": 27,
   "metadata": {
    "scrolled": true
   },
   "outputs": [
    {
     "data": {
      "text/html": [
       "<div>\n",
       "<style scoped>\n",
       "    .dataframe tbody tr th:only-of-type {\n",
       "        vertical-align: middle;\n",
       "    }\n",
       "\n",
       "    .dataframe tbody tr th {\n",
       "        vertical-align: top;\n",
       "    }\n",
       "\n",
       "    .dataframe thead th {\n",
       "        text-align: right;\n",
       "    }\n",
       "</style>\n",
       "<table border=\"1\" class=\"dataframe\">\n",
       "  <thead>\n",
       "    <tr style=\"text-align: right;\">\n",
       "      <th></th>\n",
       "      <th>hypothesis</th>\n",
       "      <th>reach</th>\n",
       "      <th>impact</th>\n",
       "      <th>confidence</th>\n",
       "      <th>efforts</th>\n",
       "      <th>ICE</th>\n",
       "      <th>RICE</th>\n",
       "    </tr>\n",
       "  </thead>\n",
       "  <tbody>\n",
       "    <tr>\n",
       "      <th>7</th>\n",
       "      <td>Добавить форму подписки на все основные страницы, чтобы собрать базу клиентов для email-рассылок</td>\n",
       "      <td>10</td>\n",
       "      <td>7</td>\n",
       "      <td>8</td>\n",
       "      <td>5</td>\n",
       "      <td>11.20</td>\n",
       "      <td>112.0</td>\n",
       "    </tr>\n",
       "    <tr>\n",
       "      <th>2</th>\n",
       "      <td>Добавить блоки рекомендаций товаров на сайт интернет магазина, чтобы повысить конверсию и средни...</td>\n",
       "      <td>8</td>\n",
       "      <td>3</td>\n",
       "      <td>7</td>\n",
       "      <td>3</td>\n",
       "      <td>7.00</td>\n",
       "      <td>56.0</td>\n",
       "    </tr>\n",
       "    <tr>\n",
       "      <th>0</th>\n",
       "      <td>Добавить два новых канала привлечения трафика, что позволит привлекать на 30% больше пользователей</td>\n",
       "      <td>3</td>\n",
       "      <td>10</td>\n",
       "      <td>8</td>\n",
       "      <td>6</td>\n",
       "      <td>13.33</td>\n",
       "      <td>40.0</td>\n",
       "    </tr>\n",
       "    <tr>\n",
       "      <th>6</th>\n",
       "      <td>Показать на главной странице баннеры с актуальными акциями и распродажами, чтобы увеличить конве...</td>\n",
       "      <td>5</td>\n",
       "      <td>3</td>\n",
       "      <td>8</td>\n",
       "      <td>3</td>\n",
       "      <td>8.00</td>\n",
       "      <td>40.0</td>\n",
       "    </tr>\n",
       "    <tr>\n",
       "      <th>8</th>\n",
       "      <td>Запустить акцию, дающую скидку на товар в день рождения</td>\n",
       "      <td>1</td>\n",
       "      <td>9</td>\n",
       "      <td>9</td>\n",
       "      <td>5</td>\n",
       "      <td>16.20</td>\n",
       "      <td>16.2</td>\n",
       "    </tr>\n",
       "    <tr>\n",
       "      <th>3</th>\n",
       "      <td>Изменить структура категорий, что увеличит конверсию, т.к. пользователи быстрее найдут нужный товар</td>\n",
       "      <td>8</td>\n",
       "      <td>3</td>\n",
       "      <td>3</td>\n",
       "      <td>8</td>\n",
       "      <td>1.12</td>\n",
       "      <td>9.0</td>\n",
       "    </tr>\n",
       "    <tr>\n",
       "      <th>1</th>\n",
       "      <td>Запустить собственную службу доставки, что сократит срок доставки заказов</td>\n",
       "      <td>2</td>\n",
       "      <td>5</td>\n",
       "      <td>4</td>\n",
       "      <td>10</td>\n",
       "      <td>2.00</td>\n",
       "      <td>4.0</td>\n",
       "    </tr>\n",
       "    <tr>\n",
       "      <th>5</th>\n",
       "      <td>Добавить страницу отзывов клиентов о магазине, что позволит увеличить количество заказов</td>\n",
       "      <td>3</td>\n",
       "      <td>2</td>\n",
       "      <td>2</td>\n",
       "      <td>3</td>\n",
       "      <td>1.33</td>\n",
       "      <td>4.0</td>\n",
       "    </tr>\n",
       "    <tr>\n",
       "      <th>4</th>\n",
       "      <td>Изменить цвет фона главной страницы, чтобы увеличить вовлеченность пользователей</td>\n",
       "      <td>3</td>\n",
       "      <td>1</td>\n",
       "      <td>1</td>\n",
       "      <td>1</td>\n",
       "      <td>1.00</td>\n",
       "      <td>3.0</td>\n",
       "    </tr>\n",
       "  </tbody>\n",
       "</table>\n",
       "</div>"
      ],
      "text/plain": [
       "                                                                                            hypothesis  \\\n",
       "7     Добавить форму подписки на все основные страницы, чтобы собрать базу клиентов для email-рассылок   \n",
       "2  Добавить блоки рекомендаций товаров на сайт интернет магазина, чтобы повысить конверсию и средни...   \n",
       "0   Добавить два новых канала привлечения трафика, что позволит привлекать на 30% больше пользователей   \n",
       "6  Показать на главной странице баннеры с актуальными акциями и распродажами, чтобы увеличить конве...   \n",
       "8                                              Запустить акцию, дающую скидку на товар в день рождения   \n",
       "3  Изменить структура категорий, что увеличит конверсию, т.к. пользователи быстрее найдут нужный товар   \n",
       "1                            Запустить собственную службу доставки, что сократит срок доставки заказов   \n",
       "5             Добавить страницу отзывов клиентов о магазине, что позволит увеличить количество заказов   \n",
       "4                     Изменить цвет фона главной страницы, чтобы увеличить вовлеченность пользователей   \n",
       "\n",
       "   reach  impact  confidence  efforts    ICE   RICE  \n",
       "7     10       7           8        5  11.20  112.0  \n",
       "2      8       3           7        3   7.00   56.0  \n",
       "0      3      10           8        6  13.33   40.0  \n",
       "6      5       3           8        3   8.00   40.0  \n",
       "8      1       9           9        5  16.20   16.2  \n",
       "3      8       3           3        8   1.12    9.0  \n",
       "1      2       5           4       10   2.00    4.0  \n",
       "5      3       2           2        3   1.33    4.0  \n",
       "4      3       1           1        1   1.00    3.0  "
      ]
     },
     "execution_count": 27,
     "metadata": {},
     "output_type": "execute_result"
    }
   ],
   "source": [
    "hypothesis.sort_values(by='RICE', ascending=False)"
   ]
  },
  {
   "cell_type": "markdown",
   "metadata": {},
   "source": [
    "Итак, анализ гипотез во фреймворке ICE на первое место вывел гипотезу о запуске акции, дающей скидку на товар в День рождения, при анализе же по RICE лидером стала гипотеза о добавлении формы подписки на все основные страницы, чтобы собрать базу клиентов для email-рассылок. Причиной подобной расстановки гипотез во втором случае стало то, что гипотеза о проведении акции в День рождения пользователя имеет наименьший показатель по обхвату пользователей, что и привело к снижению ее приоритета во фреймворке RICE"
   ]
  },
  {
   "cell_type": "markdown",
   "metadata": {},
   "source": [
    "### Анализ A/B-теста"
   ]
  },
  {
   "cell_type": "markdown",
   "metadata": {},
   "source": [
    "#### График кумулятивной выручки по группам"
   ]
  },
  {
   "cell_type": "code",
   "execution_count": 28,
   "metadata": {},
   "outputs": [
    {
     "data": {
      "image/png": "[encoded data removed]",
      "text/plain": [
       "<Figure size 576x288 with 1 Axes>"
      ]
     },
     "metadata": {
      "needs_background": "light"
     },
     "output_type": "display_data"
    }
   ],
   "source": [
    "datesGroups = orders[['date', 'group']].drop_duplicates()\n",
    "\n",
    "ordersAggregated = datesGroups.apply(\n",
    "    lambda x: orders[\n",
    "        np.logical_and(\n",
    "            orders['date'] <= x['date'], orders['group'] == x['group']\n",
    "        )\n",
    "    ].agg(\n",
    "        {\n",
    "            'date': 'max',\n",
    "            'group': 'max',\n",
    "            'transaction_id': 'nunique',\n",
    "            'visitor_id': 'nunique',\n",
    "            'revenue': 'sum',\n",
    "        }\n",
    "    ),\n",
    "    axis=1,\n",
    ").sort_values(by=['date', 'group'])\n",
    "\n",
    "visitorsAggregated = datesGroups.apply(\n",
    "    lambda x: visitors[\n",
    "        np.logical_and(\n",
    "            visitors['date'] <= x['date'], visitors['group'] == x['group']\n",
    "        )\n",
    "    ].agg({'date': 'max', 'group': 'max', 'visitors': 'sum'}),\n",
    "    axis=1,\n",
    ").sort_values(by=['date', 'group'])\n",
    "\n",
    "cumulativeData = ordersAggregated.merge(\n",
    "    visitorsAggregated, left_on=['date', 'group'], right_on=['date', 'group']\n",
    ")\n",
    "cumulativeData.columns = [\n",
    "    'date',\n",
    "    'group',\n",
    "    'orders',\n",
    "    'buyers',\n",
    "    'revenue',\n",
    "    'visitors',\n",
    "]\n",
    "\n",
    "cumulativeRevenueA = cumulativeData[cumulativeData['group']=='A'][['date','revenue', 'orders']]\n",
    "cumulativeRevenueB = cumulativeData[cumulativeData['group']=='B'][['date','revenue', 'orders']]\n",
    "fig = plt.figure(figsize=[8,4])\n",
    "plt.plot(cumulativeRevenueA['date'], cumulativeRevenueA['revenue'], label='A')\n",
    "plt.plot(cumulativeRevenueB['date'], cumulativeRevenueB['revenue'], label='B')\n",
    "plt.xticks(rotation=45)\n",
    "plt.title('Кумулятивная выручка по группам')\n",
    "plt.ylabel('Размер кумулятивной выручки')\n",
    "plt.legend();"
   ]
  },
  {
   "cell_type": "code",
   "execution_count": 29,
   "metadata": {},
   "outputs": [
    {
     "data": {
      "text/html": [
       "<div>\n",
       "<style scoped>\n",
       "    .dataframe tbody tr th:only-of-type {\n",
       "        vertical-align: middle;\n",
       "    }\n",
       "\n",
       "    .dataframe tbody tr th {\n",
       "        vertical-align: top;\n",
       "    }\n",
       "\n",
       "    .dataframe thead th {\n",
       "        text-align: right;\n",
       "    }\n",
       "</style>\n",
       "<table border=\"1\" class=\"dataframe\">\n",
       "  <thead>\n",
       "    <tr style=\"text-align: right;\">\n",
       "      <th></th>\n",
       "      <th>transaction_id</th>\n",
       "      <th>visitor_id</th>\n",
       "      <th>date</th>\n",
       "      <th>revenue</th>\n",
       "      <th>group</th>\n",
       "    </tr>\n",
       "  </thead>\n",
       "  <tbody>\n",
       "    <tr>\n",
       "      <th>425</th>\n",
       "      <td>590470918</td>\n",
       "      <td>1920142716</td>\n",
       "      <td>2019-08-19</td>\n",
       "      <td>1294500</td>\n",
       "      <td>B</td>\n",
       "    </tr>\n",
       "    <tr>\n",
       "      <th>1196</th>\n",
       "      <td>3936777065</td>\n",
       "      <td>2108080724</td>\n",
       "      <td>2019-08-15</td>\n",
       "      <td>202740</td>\n",
       "      <td>B</td>\n",
       "    </tr>\n",
       "    <tr>\n",
       "      <th>858</th>\n",
       "      <td>192721366</td>\n",
       "      <td>1316129916</td>\n",
       "      <td>2019-08-27</td>\n",
       "      <td>93940</td>\n",
       "      <td>A</td>\n",
       "    </tr>\n",
       "    <tr>\n",
       "      <th>1136</th>\n",
       "      <td>666610489</td>\n",
       "      <td>1307669133</td>\n",
       "      <td>2019-08-13</td>\n",
       "      <td>92550</td>\n",
       "      <td>A</td>\n",
       "    </tr>\n",
       "    <tr>\n",
       "      <th>744</th>\n",
       "      <td>3668308183</td>\n",
       "      <td>888512513</td>\n",
       "      <td>2019-08-27</td>\n",
       "      <td>86620</td>\n",
       "      <td>B</td>\n",
       "    </tr>\n",
       "    <tr>\n",
       "      <th>682</th>\n",
       "      <td>1216533772</td>\n",
       "      <td>4266935830</td>\n",
       "      <td>2019-08-29</td>\n",
       "      <td>78990</td>\n",
       "      <td>B</td>\n",
       "    </tr>\n",
       "    <tr>\n",
       "      <th>662</th>\n",
       "      <td>1811671147</td>\n",
       "      <td>4266935830</td>\n",
       "      <td>2019-08-29</td>\n",
       "      <td>78990</td>\n",
       "      <td>A</td>\n",
       "    </tr>\n",
       "    <tr>\n",
       "      <th>743</th>\n",
       "      <td>3603576309</td>\n",
       "      <td>4133034833</td>\n",
       "      <td>2019-08-09</td>\n",
       "      <td>67990</td>\n",
       "      <td>A</td>\n",
       "    </tr>\n",
       "    <tr>\n",
       "      <th>1103</th>\n",
       "      <td>1348774318</td>\n",
       "      <td>1164614297</td>\n",
       "      <td>2019-08-12</td>\n",
       "      <td>66350</td>\n",
       "      <td>A</td>\n",
       "    </tr>\n",
       "    <tr>\n",
       "      <th>1099</th>\n",
       "      <td>316924019</td>\n",
       "      <td>148427295</td>\n",
       "      <td>2019-08-12</td>\n",
       "      <td>65710</td>\n",
       "      <td>A</td>\n",
       "    </tr>\n",
       "  </tbody>\n",
       "</table>\n",
       "</div>"
      ],
      "text/plain": [
       "      transaction_id  visitor_id       date  revenue group\n",
       "425        590470918  1920142716 2019-08-19  1294500     B\n",
       "1196      3936777065  2108080724 2019-08-15   202740     B\n",
       "858        192721366  1316129916 2019-08-27    93940     A\n",
       "1136       666610489  1307669133 2019-08-13    92550     A\n",
       "744       3668308183   888512513 2019-08-27    86620     B\n",
       "682       1216533772  4266935830 2019-08-29    78990     B\n",
       "662       1811671147  4266935830 2019-08-29    78990     A\n",
       "743       3603576309  4133034833 2019-08-09    67990     A\n",
       "1103      1348774318  1164614297 2019-08-12    66350     A\n",
       "1099       316924019   148427295 2019-08-12    65710     A"
      ]
     },
     "execution_count": 29,
     "metadata": {},
     "output_type": "execute_result"
    }
   ],
   "source": [
    "orders.sort_values(by='revenue', ascending=False).head(10)"
   ]
  },
  {
   "cell_type": "markdown",
   "metadata": {},
   "source": [
    "Представленный график наглядно демонстрирует, что кумулятивная выручка в группе В стабильно больше, нежели в группе А, более того во второй половине тестируемого периода эта разность стала еще более существенной. Также имеет место резкий скачок кумулятивной выручки в группе В, произошедший в районе 19.08.2019 г., с большей долей вероятности он связан с наличием аномально высокого заказа в это день в указанной группе, проверка этого утверждения будет произведена в лальнейшем анализе"
   ]
  },
  {
   "cell_type": "markdown",
   "metadata": {},
   "source": [
    "#### График кумулятивного среднего чека по группам"
   ]
  },
  {
   "cell_type": "code",
   "execution_count": 30,
   "metadata": {},
   "outputs": [
    {
     "data": {
      "image/png": "[encoded data removed]",
      "text/plain": [
       "<Figure size 576x288 with 1 Axes>"
      ]
     },
     "metadata": {
      "needs_background": "light"
     },
     "output_type": "display_data"
    }
   ],
   "source": [
    "fig = plt.figure(figsize=[8,4])\n",
    "plt.plot(cumulativeRevenueA['date'], cumulativeRevenueA['revenue']/cumulativeRevenueA['orders'], label='A')\n",
    "plt.plot(cumulativeRevenueB['date'], cumulativeRevenueB['revenue']/cumulativeRevenueB['orders'], label='B')\n",
    "plt.xticks(rotation=45)\n",
    "plt.title('Кумулятивный средний чек по группам')\n",
    "plt.ylabel('Размер кумулятивного среднего чека')\n",
    "plt.legend();"
   ]
  },
  {
   "cell_type": "markdown",
   "metadata": {},
   "source": [
    "По показателю среднего чека в тестируемом периоде группа В также лидирует. Здесь наблюдается резкий скачок показателя в группе А 13.08.2019, также наблюдается резкий скачок показателя в группе В примерно 19.08.2019, возможно это связано с наличием аномальных значений в групах, данный факт будет проверен далее"
   ]
  },
  {
   "cell_type": "markdown",
   "metadata": {},
   "source": [
    "#### График относительного изменения кумулятивного среднего чека группы B к группе A"
   ]
  },
  {
   "cell_type": "code",
   "execution_count": 31,
   "metadata": {},
   "outputs": [
    {
     "data": {
      "image/png": "[encoded data removed]",
      "text/plain": [
       "<Figure size 576x432 with 1 Axes>"
      ]
     },
     "metadata": {
      "needs_background": "light"
     },
     "output_type": "display_data"
    }
   ],
   "source": [
    "cumulativeRevenueA = cumulativeData[cumulativeData['group'] == 'A'][\n",
    "    ['date', 'revenue', 'orders']\n",
    "]\n",
    "cumulativeRevenueB = cumulativeData[cumulativeData['group'] == 'B'][\n",
    "    ['date', 'revenue', 'orders']\n",
    "]\n",
    "\n",
    "mergedCumulativeRevenue = cumulativeRevenueA.merge(cumulativeRevenueB, left_on='date', right_on='date', how='left', suffixes=['A', 'B'])\n",
    "fig = plt.figure(figsize=[8,6])\n",
    "plt.plot(mergedCumulativeRevenue['date'], (mergedCumulativeRevenue['revenueB']/mergedCumulativeRevenue['ordersB'])/(mergedCumulativeRevenue['revenueA']/mergedCumulativeRevenue['ordersA'])-1)\n",
    "plt.xticks(rotation=45)\n",
    "plt.title('Относительное изменение кумулятивного среднего чека группы B к группе A')\n",
    "plt.ylabel('Отношение кумулятивного среднего чека группы B к группе A')\n",
    "plt.axhline(y=0, color='black', linestyle='--');"
   ]
  },
  {
   "cell_type": "markdown",
   "metadata": {},
   "source": [
    "Относительные показатели также соответствуют абсолютным - средний чек в группе В больше чека группы А (за исключением момента с возможным наличием аномального значения)"
   ]
  },
  {
   "cell_type": "markdown",
   "metadata": {},
   "source": [
    "#### График кумулятивного среднего количества заказов на посетителя по группам"
   ]
  },
  {
   "cell_type": "code",
   "execution_count": 32,
   "metadata": {},
   "outputs": [
    {
     "data": {
      "text/html": [
       "<div>\n",
       "<style scoped>\n",
       "    .dataframe tbody tr th:only-of-type {\n",
       "        vertical-align: middle;\n",
       "    }\n",
       "\n",
       "    .dataframe tbody tr th {\n",
       "        vertical-align: top;\n",
       "    }\n",
       "\n",
       "    .dataframe thead th {\n",
       "        text-align: right;\n",
       "    }\n",
       "</style>\n",
       "<table border=\"1\" class=\"dataframe\">\n",
       "  <thead>\n",
       "    <tr style=\"text-align: right;\">\n",
       "      <th></th>\n",
       "      <th>date</th>\n",
       "      <th>group</th>\n",
       "      <th>orders</th>\n",
       "      <th>buyers</th>\n",
       "      <th>revenue</th>\n",
       "      <th>visitors</th>\n",
       "    </tr>\n",
       "  </thead>\n",
       "  <tbody>\n",
       "    <tr>\n",
       "      <th>0</th>\n",
       "      <td>2019-08-01</td>\n",
       "      <td>A</td>\n",
       "      <td>24</td>\n",
       "      <td>20</td>\n",
       "      <td>148579</td>\n",
       "      <td>719</td>\n",
       "    </tr>\n",
       "    <tr>\n",
       "      <th>1</th>\n",
       "      <td>2019-08-01</td>\n",
       "      <td>B</td>\n",
       "      <td>21</td>\n",
       "      <td>20</td>\n",
       "      <td>101217</td>\n",
       "      <td>713</td>\n",
       "    </tr>\n",
       "    <tr>\n",
       "      <th>2</th>\n",
       "      <td>2019-08-02</td>\n",
       "      <td>A</td>\n",
       "      <td>44</td>\n",
       "      <td>38</td>\n",
       "      <td>242401</td>\n",
       "      <td>1338</td>\n",
       "    </tr>\n",
       "    <tr>\n",
       "      <th>3</th>\n",
       "      <td>2019-08-02</td>\n",
       "      <td>B</td>\n",
       "      <td>45</td>\n",
       "      <td>43</td>\n",
       "      <td>266748</td>\n",
       "      <td>1294</td>\n",
       "    </tr>\n",
       "    <tr>\n",
       "      <th>4</th>\n",
       "      <td>2019-08-03</td>\n",
       "      <td>A</td>\n",
       "      <td>68</td>\n",
       "      <td>62</td>\n",
       "      <td>354874</td>\n",
       "      <td>1845</td>\n",
       "    </tr>\n",
       "  </tbody>\n",
       "</table>\n",
       "</div>"
      ],
      "text/plain": [
       "        date group  orders  buyers  revenue  visitors\n",
       "0 2019-08-01     A      24      20   148579       719\n",
       "1 2019-08-01     B      21      20   101217       713\n",
       "2 2019-08-02     A      44      38   242401      1338\n",
       "3 2019-08-02     B      45      43   266748      1294\n",
       "4 2019-08-03     A      68      62   354874      1845"
      ]
     },
     "execution_count": 32,
     "metadata": {},
     "output_type": "execute_result"
    }
   ],
   "source": [
    "cumulativeData.head()"
   ]
  },
  {
   "cell_type": "code",
   "execution_count": 33,
   "metadata": {},
   "outputs": [
    {
     "data": {
      "image/png": "[encoded data removed]",
      "text/plain": [
       "<Figure size 864x576 with 1 Axes>"
      ]
     },
     "metadata": {
      "needs_background": "light"
     },
     "output_type": "display_data"
    }
   ],
   "source": [
    "cumulativevisitorsA = cumulativeData[cumulativeData['group']=='A'][['date','visitors', 'orders']]\n",
    "cumulativevisitorsB = cumulativeData[cumulativeData['group']=='B'][['date','visitors', 'orders']]\n",
    "\n",
    "fig = plt.figure(figsize=[12,8])\n",
    "plt.plot(cumulativevisitorsA['date'], cumulativevisitorsA['orders']/cumulativevisitorsA['visitors'], label='A')\n",
    "plt.plot(cumulativevisitorsB['date'], cumulativevisitorsB['orders']/cumulativevisitorsB['visitors'], label='B')\n",
    "plt.xticks(rotation=45)\n",
    "plt.title('Кумулятивное среднее количество заказов на посетителя по группам')\n",
    "plt.ylabel('Размер кумулятивного среднего количества заказов на посетителя')\n",
    "plt.legend();"
   ]
  },
  {
   "cell_type": "markdown",
   "metadata": {},
   "source": [
    "По данному параметру показатели в группе В также существенно выше, нежели показатели группы А, имеют место резкие колебания значений в начале проведения теста, однако они, наверняка, также обусловлены наличием аномальных значений"
   ]
  },
  {
   "cell_type": "markdown",
   "metadata": {},
   "source": [
    "#### График относительного изменения кумулятивного среднего количества заказов на посетителя группы B к группе A"
   ]
  },
  {
   "cell_type": "code",
   "execution_count": 34,
   "metadata": {},
   "outputs": [
    {
     "data": {
      "image/png": "[encoded data removed]",
      "text/plain": [
       "<Figure size 864x576 with 1 Axes>"
      ]
     },
     "metadata": {
      "needs_background": "light"
     },
     "output_type": "display_data"
    }
   ],
   "source": [
    "mergedCumulativevisitors = cumulativevisitorsA.merge(cumulativevisitorsB, left_on='date', right_on='date', how='left', suffixes=['A', 'B'])\n",
    "fig = plt.figure(figsize=[12,8])\n",
    "plt.plot(mergedCumulativevisitors['date'], (mergedCumulativevisitors['ordersB']/mergedCumulativevisitors['visitorsB'])/(mergedCumulativevisitors['ordersA']/mergedCumulativevisitors['visitorsA'])-1)\n",
    "plt.xticks(rotation=45)\n",
    "plt.title('Относительное изменение кумулятивного среднего количества заказов на посетителя группы B к группе A')\n",
    "plt.ylabel('Отношение кумулятивного среднего количества заказов на посетителя')\n",
    "plt.axhline(y=0, color='black', linestyle='--');"
   ]
  },
  {
   "cell_type": "markdown",
   "metadata": {},
   "source": [
    "Относительные значения наглядно показывают, что количество заказов на пользователя в группе В выше, чем в группе А"
   ]
  },
  {
   "cell_type": "markdown",
   "metadata": {},
   "source": [
    "#### Точечный график количества заказов по пользователям"
   ]
  },
  {
   "cell_type": "code",
   "execution_count": 35,
   "metadata": {},
   "outputs": [
    {
     "name": "stdout",
     "output_type": "stream",
     "text": [
      "      visitor_id  orders\n",
      "1023  4256040402      11\n",
      "591   2458001652      11\n",
      "569   2378935119       9\n",
      "487   2038680547       8\n",
      "44     199603092       5\n",
      "...          ...     ...\n",
      "359   1484903144       1\n",
      "360   1485964287       1\n",
      "361   1494664757       1\n",
      "362   1495112755       1\n",
      "1030  4283872382       1\n",
      "\n",
      "[1031 rows x 2 columns]\n"
     ]
    },
    {
     "data": {
      "image/png": "[encoded data removed]",
      "text/plain": [
       "<Figure size 432x288 with 1 Axes>"
      ]
     },
     "metadata": {
      "needs_background": "light"
     },
     "output_type": "display_data"
    }
   ],
   "source": [
    "ordersByUsers = (\n",
    "    orders.groupby('visitor_id', as_index=False)\n",
    "    .agg({'transaction_id': 'nunique'})\n",
    ")\n",
    "ordersByUsers.columns = ['visitor_id', 'orders']\n",
    "print(ordersByUsers.sort_values(by='orders', ascending=False))\n",
    "x_values = pd.Series(range(0, len(ordersByUsers)))\n",
    "\n",
    "plt.scatter(x_values, ordersByUsers['orders'])\n",
    "plt.title('Количество заказов по пользователям')\n",
    "plt.ylabel('Кол-во заказов по пользователямя')\n",
    "plt.xlabel('Пользователи');"
   ]
  },
  {
   "cell_type": "markdown",
   "metadata": {},
   "source": [
    "Представленный выше график наглядно демонстрирует то, что большинство пользователей совершают всего 1 заказ"
   ]
  },
  {
   "cell_type": "markdown",
   "metadata": {},
   "source": [
    "#### 95-й и 99-й перцентили количества заказов на пользователя"
   ]
  },
  {
   "cell_type": "code",
   "execution_count": 36,
   "metadata": {},
   "outputs": [
    {
     "data": {
      "text/plain": [
       "array([1., 2., 4.])"
      ]
     },
     "execution_count": 36,
     "metadata": {},
     "output_type": "execute_result"
    }
   ],
   "source": [
    "np.percentile(ordersByUsers['orders'], [90, 95, 99])"
   ]
  },
  {
   "cell_type": "markdown",
   "metadata": {},
   "source": [
    "Анализ перцентилей также подтверждает, что 95 % пользователей совершают не более 2 заказов, поэтому именно это значение установим в качестве пограничного для выявления \"аномальных\" пользователей"
   ]
  },
  {
   "cell_type": "markdown",
   "metadata": {},
   "source": [
    "#### Точечный график стоимостей заказов"
   ]
  },
  {
   "cell_type": "code",
   "execution_count": 37,
   "metadata": {},
   "outputs": [
    {
     "data": {
      "image/png": "[encoded data removed]",
      "text/plain": [
       "<Figure size 432x288 with 1 Axes>"
      ]
     },
     "metadata": {
      "needs_background": "light"
     },
     "output_type": "display_data"
    }
   ],
   "source": [
    "x_values = pd.Series(range(0, len(orders['revenue'])))\n",
    "plt.scatter(x_values, orders['revenue'])\n",
    "plt.title('Распределение стоимости заказов')\n",
    "plt.ylabel('Стоимость заказов')\n",
    "plt.xlabel('Пользователи');"
   ]
  },
  {
   "cell_type": "markdown",
   "metadata": {},
   "source": [
    "Рассмотрим график в более приближенном варианте:"
   ]
  },
  {
   "cell_type": "code",
   "execution_count": 38,
   "metadata": {},
   "outputs": [
    {
     "data": {
      "image/png": "[encoded data removed]",
      "text/plain": [
       "<Figure size 432x288 with 1 Axes>"
      ]
     },
     "metadata": {
      "needs_background": "light"
     },
     "output_type": "display_data"
    }
   ],
   "source": [
    "x_values = pd.Series(range(0, len(orders['revenue'])))\n",
    "plt.scatter(x_values, orders['revenue'])\n",
    "plt.title('Распределение стоимости заказов')\n",
    "plt.ylabel('Стоимость заказов')\n",
    "plt.axis([0, 1300, 0, 200000])\n",
    "plt.xlabel('Пользователи');"
   ]
  },
  {
   "cell_type": "markdown",
   "metadata": {},
   "source": [
    "Представленный график наглядно демонстрирует то, что большинство пользователей совершают покупки на сумму, не превышающую 100 000"
   ]
  },
  {
   "cell_type": "markdown",
   "metadata": {},
   "source": [
    "#### 95-й и 99-й перцентили стоимости заказов"
   ]
  },
  {
   "cell_type": "code",
   "execution_count": 39,
   "metadata": {},
   "outputs": [
    {
     "data": {
      "text/plain": [
       "array([18168. , 28000. , 58233.2])"
      ]
     },
     "execution_count": 39,
     "metadata": {},
     "output_type": "execute_result"
    }
   ],
   "source": [
    "np.percentile(orders['revenue'], [90, 95, 99])"
   ]
  },
  {
   "cell_type": "code",
   "execution_count": 40,
   "metadata": {},
   "outputs": [
    {
     "data": {
      "text/html": [
       "<div>\n",
       "<style scoped>\n",
       "    .dataframe tbody tr th:only-of-type {\n",
       "        vertical-align: middle;\n",
       "    }\n",
       "\n",
       "    .dataframe tbody tr th {\n",
       "        vertical-align: top;\n",
       "    }\n",
       "\n",
       "    .dataframe thead th {\n",
       "        text-align: right;\n",
       "    }\n",
       "</style>\n",
       "<table border=\"1\" class=\"dataframe\">\n",
       "  <thead>\n",
       "    <tr style=\"text-align: right;\">\n",
       "      <th></th>\n",
       "      <th>transaction_id</th>\n",
       "      <th>visitor_id</th>\n",
       "      <th>date</th>\n",
       "      <th>revenue</th>\n",
       "      <th>group</th>\n",
       "    </tr>\n",
       "  </thead>\n",
       "  <tbody>\n",
       "    <tr>\n",
       "      <th>940</th>\n",
       "      <td>2420050534</td>\n",
       "      <td>4003628586</td>\n",
       "      <td>2019-08-08</td>\n",
       "      <td>58550</td>\n",
       "      <td>B</td>\n",
       "    </tr>\n",
       "    <tr>\n",
       "      <th>949</th>\n",
       "      <td>1347999392</td>\n",
       "      <td>887908475</td>\n",
       "      <td>2019-08-21</td>\n",
       "      <td>60450</td>\n",
       "      <td>A</td>\n",
       "    </tr>\n",
       "    <tr>\n",
       "      <th>1099</th>\n",
       "      <td>316924019</td>\n",
       "      <td>148427295</td>\n",
       "      <td>2019-08-12</td>\n",
       "      <td>65710</td>\n",
       "      <td>A</td>\n",
       "    </tr>\n",
       "    <tr>\n",
       "      <th>1103</th>\n",
       "      <td>1348774318</td>\n",
       "      <td>1164614297</td>\n",
       "      <td>2019-08-12</td>\n",
       "      <td>66350</td>\n",
       "      <td>A</td>\n",
       "    </tr>\n",
       "    <tr>\n",
       "      <th>743</th>\n",
       "      <td>3603576309</td>\n",
       "      <td>4133034833</td>\n",
       "      <td>2019-08-09</td>\n",
       "      <td>67990</td>\n",
       "      <td>A</td>\n",
       "    </tr>\n",
       "    <tr>\n",
       "      <th>662</th>\n",
       "      <td>1811671147</td>\n",
       "      <td>4266935830</td>\n",
       "      <td>2019-08-29</td>\n",
       "      <td>78990</td>\n",
       "      <td>A</td>\n",
       "    </tr>\n",
       "    <tr>\n",
       "      <th>682</th>\n",
       "      <td>1216533772</td>\n",
       "      <td>4266935830</td>\n",
       "      <td>2019-08-29</td>\n",
       "      <td>78990</td>\n",
       "      <td>B</td>\n",
       "    </tr>\n",
       "    <tr>\n",
       "      <th>744</th>\n",
       "      <td>3668308183</td>\n",
       "      <td>888512513</td>\n",
       "      <td>2019-08-27</td>\n",
       "      <td>86620</td>\n",
       "      <td>B</td>\n",
       "    </tr>\n",
       "    <tr>\n",
       "      <th>1136</th>\n",
       "      <td>666610489</td>\n",
       "      <td>1307669133</td>\n",
       "      <td>2019-08-13</td>\n",
       "      <td>92550</td>\n",
       "      <td>A</td>\n",
       "    </tr>\n",
       "    <tr>\n",
       "      <th>858</th>\n",
       "      <td>192721366</td>\n",
       "      <td>1316129916</td>\n",
       "      <td>2019-08-27</td>\n",
       "      <td>93940</td>\n",
       "      <td>A</td>\n",
       "    </tr>\n",
       "    <tr>\n",
       "      <th>1196</th>\n",
       "      <td>3936777065</td>\n",
       "      <td>2108080724</td>\n",
       "      <td>2019-08-15</td>\n",
       "      <td>202740</td>\n",
       "      <td>B</td>\n",
       "    </tr>\n",
       "    <tr>\n",
       "      <th>425</th>\n",
       "      <td>590470918</td>\n",
       "      <td>1920142716</td>\n",
       "      <td>2019-08-19</td>\n",
       "      <td>1294500</td>\n",
       "      <td>B</td>\n",
       "    </tr>\n",
       "  </tbody>\n",
       "</table>\n",
       "</div>"
      ],
      "text/plain": [
       "      transaction_id  visitor_id       date  revenue group\n",
       "940       2420050534  4003628586 2019-08-08    58550     B\n",
       "949       1347999392   887908475 2019-08-21    60450     A\n",
       "1099       316924019   148427295 2019-08-12    65710     A\n",
       "1103      1348774318  1164614297 2019-08-12    66350     A\n",
       "743       3603576309  4133034833 2019-08-09    67990     A\n",
       "662       1811671147  4266935830 2019-08-29    78990     A\n",
       "682       1216533772  4266935830 2019-08-29    78990     B\n",
       "744       3668308183   888512513 2019-08-27    86620     B\n",
       "1136       666610489  1307669133 2019-08-13    92550     A\n",
       "858        192721366  1316129916 2019-08-27    93940     A\n",
       "1196      3936777065  2108080724 2019-08-15   202740     B\n",
       "425        590470918  1920142716 2019-08-19  1294500     B"
      ]
     },
     "execution_count": 40,
     "metadata": {},
     "output_type": "execute_result"
    }
   ],
   "source": [
    "orders_max_revenue = orders.loc[orders['revenue']>58233.2].sort_values(by='revenue')\n",
    "orders_max_revenue"
   ]
  },
  {
   "cell_type": "markdown",
   "metadata": {},
   "source": [
    "Анализ перцентилей также подтверждает, что не менее 95 % пользователей совершают заказы на свумму не более 28 000, поэтому именно это значение установим в качестве пограничного для выявления \"аномальных\" пользователей.\n",
    "\n",
    "Отфильтрованная по мтоимости таблица также показывает, что действительно в обеих группах присутствуют \"выбросы\", и в группе А как раз 13.08.2019 совершен заказ на сумму, сильно выше большинства прочих значений в ней - 93 940, а в группе В как раз 19.08.2019 также совершен очень крупный заказ на сумму 1 294 500, что и привело к таким резким скачкам на графиках, поэтому далее будет выявлено, сохранятся ли представленные выше тенденции при устранении аномальных значений в группах"
   ]
  },
  {
   "cell_type": "markdown",
   "metadata": {},
   "source": [
    "**Итак, теперь необходимо выяснить, насколько существенны различия в показателях среднего количества заказов на посетителя и среднего чека заказа по группам со статистической точки зрения.\n",
    "Для оценки значимости различий будет использован непараметрический тест Уилкоксона-Манна-Уитни.\n",
    "Уровень значимости alpha определим в размере 0.05**"
   ]
  },
  {
   "cell_type": "markdown",
   "metadata": {},
   "source": [
    "#### Расчет статистической значимости различий в среднем количестве заказов на посетителя между группами по «сырым» данным"
   ]
  },
  {
   "cell_type": "markdown",
   "metadata": {},
   "source": [
    "Для начала проверим следующие гипотезы:\n",
    "\n",
    "Н0: Разница в среднем количестве заказов на посетителя между группами статистически не значима, вывод о различии сделать нельзя\n",
    "\n",
    "Н1: Разница в среднем количестве заказов на посетителя между группами статистически значима, различия между группами существенны"
   ]
  },
  {
   "cell_type": "code",
   "execution_count": 41,
   "metadata": {},
   "outputs": [
    {
     "name": "stdout",
     "output_type": "stream",
     "text": [
      "p-value: 0.017\n",
      "Относительное различие в среднем количестве заказов на посетителя между группами: 0.138\n"
     ]
    }
   ],
   "source": [
    "visitorsADaily = visitors[visitors['group'] == 'A'][['date', 'visitors']]\n",
    "visitorsADaily.columns = ['date', 'visitorsPerDateA']\n",
    "\n",
    "visitorsACummulative = visitorsADaily.apply(\n",
    "    lambda x: visitorsADaily[visitorsADaily['date'] <= x['date']].agg(\n",
    "        {'date': 'max', 'visitorsPerDateA': 'sum'}\n",
    "    ),\n",
    "    axis=1,\n",
    ")\n",
    "visitorsACummulative.columns = ['date', 'visitorsCummulativeA']\n",
    "\n",
    "visitorsBDaily = visitors[visitors['group'] == 'B'][['date', 'visitors']]\n",
    "visitorsBDaily.columns = ['date', 'visitorsPerDateB']\n",
    "\n",
    "visitorsBCummulative = visitorsBDaily.apply(\n",
    "    lambda x: visitorsBDaily[visitorsBDaily['date'] <= x['date']].agg(\n",
    "        {'date': 'max', 'visitorsPerDateB': 'sum'}\n",
    "    ),\n",
    "    axis=1,\n",
    ")\n",
    "visitorsBCummulative.columns = ['date', 'visitorsCummulativeB']\n",
    "\n",
    "ordersADaily = (\n",
    "    orders[orders['group'] == 'A'][['date', 'transaction_id', 'visitor_id', 'revenue']]\n",
    "    .groupby('date', as_index=False)\n",
    "    .agg({'visitor_id': pd.Series.nunique, 'revenue': 'sum'})\n",
    ")\n",
    "ordersADaily.columns = ['date', 'ordersPerDateA', 'revenuePerDateA']\n",
    "\n",
    "ordersACummulative = ordersADaily.apply(\n",
    "    lambda x: ordersADaily[ordersADaily['date'] <= x['date']].agg(\n",
    "        {'date': 'max', 'ordersPerDateA': 'sum', 'revenuePerDateA': 'sum'}\n",
    "    ),\n",
    "    axis=1,\n",
    ").sort_values(by=['date'])\n",
    "ordersACummulative.columns = [\n",
    "    'date',\n",
    "    'ordersCummulativeA',\n",
    "    'revenueCummulativeA',\n",
    "]\n",
    "\n",
    "ordersBDaily = (\n",
    "    orders[orders['group'] == 'B'][['date', 'transaction_id', 'visitor_id', 'revenue']]\n",
    "    .groupby('date', as_index=False)\n",
    "    .agg({'visitor_id': pd.Series.nunique, 'revenue': 'sum'})\n",
    ")\n",
    "ordersBDaily.columns = ['date', 'ordersPerDateB', 'revenuePerDateB']\n",
    "\n",
    "ordersBCummulative = ordersBDaily.apply(\n",
    "    lambda x: ordersBDaily[ordersBDaily['date'] <= x['date']].agg(\n",
    "        {'date': 'max', 'ordersPerDateB': 'sum', 'revenuePerDateB': 'sum'}\n",
    "    ),\n",
    "    axis=1,\n",
    ").sort_values(by=['date'])\n",
    "ordersBCummulative.columns = [\n",
    "    'date',\n",
    "    'ordersCummulativeB',\n",
    "    'revenueCummulativeB',\n",
    "]\n",
    "\n",
    "data = (\n",
    "    ordersADaily.merge(\n",
    "        ordersBDaily, left_on='date', right_on='date', how='left'\n",
    "    )\n",
    "    .merge(ordersACummulative, left_on='date', right_on='date', how='left')\n",
    "    .merge(ordersBCummulative, left_on='date', right_on='date', how='left')\n",
    "    .merge(visitorsADaily, left_on='date', right_on='date', how='left')\n",
    "    .merge(visitorsBDaily, left_on='date', right_on='date', how='left')\n",
    "    .merge(visitorsACummulative, left_on='date', right_on='date', how='left')\n",
    "    .merge(visitorsBCummulative, left_on='date', right_on='date', how='left')\n",
    ")\n",
    "\n",
    "ordersByUsersA = (\n",
    "    orders[orders['group'] == 'A']\n",
    "    .groupby('visitor_id', as_index=False)\n",
    "    .agg({'transaction_id': pd.Series.nunique})\n",
    ")\n",
    "ordersByUsersA.columns = ['visitor_id', 'orders']\n",
    "\n",
    "ordersByUsersB = (\n",
    "    orders[orders['group'] == 'B']\n",
    "    .groupby('visitor_id', as_index=False)\n",
    "    .agg({'transaction_id': pd.Series.nunique})\n",
    ")\n",
    "ordersByUsersB.columns = ['visitor_id', 'orders'] \n",
    "pd.Series(0, index=np.arange(data['visitorsPerDateA'].sum() - len(ordersByUsersA['orders'])), name='orders')\n",
    "[ordersByUsersA['orders'],pd.Series(0, index=np.arange(data['visitorsPerDateA'].sum() - len(ordersByUsersA['orders'])), name='orders')]\n",
    "sampleA = pd.concat([ordersByUsersA['orders'],pd.Series(0, index=np.arange(data['visitorsPerDateA'].sum() - len(ordersByUsersA['orders'])), name='orders')],axis=0)\n",
    "sampleB = pd.concat([ordersByUsersB['orders'],pd.Series(0, index=np.arange(data['visitorsPerDateB'].sum() - len(ordersByUsersB['orders'])), name='orders')],axis=0) \n",
    "sampleA = pd.concat(\n",
    "    [\n",
    "        ordersByUsersA['orders'],\n",
    "        pd.Series(\n",
    "            0,\n",
    "            index=np.arange(\n",
    "                data['visitorsPerDateA'].sum() - len(ordersByUsersA['orders'])\n",
    "            ),\n",
    "            name='orders',\n",
    "        ),\n",
    "    ],\n",
    "    axis=0,\n",
    ")\n",
    "\n",
    "sampleB = pd.concat(\n",
    "    [\n",
    "        ordersByUsersB['orders'],\n",
    "        pd.Series(\n",
    "            0,\n",
    "            index=np.arange(\n",
    "                data['visitorsPerDateB'].sum() - len(ordersByUsersB['orders'])\n",
    "            ),\n",
    "            name='orders',\n",
    "        ),\n",
    "    ],\n",
    "    axis=0,\n",
    ")\n",
    "\n",
    "print('p-value: {0:.3f}'.format(stats.mannwhitneyu(sampleA, sampleB)[1]))\n",
    "\n",
    "print('Относительное различие в среднем количестве заказов на посетителя между группами: {0:.3f}'.format(sampleB.mean() / sampleA.mean() - 1))"
   ]
  },
  {
   "cell_type": "markdown",
   "metadata": {},
   "source": [
    "Итак, расчет статистической значимости различий в среднем количестве заказов на посетителя между группами по «сырым» данным показал, что различия имеются и они достаточно существенны - 13,8 % (то есть гипотеза Н0 о том, что разница в среднем количестве заказов на посетителя между группами статистически не значима, вывод о различии сделать нельзя, отклоняется ввиду того, что p-значение (p-value), равное 0.017, меньше установленного уровня значимости - 0.05)"
   ]
  },
  {
   "cell_type": "markdown",
   "metadata": {},
   "source": [
    "#### Расчет статистической значимости различий в среднем чеке заказа между группами по «сырым» данным"
   ]
  },
  {
   "cell_type": "markdown",
   "metadata": {},
   "source": [
    "Далее проверим следующие гипотезы:\n",
    "\n",
    "Н0: Разница в среднем чеке заказа между группами статистически не значима, вывод о различии сделать нельзя\n",
    "\n",
    "Н1: Разница в среднем чеке заказа на посетителя между группами статистически значима, различия между группами существенны"
   ]
  },
  {
   "cell_type": "code",
   "execution_count": 42,
   "metadata": {},
   "outputs": [
    {
     "name": "stdout",
     "output_type": "stream",
     "text": [
      "p-value: 0.729\n",
      "Oтносительный прирост среднего чека группы B по отношению к группе А: 0.259\n"
     ]
    }
   ],
   "source": [
    "print('p-value: {0:.3f}'.format(stats.mannwhitneyu(orders[orders['group']=='A']['revenue'], orders[orders['group']=='B']['revenue'])[1]))\n",
    "print('Oтносительный прирост среднего чека группы B по отношению к группе А: {0:.3f}'.format(orders[orders['group']=='B']['revenue'].mean()/orders[orders['group']=='A']['revenue'].mean()-1))"
   ]
  },
  {
   "cell_type": "markdown",
   "metadata": {},
   "source": [
    "А вот по показателю среднего чека картина складываеся совсем иная: несмотря на относительную разницу между группами в почти 26%, большое значение p-value характеризует данное различие как несущественное (Н0 отклонить невозможно)"
   ]
  },
  {
   "cell_type": "markdown",
   "metadata": {},
   "source": [
    "#### Расчет статистической значимости различий в среднем количестве заказов на посетителя между группами по «очищенным» данным"
   ]
  },
  {
   "cell_type": "code",
   "execution_count": 43,
   "metadata": {},
   "outputs": [
    {
     "data": {
      "text/plain": [
       "1099     148427295\n",
       "18       199603092\n",
       "928      204675465\n",
       "23       237748145\n",
       "37       249864742\n",
       "           ...    \n",
       "723     4009017467\n",
       "627     4120364173\n",
       "743     4133034833\n",
       "499     4256040402\n",
       "662     4266935830\n",
       "Name: visitor_id, Length: 74, dtype: int64"
      ]
     },
     "execution_count": 43,
     "metadata": {},
     "output_type": "execute_result"
    }
   ],
   "source": [
    "usersWithManyOrders = pd.concat(\n",
    "    [\n",
    "        ordersByUsersA[ordersByUsersA['orders'] >2]['visitor_id'],\n",
    "        ordersByUsersB[ordersByUsersB['orders'] >2]['visitor_id'],\n",
    "    ],\n",
    "    axis=0,\n",
    ")\n",
    "usersWithExpensiveOrders = orders[orders['revenue'] > 28000]['visitor_id']\n",
    "abnormalUsers = (\n",
    "    pd.concat([usersWithManyOrders, usersWithExpensiveOrders], axis=0)\n",
    "    .drop_duplicates()\n",
    "    .sort_values()\n",
    ")\n",
    "abnormalUsers"
   ]
  },
  {
   "cell_type": "markdown",
   "metadata": {},
   "source": [
    "**Таким образом, данные будут очищены о  выбросов по значениям 95-ого перцентиля**"
   ]
  },
  {
   "cell_type": "markdown",
   "metadata": {},
   "source": [
    "Теперь проверим гипотезы на основе очищенных от аномалий данных:\n",
    "\n",
    "Н0: Разница в среднем количестве заказов на посетителя между группами статистически не значима, вывод о различии сделать нельзя\n",
    "\n",
    "Н1: Разница в среднем количестве заказов на посетителя между группами статистически значима, различия между группами существенны"
   ]
  },
  {
   "cell_type": "code",
   "execution_count": 44,
   "metadata": {},
   "outputs": [
    {
     "name": "stdout",
     "output_type": "stream",
     "text": [
      "p-value: 0.013\n",
      "Относительное различие в среднем количестве заказов на посетителя между группами: 0.173\n"
     ]
    }
   ],
   "source": [
    "sampleAFiltered = pd.concat(\n",
    "    [\n",
    "        ordersByUsersA[\n",
    "            np.logical_not(ordersByUsersA['visitor_id'].isin(abnormalUsers))\n",
    "        ]['orders'],\n",
    "        pd.Series(\n",
    "            0,\n",
    "            index=np.arange(\n",
    "                data['visitorsPerDateA'].sum() - len(ordersByUsersA['orders'])\n",
    "            ),\n",
    "            name='orders',\n",
    "        ),\n",
    "    ],\n",
    "    axis=0,\n",
    ")\n",
    "\n",
    "sampleBFiltered = pd.concat(\n",
    "    [\n",
    "        ordersByUsersB[\n",
    "            np.logical_not(ordersByUsersB['visitor_id'].isin(abnormalUsers))\n",
    "        ]['orders'],\n",
    "        pd.Series(\n",
    "            0,\n",
    "            index=np.arange(\n",
    "                data['visitorsPerDateB'].sum() - len(ordersByUsersB['orders'])\n",
    "            ),\n",
    "            name='orders',\n",
    "        ),\n",
    "    ],\n",
    "    axis=0,\n",
    ") \n",
    "print('p-value: {0:.3f}'.format(stats.mannwhitneyu(sampleAFiltered, sampleBFiltered)[1]))\n",
    "\n",
    "print('Относительное различие в среднем количестве заказов на посетителя между группами: {0:.3f}'.format(sampleBFiltered.mean() / sampleAFiltered.mean() - 1))"
   ]
  },
  {
   "cell_type": "markdown",
   "metadata": {},
   "source": [
    "Итак, расчет статистической значимости различий в среднем количестве заказов на посетителя между группами по \"очищенным\" данным вывел примерно те же значения, что и по \"сырым\": различия между группами имеются и они достаточно существенны (размер p-value в 0.013 меньше уровня занчимости в 0.05, поэтому и здесь гипотеза Н0 отклоняется, а альтернативная гипотеза принимается) "
   ]
  },
  {
   "cell_type": "markdown",
   "metadata": {},
   "source": [
    "#### Расчет статистической значимости различий в среднем чеке заказа между группами по «очищенным» данным"
   ]
  },
  {
   "cell_type": "markdown",
   "metadata": {},
   "source": [
    "Далее проверим гипотезы относительно среднего чека по очищенным от аномалий данным:\n",
    "\n",
    "Н0: Разница в среднем чеке заказа между группами статистически не значима, вывод о различии сделать нельзя\n",
    "\n",
    "Н1: Разница в среднем чеке заказа на посетителя между группами статистически значима, различия между группами существенны"
   ]
  },
  {
   "cell_type": "code",
   "execution_count": 45,
   "metadata": {},
   "outputs": [
    {
     "name": "stdout",
     "output_type": "stream",
     "text": [
      "p-value: 0.738\n",
      "Oтносительный прирост среднего чека группы B по отношению к группе А: -0.020\n"
     ]
    }
   ],
   "source": [
    "print(\n",
    "    'p-value: {0:.3f}'.format(\n",
    "        stats.mannwhitneyu(\n",
    "            orders[\n",
    "                np.logical_and(\n",
    "                    orders['group'] == 'A',\n",
    "                    np.logical_not(orders['visitor_id'].isin(abnormalUsers))\n",
    "                )\n",
    "            ]['revenue'],\n",
    "            orders[\n",
    "                np.logical_and(\n",
    "                    orders['group'] == 'B',\n",
    "                    np.logical_not(orders['visitor_id'].isin(abnormalUsers))\n",
    "                )\n",
    "            ]['revenue']\n",
    "        )[1]\n",
    "    )\n",
    ")\n",
    "print(\n",
    "    \"Oтносительный прирост среднего чека группы B по отношению к группе А: {0:.3f}\".format(\n",
    "        orders[\n",
    "            np.logical_and(\n",
    "                orders['group'] == 'B',\n",
    "                np.logical_not(orders['visitor_id'].isin(abnormalUsers))\n",
    "            )\n",
    "        ]['revenue'].mean()\n",
    "        / orders[\n",
    "            np.logical_and(\n",
    "                orders['group'] == 'A',\n",
    "                np.logical_not(orders['visitor_id'].isin(abnormalUsers))\n",
    "            )\n",
    "        ]['revenue'].mean()\n",
    "        - 1\n",
    "    )\n",
    ")"
   ]
  },
  {
   "cell_type": "markdown",
   "metadata": {},
   "source": [
    "По очищенным от аномалий данным по показателю среднего чека картина складываеся аналогично даным \"сырым\": снова большое значение p-value (существенно выше уровня значимости в 0.05) характеризует различие между группами как несущественное, то есть принимается гипотеза Н0"
   ]
  },
  {
   "cell_type": "markdown",
   "metadata": {},
   "source": [
    "#### Вывод по результатам теста"
   ]
  },
  {
   "cell_type": "markdown",
   "metadata": {},
   "source": [
    "Итак, результаты проведенного А/В-теста можно подытожить следующими выводами:\n",
    "\n",
    "- если говорить про абсолютные показатели, то здесть группа В значительно опережает группу А по всем показателям, таким как кумулятивная выручка и кумулятивный средний чек, кумулятивное среднее количество заказов на посетителя;\n",
    "\n",
    "- если рассматривать результаты  различия показателей групп с точки зрения статистическо значимости, расчет статистической значимости различий в среднем количестве заказов на посетителя между группами как по «сырым», так и по отфильтрованным без аномалий данным показал, что различия между группами имеются и они достаточно существенны - 13,8 % (абсолютные показатели по группе В выше, чем в группе А), по показателю же среднего чека как по \"сырым\", так и по отфильтрованным данным, где в абсолютных показателях также лидировала группа В, статистический тест характеризует различие между группами как несущественное.\n",
    "\n",
    "Таким образом, по результатам проведенного теста лидирующие позиции по всем показателям имеет группа В, так что можно с уверенностью говорить о том, что внедрение исследуемых мероприятий наверняка даст свой положительный результат. И так как в целом тест длился уже достаточно долгое количество времени, и во второй половине исследуемого периода его показатели по группам, судя по представленным графикам, стабилизировались, то продолжать дальнейшее тестирование не имеет под собой рациональных оснований. Поэтому тест необходимо остановить и признать победу группы В"
   ]
  }
 ],
 "metadata": {
  "ExecuteTimeLog": [
   {
    "duration": 1457,
    "start_time": "2023-04-06T19:15:01.832Z"
   },
   {
    "duration": 122,
    "start_time": "2023-04-06T19:17:00.056Z"
   },
   {
    "duration": 17,
    "start_time": "2023-04-06T19:18:04.891Z"
   },
   {
    "duration": 12,
    "start_time": "2023-04-06T19:18:39.895Z"
   },
   {
    "duration": 8,
    "start_time": "2023-04-06T19:18:45.890Z"
   },
   {
    "duration": 8,
    "start_time": "2023-04-06T19:18:52.461Z"
   },
   {
    "duration": 9,
    "start_time": "2023-04-06T19:19:04.405Z"
   },
   {
    "duration": 12,
    "start_time": "2023-04-06T19:19:59.265Z"
   },
   {
    "duration": 4,
    "start_time": "2023-04-06T19:22:04.484Z"
   },
   {
    "duration": 11,
    "start_time": "2023-04-06T19:22:35.130Z"
   },
   {
    "duration": 14,
    "start_time": "2023-04-06T19:23:46.268Z"
   },
   {
    "duration": 17,
    "start_time": "2023-04-06T19:24:21.059Z"
   },
   {
    "duration": 3,
    "start_time": "2023-04-06T19:26:20.532Z"
   },
   {
    "duration": 6,
    "start_time": "2023-04-06T19:27:11.503Z"
   },
   {
    "duration": 4,
    "start_time": "2023-04-06T19:30:36.313Z"
   },
   {
    "duration": 6,
    "start_time": "2023-04-06T19:31:24.961Z"
   },
   {
    "duration": 10,
    "start_time": "2023-04-06T19:31:35.737Z"
   },
   {
    "duration": 10,
    "start_time": "2023-04-06T19:31:57.665Z"
   },
   {
    "duration": 102,
    "start_time": "2023-04-06T19:33:58.719Z"
   },
   {
    "duration": 14,
    "start_time": "2023-04-06T19:34:57.541Z"
   },
   {
    "duration": 10,
    "start_time": "2023-04-06T19:35:33.238Z"
   },
   {
    "duration": 5,
    "start_time": "2023-04-06T19:36:35.247Z"
   },
   {
    "duration": 6,
    "start_time": "2023-04-06T19:36:59.569Z"
   },
   {
    "duration": 11,
    "start_time": "2023-04-06T19:37:09.255Z"
   },
   {
    "duration": 3043,
    "start_time": "2023-04-06T19:42:34.500Z"
   },
   {
    "duration": 8,
    "start_time": "2023-04-06T19:42:48.092Z"
   },
   {
    "duration": 10,
    "start_time": "2023-04-06T19:43:34.249Z"
   },
   {
    "duration": 2077,
    "start_time": "2023-04-06T19:45:01.760Z"
   },
   {
    "duration": 62,
    "start_time": "2023-04-06T19:45:03.840Z"
   },
   {
    "duration": 13,
    "start_time": "2023-04-06T19:45:03.904Z"
   },
   {
    "duration": 12,
    "start_time": "2023-04-06T19:45:03.919Z"
   },
   {
    "duration": 10,
    "start_time": "2023-04-06T19:45:03.932Z"
   },
   {
    "duration": 13,
    "start_time": "2023-04-06T19:45:03.943Z"
   },
   {
    "duration": 14,
    "start_time": "2023-04-06T19:45:03.957Z"
   },
   {
    "duration": 11,
    "start_time": "2023-04-06T19:45:03.989Z"
   },
   {
    "duration": 6,
    "start_time": "2023-04-06T19:45:04.002Z"
   },
   {
    "duration": 10,
    "start_time": "2023-04-06T19:45:04.011Z"
   },
   {
    "duration": 3,
    "start_time": "2023-04-06T19:45:04.023Z"
   },
   {
    "duration": 16,
    "start_time": "2023-04-06T19:45:04.028Z"
   },
   {
    "duration": 11,
    "start_time": "2023-04-06T19:45:04.046Z"
   },
   {
    "duration": 38,
    "start_time": "2023-04-06T19:45:04.059Z"
   },
   {
    "duration": 11,
    "start_time": "2023-04-06T19:45:04.099Z"
   },
   {
    "duration": 6,
    "start_time": "2023-04-06T19:45:04.112Z"
   },
   {
    "duration": 9,
    "start_time": "2023-04-06T19:45:04.120Z"
   },
   {
    "duration": 11,
    "start_time": "2023-04-06T19:45:04.131Z"
   },
   {
    "duration": 12,
    "start_time": "2023-04-06T19:45:04.144Z"
   },
   {
    "duration": 34,
    "start_time": "2023-04-06T19:45:04.157Z"
   },
   {
    "duration": 397,
    "start_time": "2023-04-06T19:46:42.309Z"
   },
   {
    "duration": 96,
    "start_time": "2023-04-06T19:46:48.159Z"
   },
   {
    "duration": 4,
    "start_time": "2023-04-06T19:47:43.448Z"
   },
   {
    "duration": 9,
    "start_time": "2023-04-06T19:47:53.986Z"
   },
   {
    "duration": 262,
    "start_time": "2023-04-06T19:48:23.291Z"
   },
   {
    "duration": 4,
    "start_time": "2023-04-06T19:48:30.637Z"
   },
   {
    "duration": 10,
    "start_time": "2023-04-06T19:48:33.298Z"
   },
   {
    "duration": 5,
    "start_time": "2023-04-06T19:49:51.269Z"
   },
   {
    "duration": 11,
    "start_time": "2023-04-06T19:50:12.097Z"
   },
   {
    "duration": 1557,
    "start_time": "2023-04-07T19:23:43.479Z"
   },
   {
    "duration": 120,
    "start_time": "2023-04-07T19:25:01.297Z"
   },
   {
    "duration": 1301,
    "start_time": "2023-04-07T19:25:28.758Z"
   },
   {
    "duration": 194,
    "start_time": "2023-04-07T19:25:30.062Z"
   },
   {
    "duration": 17,
    "start_time": "2023-04-07T19:25:30.258Z"
   },
   {
    "duration": 24,
    "start_time": "2023-04-07T19:25:30.278Z"
   },
   {
    "duration": 36,
    "start_time": "2023-04-07T19:25:30.303Z"
   },
   {
    "duration": 64,
    "start_time": "2023-04-07T19:25:30.340Z"
   },
   {
    "duration": 31,
    "start_time": "2023-04-07T19:25:30.406Z"
   },
   {
    "duration": 28,
    "start_time": "2023-04-07T19:25:30.439Z"
   },
   {
    "duration": 55,
    "start_time": "2023-04-07T19:25:30.470Z"
   },
   {
    "duration": 49,
    "start_time": "2023-04-07T19:25:30.527Z"
   },
   {
    "duration": 38,
    "start_time": "2023-04-07T19:25:30.578Z"
   },
   {
    "duration": 31,
    "start_time": "2023-04-07T19:25:30.618Z"
   },
   {
    "duration": 37,
    "start_time": "2023-04-07T19:25:30.650Z"
   },
   {
    "duration": 28,
    "start_time": "2023-04-07T19:25:30.689Z"
   },
   {
    "duration": 25,
    "start_time": "2023-04-07T19:25:30.719Z"
   },
   {
    "duration": 28,
    "start_time": "2023-04-07T19:25:30.746Z"
   },
   {
    "duration": 19,
    "start_time": "2023-04-07T19:25:30.776Z"
   },
   {
    "duration": 25,
    "start_time": "2023-04-07T19:25:30.797Z"
   },
   {
    "duration": 43,
    "start_time": "2023-04-07T19:25:30.823Z"
   },
   {
    "duration": 52,
    "start_time": "2023-04-07T19:25:30.868Z"
   },
   {
    "duration": 60,
    "start_time": "2023-04-07T19:25:30.922Z"
   },
   {
    "duration": 54,
    "start_time": "2023-04-07T19:25:30.983Z"
   },
   {
    "duration": 187,
    "start_time": "2023-04-07T19:25:31.041Z"
   },
   {
    "duration": 43,
    "start_time": "2023-04-07T19:27:02.751Z"
   },
   {
    "duration": 13,
    "start_time": "2023-04-07T19:27:50.889Z"
   },
   {
    "duration": 11,
    "start_time": "2023-04-07T20:05:57.786Z"
   },
   {
    "duration": 618,
    "start_time": "2023-04-07T20:07:41.597Z"
   },
   {
    "duration": 665,
    "start_time": "2023-04-07T20:13:28.943Z"
   },
   {
    "duration": 499,
    "start_time": "2023-04-07T20:14:16.436Z"
   },
   {
    "duration": 631,
    "start_time": "2023-04-07T20:22:35.659Z"
   },
   {
    "duration": 596,
    "start_time": "2023-04-07T20:22:58.592Z"
   },
   {
    "duration": 732,
    "start_time": "2023-04-07T20:24:56.944Z"
   },
   {
    "duration": 471,
    "start_time": "2023-04-07T20:25:22.770Z"
   },
   {
    "duration": 648,
    "start_time": "2023-04-07T20:26:17.954Z"
   },
   {
    "duration": 561,
    "start_time": "2023-04-07T20:29:07.331Z"
   },
   {
    "duration": 478,
    "start_time": "2023-04-07T20:29:15.451Z"
   },
   {
    "duration": 5,
    "start_time": "2023-04-07T20:30:06.423Z"
   },
   {
    "duration": 539,
    "start_time": "2023-04-07T20:30:16.067Z"
   },
   {
    "duration": 621,
    "start_time": "2023-04-07T20:30:34.073Z"
   },
   {
    "duration": 184,
    "start_time": "2023-04-07T20:32:41.301Z"
   },
   {
    "duration": 181,
    "start_time": "2023-04-07T20:32:55.798Z"
   },
   {
    "duration": 288,
    "start_time": "2023-04-07T20:35:37.863Z"
   },
   {
    "duration": 408,
    "start_time": "2023-04-07T20:35:53.261Z"
   },
   {
    "duration": 3,
    "start_time": "2023-04-07T20:37:49.015Z"
   },
   {
    "duration": 10,
    "start_time": "2023-04-07T20:42:49.810Z"
   },
   {
    "duration": 765,
    "start_time": "2023-04-07T20:44:52.088Z"
   },
   {
    "duration": 752,
    "start_time": "2023-04-07T20:47:12.201Z"
   },
   {
    "duration": 186,
    "start_time": "2023-04-07T20:47:49.894Z"
   },
   {
    "duration": 2,
    "start_time": "2023-04-07T20:48:53.634Z"
   },
   {
    "duration": 197,
    "start_time": "2023-04-07T20:53:54.859Z"
   },
   {
    "duration": 260,
    "start_time": "2023-04-07T20:57:10.724Z"
   },
   {
    "duration": 8,
    "start_time": "2023-04-07T21:04:45.699Z"
   },
   {
    "duration": 10,
    "start_time": "2023-04-07T21:08:27.100Z"
   },
   {
    "duration": 119,
    "start_time": "2023-04-07T21:09:48.893Z"
   },
   {
    "duration": 110,
    "start_time": "2023-04-07T21:12:44.997Z"
   },
   {
    "duration": 117,
    "start_time": "2023-04-07T21:13:56.002Z"
   },
   {
    "duration": 116,
    "start_time": "2023-04-07T21:14:34.718Z"
   },
   {
    "duration": 121,
    "start_time": "2023-04-07T21:14:40.850Z"
   },
   {
    "duration": 197,
    "start_time": "2023-04-07T21:15:16.514Z"
   },
   {
    "duration": 130,
    "start_time": "2023-04-07T21:15:55.036Z"
   },
   {
    "duration": 133,
    "start_time": "2023-04-07T21:16:24.034Z"
   },
   {
    "duration": 2,
    "start_time": "2023-04-07T21:18:01.533Z"
   },
   {
    "duration": 6,
    "start_time": "2023-04-07T21:19:58.972Z"
   },
   {
    "duration": 3,
    "start_time": "2023-04-07T21:21:09.348Z"
   },
   {
    "duration": 129,
    "start_time": "2023-04-07T21:25:28.206Z"
   },
   {
    "duration": 3,
    "start_time": "2023-04-07T21:26:27.854Z"
   },
   {
    "duration": 6,
    "start_time": "2023-04-07T21:27:12.595Z"
   },
   {
    "duration": 3,
    "start_time": "2023-04-07T21:28:35.278Z"
   },
   {
    "duration": 9,
    "start_time": "2023-04-07T21:32:56.964Z"
   },
   {
    "duration": 8,
    "start_time": "2023-04-07T21:33:13.142Z"
   },
   {
    "duration": 390,
    "start_time": "2023-04-07T21:40:36.864Z"
   },
   {
    "duration": 3,
    "start_time": "2023-04-07T21:41:21.187Z"
   },
   {
    "duration": 381,
    "start_time": "2023-04-07T21:41:28.064Z"
   },
   {
    "duration": 452,
    "start_time": "2023-04-07T21:41:53.663Z"
   },
   {
    "duration": 371,
    "start_time": "2023-04-07T21:42:17.727Z"
   },
   {
    "duration": 366,
    "start_time": "2023-04-07T21:44:18.356Z"
   },
   {
    "duration": 401,
    "start_time": "2023-04-07T21:45:07.183Z"
   },
   {
    "duration": 3,
    "start_time": "2023-04-07T21:46:14.732Z"
   },
   {
    "duration": 10,
    "start_time": "2023-04-07T21:50:40.234Z"
   },
   {
    "duration": 360,
    "start_time": "2023-04-07T21:53:27.899Z"
   },
   {
    "duration": 3,
    "start_time": "2023-04-07T21:54:43.836Z"
   },
   {
    "duration": 9,
    "start_time": "2023-04-07T22:00:16.853Z"
   },
   {
    "duration": 11,
    "start_time": "2023-04-07T22:00:32.585Z"
   },
   {
    "duration": 11,
    "start_time": "2023-04-07T22:00:38.925Z"
   },
   {
    "duration": 8,
    "start_time": "2023-04-07T22:10:06.897Z"
   },
   {
    "duration": 29,
    "start_time": "2023-04-07T22:10:32.457Z"
   },
   {
    "duration": 45,
    "start_time": "2023-04-09T04:47:41.938Z"
   },
   {
    "duration": 1362,
    "start_time": "2023-04-09T04:47:52.702Z"
   },
   {
    "duration": 235,
    "start_time": "2023-04-09T04:47:54.066Z"
   },
   {
    "duration": 12,
    "start_time": "2023-04-09T04:47:54.303Z"
   },
   {
    "duration": 11,
    "start_time": "2023-04-09T04:47:54.317Z"
   },
   {
    "duration": 8,
    "start_time": "2023-04-09T04:47:54.330Z"
   },
   {
    "duration": 18,
    "start_time": "2023-04-09T04:47:54.339Z"
   },
   {
    "duration": 11,
    "start_time": "2023-04-09T04:47:54.359Z"
   },
   {
    "duration": 13,
    "start_time": "2023-04-09T04:47:54.371Z"
   },
   {
    "duration": 8,
    "start_time": "2023-04-09T04:47:54.386Z"
   },
   {
    "duration": 7,
    "start_time": "2023-04-09T04:47:54.396Z"
   },
   {
    "duration": 12,
    "start_time": "2023-04-09T04:47:54.404Z"
   },
   {
    "duration": 19,
    "start_time": "2023-04-09T04:47:54.418Z"
   },
   {
    "duration": 21,
    "start_time": "2023-04-09T04:47:54.439Z"
   },
   {
    "duration": 14,
    "start_time": "2023-04-09T04:47:54.463Z"
   },
   {
    "duration": 11,
    "start_time": "2023-04-09T04:47:54.479Z"
   },
   {
    "duration": 13,
    "start_time": "2023-04-09T04:47:54.491Z"
   },
   {
    "duration": 30,
    "start_time": "2023-04-09T04:47:54.506Z"
   },
   {
    "duration": 18,
    "start_time": "2023-04-09T04:47:54.538Z"
   },
   {
    "duration": 20,
    "start_time": "2023-04-09T04:47:54.558Z"
   },
   {
    "duration": 27,
    "start_time": "2023-04-09T04:47:54.580Z"
   },
   {
    "duration": 18,
    "start_time": "2023-04-09T04:47:54.610Z"
   },
   {
    "duration": 22,
    "start_time": "2023-04-09T04:47:54.630Z"
   },
   {
    "duration": 18,
    "start_time": "2023-04-09T04:47:54.654Z"
   },
   {
    "duration": 15,
    "start_time": "2023-04-09T04:47:54.674Z"
   },
   {
    "duration": 506,
    "start_time": "2023-04-09T04:47:54.691Z"
   },
   {
    "duration": 182,
    "start_time": "2023-04-09T04:47:55.199Z"
   },
   {
    "duration": 386,
    "start_time": "2023-04-09T04:47:55.383Z"
   },
   {
    "duration": 9,
    "start_time": "2023-04-09T04:47:55.772Z"
   },
   {
    "duration": 179,
    "start_time": "2023-04-09T04:47:55.782Z"
   },
   {
    "duration": 245,
    "start_time": "2023-04-09T04:47:55.962Z"
   },
   {
    "duration": 10,
    "start_time": "2023-04-09T04:47:56.208Z"
   },
   {
    "duration": 121,
    "start_time": "2023-04-09T04:47:56.219Z"
   },
   {
    "duration": 5,
    "start_time": "2023-04-09T04:47:56.341Z"
   },
   {
    "duration": 134,
    "start_time": "2023-04-09T04:47:56.348Z"
   },
   {
    "duration": 5,
    "start_time": "2023-04-09T04:47:56.483Z"
   },
   {
    "duration": 363,
    "start_time": "2023-04-09T04:47:56.490Z"
   },
   {
    "duration": 10,
    "start_time": "2023-04-09T04:47:56.855Z"
   },
   {
    "duration": 10,
    "start_time": "2023-04-09T04:47:56.867Z"
   },
   {
    "duration": 26,
    "start_time": "2023-04-09T04:47:56.878Z"
   },
   {
    "duration": 1239,
    "start_time": "2023-04-09T04:47:56.905Z"
   },
   {
    "duration": 27,
    "start_time": "2023-04-09T04:48:29.178Z"
   },
   {
    "duration": 103,
    "start_time": "2023-04-09T04:58:57.784Z"
   },
   {
    "duration": 181,
    "start_time": "2023-04-09T05:01:36.187Z"
   },
   {
    "duration": 360,
    "start_time": "2023-04-09T05:02:54.369Z"
   },
   {
    "duration": 324,
    "start_time": "2023-04-09T05:03:17.602Z"
   },
   {
    "duration": 14,
    "start_time": "2023-04-09T05:07:50.633Z"
   },
   {
    "duration": 9,
    "start_time": "2023-04-09T05:08:14.842Z"
   },
   {
    "duration": 343,
    "start_time": "2023-04-09T05:08:25.823Z"
   },
   {
    "duration": 14,
    "start_time": "2023-04-09T05:08:42.150Z"
   },
   {
    "duration": 13,
    "start_time": "2023-04-09T05:09:37.875Z"
   },
   {
    "duration": 14,
    "start_time": "2023-04-09T05:10:07.002Z"
   },
   {
    "duration": 14,
    "start_time": "2023-04-09T05:10:19.071Z"
   },
   {
    "duration": 16,
    "start_time": "2023-04-09T05:12:32.795Z"
   },
   {
    "duration": 15,
    "start_time": "2023-04-09T05:13:04.857Z"
   },
   {
    "duration": 100,
    "start_time": "2023-04-09T05:13:17.929Z"
   },
   {
    "duration": 91,
    "start_time": "2023-04-09T05:13:28.360Z"
   },
   {
    "duration": 87,
    "start_time": "2023-04-09T05:13:34.523Z"
   },
   {
    "duration": 21,
    "start_time": "2023-04-09T05:13:44.535Z"
   },
   {
    "duration": 15,
    "start_time": "2023-04-09T05:14:06.776Z"
   },
   {
    "duration": 14,
    "start_time": "2023-04-09T05:14:15.095Z"
   },
   {
    "duration": 88,
    "start_time": "2023-04-09T05:14:52.615Z"
   },
   {
    "duration": 19,
    "start_time": "2023-04-09T05:15:04.824Z"
   },
   {
    "duration": 14,
    "start_time": "2023-04-09T05:15:19.223Z"
   },
   {
    "duration": 33,
    "start_time": "2023-04-09T05:15:38.143Z"
   },
   {
    "duration": 27,
    "start_time": "2023-04-09T05:15:54.104Z"
   },
   {
    "duration": 11,
    "start_time": "2023-04-09T05:16:05.708Z"
   },
   {
    "duration": 11,
    "start_time": "2023-04-09T05:16:13.661Z"
   },
   {
    "duration": 348,
    "start_time": "2023-04-09T05:16:36.186Z"
   },
   {
    "duration": 402,
    "start_time": "2023-04-09T05:21:22.522Z"
   },
   {
    "duration": 408,
    "start_time": "2023-04-09T05:22:03.162Z"
   },
   {
    "duration": 546,
    "start_time": "2023-04-09T05:22:22.888Z"
   },
   {
    "duration": 494,
    "start_time": "2023-04-09T05:22:35.902Z"
   },
   {
    "duration": 283,
    "start_time": "2023-04-09T05:24:49.289Z"
   },
   {
    "duration": 260,
    "start_time": "2023-04-09T05:25:14.354Z"
   },
   {
    "duration": 491,
    "start_time": "2023-04-09T05:25:48.315Z"
   },
   {
    "duration": 465,
    "start_time": "2023-04-09T05:25:56.116Z"
   },
   {
    "duration": 235,
    "start_time": "2023-04-09T05:30:04.554Z"
   },
   {
    "duration": 307,
    "start_time": "2023-04-09T05:30:19.965Z"
   },
   {
    "duration": 239,
    "start_time": "2023-04-09T05:30:27.667Z"
   },
   {
    "duration": 381,
    "start_time": "2023-04-09T05:30:36.433Z"
   },
   {
    "duration": 116,
    "start_time": "2023-04-09T05:30:55.665Z"
   },
   {
    "duration": 107,
    "start_time": "2023-04-09T05:31:14.266Z"
   },
   {
    "duration": 63,
    "start_time": "2023-04-09T18:04:00.754Z"
   },
   {
    "duration": 40,
    "start_time": "2023-04-09T18:25:51.915Z"
   },
   {
    "duration": 48,
    "start_time": "2023-04-09T18:26:07.415Z"
   },
   {
    "duration": 0,
    "start_time": "2023-04-09T18:26:07.465Z"
   },
   {
    "duration": 0,
    "start_time": "2023-04-09T18:26:07.467Z"
   },
   {
    "duration": 0,
    "start_time": "2023-04-09T18:26:07.468Z"
   },
   {
    "duration": 0,
    "start_time": "2023-04-09T18:26:07.470Z"
   },
   {
    "duration": 0,
    "start_time": "2023-04-09T18:26:07.471Z"
   },
   {
    "duration": 0,
    "start_time": "2023-04-09T18:26:07.472Z"
   },
   {
    "duration": 0,
    "start_time": "2023-04-09T18:26:07.473Z"
   },
   {
    "duration": 0,
    "start_time": "2023-04-09T18:26:07.473Z"
   },
   {
    "duration": 0,
    "start_time": "2023-04-09T18:26:07.474Z"
   },
   {
    "duration": 0,
    "start_time": "2023-04-09T18:26:07.474Z"
   },
   {
    "duration": 0,
    "start_time": "2023-04-09T18:26:07.475Z"
   },
   {
    "duration": 1,
    "start_time": "2023-04-09T18:26:07.478Z"
   },
   {
    "duration": 0,
    "start_time": "2023-04-09T18:26:07.479Z"
   },
   {
    "duration": 0,
    "start_time": "2023-04-09T18:26:07.480Z"
   },
   {
    "duration": 0,
    "start_time": "2023-04-09T18:26:07.481Z"
   },
   {
    "duration": 0,
    "start_time": "2023-04-09T18:26:07.482Z"
   },
   {
    "duration": 0,
    "start_time": "2023-04-09T18:26:07.483Z"
   },
   {
    "duration": 0,
    "start_time": "2023-04-09T18:26:07.483Z"
   },
   {
    "duration": 0,
    "start_time": "2023-04-09T18:26:07.484Z"
   },
   {
    "duration": 0,
    "start_time": "2023-04-09T18:26:07.484Z"
   },
   {
    "duration": 0,
    "start_time": "2023-04-09T18:26:07.485Z"
   },
   {
    "duration": 97,
    "start_time": "2023-04-09T18:26:07.486Z"
   },
   {
    "duration": 0,
    "start_time": "2023-04-09T18:26:07.588Z"
   },
   {
    "duration": 0,
    "start_time": "2023-04-09T18:26:07.589Z"
   },
   {
    "duration": 0,
    "start_time": "2023-04-09T18:26:07.590Z"
   },
   {
    "duration": 0,
    "start_time": "2023-04-09T18:26:07.591Z"
   },
   {
    "duration": 0,
    "start_time": "2023-04-09T18:26:07.592Z"
   },
   {
    "duration": 0,
    "start_time": "2023-04-09T18:26:07.593Z"
   },
   {
    "duration": 0,
    "start_time": "2023-04-09T18:26:07.595Z"
   },
   {
    "duration": 0,
    "start_time": "2023-04-09T18:26:07.596Z"
   },
   {
    "duration": 0,
    "start_time": "2023-04-09T18:26:07.597Z"
   },
   {
    "duration": 0,
    "start_time": "2023-04-09T18:26:07.599Z"
   },
   {
    "duration": 0,
    "start_time": "2023-04-09T18:26:07.600Z"
   },
   {
    "duration": 0,
    "start_time": "2023-04-09T18:26:07.601Z"
   },
   {
    "duration": 0,
    "start_time": "2023-04-09T18:26:07.602Z"
   },
   {
    "duration": 0,
    "start_time": "2023-04-09T18:26:07.603Z"
   },
   {
    "duration": 0,
    "start_time": "2023-04-09T18:26:07.604Z"
   },
   {
    "duration": 0,
    "start_time": "2023-04-09T18:26:07.605Z"
   },
   {
    "duration": 0,
    "start_time": "2023-04-09T18:26:07.607Z"
   },
   {
    "duration": 1364,
    "start_time": "2023-04-09T18:26:30.861Z"
   },
   {
    "duration": 210,
    "start_time": "2023-04-09T18:26:32.227Z"
   },
   {
    "duration": 10,
    "start_time": "2023-04-09T18:26:32.439Z"
   },
   {
    "duration": 10,
    "start_time": "2023-04-09T18:26:32.451Z"
   },
   {
    "duration": 4,
    "start_time": "2023-04-09T18:26:32.462Z"
   },
   {
    "duration": 29,
    "start_time": "2023-04-09T18:26:32.467Z"
   },
   {
    "duration": 15,
    "start_time": "2023-04-09T18:26:32.498Z"
   },
   {
    "duration": 20,
    "start_time": "2023-04-09T18:26:32.514Z"
   },
   {
    "duration": 14,
    "start_time": "2023-04-09T18:26:32.536Z"
   },
   {
    "duration": 4,
    "start_time": "2023-04-09T18:26:32.553Z"
   },
   {
    "duration": 18,
    "start_time": "2023-04-09T18:26:32.559Z"
   },
   {
    "duration": 11,
    "start_time": "2023-04-09T18:26:32.581Z"
   },
   {
    "duration": 16,
    "start_time": "2023-04-09T18:26:32.594Z"
   },
   {
    "duration": 13,
    "start_time": "2023-04-09T18:26:32.612Z"
   },
   {
    "duration": 19,
    "start_time": "2023-04-09T18:26:32.627Z"
   },
   {
    "duration": 25,
    "start_time": "2023-04-09T18:26:32.648Z"
   },
   {
    "duration": 21,
    "start_time": "2023-04-09T18:26:32.676Z"
   },
   {
    "duration": 15,
    "start_time": "2023-04-09T18:26:32.698Z"
   },
   {
    "duration": 12,
    "start_time": "2023-04-09T18:26:32.715Z"
   },
   {
    "duration": 11,
    "start_time": "2023-04-09T18:26:32.729Z"
   },
   {
    "duration": 13,
    "start_time": "2023-04-09T18:26:32.741Z"
   },
   {
    "duration": 5,
    "start_time": "2023-04-09T18:26:32.756Z"
   },
   {
    "duration": 23,
    "start_time": "2023-04-09T18:26:32.776Z"
   },
   {
    "duration": 648,
    "start_time": "2023-04-09T18:26:32.802Z"
   },
   {
    "duration": 212,
    "start_time": "2023-04-09T18:26:33.452Z"
   },
   {
    "duration": 343,
    "start_time": "2023-04-09T18:26:33.668Z"
   },
   {
    "duration": 8,
    "start_time": "2023-04-09T18:26:34.013Z"
   },
   {
    "duration": 231,
    "start_time": "2023-04-09T18:26:34.024Z"
   },
   {
    "duration": 332,
    "start_time": "2023-04-09T18:26:34.257Z"
   },
   {
    "duration": 8,
    "start_time": "2023-04-09T18:26:34.591Z"
   },
   {
    "duration": 120,
    "start_time": "2023-04-09T18:26:34.600Z"
   },
   {
    "duration": 6,
    "start_time": "2023-04-09T18:26:34.722Z"
   },
   {
    "duration": 160,
    "start_time": "2023-04-09T18:26:34.730Z"
   },
   {
    "duration": 5,
    "start_time": "2023-04-09T18:26:34.891Z"
   },
   {
    "duration": 364,
    "start_time": "2023-04-09T18:26:34.898Z"
   },
   {
    "duration": 20,
    "start_time": "2023-04-09T18:26:35.269Z"
   },
   {
    "duration": 18,
    "start_time": "2023-04-09T18:26:35.291Z"
   },
   {
    "duration": 25,
    "start_time": "2023-04-09T18:26:35.311Z"
   },
   {
    "duration": 118,
    "start_time": "2023-04-09T18:26:35.338Z"
   },
   {
    "duration": 0,
    "start_time": "2023-04-09T18:26:35.458Z"
   },
   {
    "duration": 3,
    "start_time": "2023-04-09T18:26:50.109Z"
   },
   {
    "duration": 5,
    "start_time": "2023-04-09T18:27:26.272Z"
   },
   {
    "duration": 1066,
    "start_time": "2023-04-09T18:27:35.232Z"
   },
   {
    "duration": 59,
    "start_time": "2023-04-09T18:27:36.300Z"
   },
   {
    "duration": 17,
    "start_time": "2023-04-09T18:27:36.362Z"
   },
   {
    "duration": 13,
    "start_time": "2023-04-09T18:27:36.385Z"
   },
   {
    "duration": 5,
    "start_time": "2023-04-09T18:27:36.399Z"
   },
   {
    "duration": 33,
    "start_time": "2023-04-09T18:27:36.405Z"
   },
   {
    "duration": 13,
    "start_time": "2023-04-09T18:27:36.440Z"
   },
   {
    "duration": 3,
    "start_time": "2023-04-09T18:27:36.455Z"
   },
   {
    "duration": 16,
    "start_time": "2023-04-09T18:27:36.459Z"
   },
   {
    "duration": 5,
    "start_time": "2023-04-09T18:27:36.484Z"
   },
   {
    "duration": 6,
    "start_time": "2023-04-09T18:27:36.490Z"
   },
   {
    "duration": 9,
    "start_time": "2023-04-09T18:27:36.498Z"
   },
   {
    "duration": 15,
    "start_time": "2023-04-09T18:27:36.508Z"
   },
   {
    "duration": 14,
    "start_time": "2023-04-09T18:27:36.524Z"
   },
   {
    "duration": 5,
    "start_time": "2023-04-09T18:27:36.539Z"
   },
   {
    "duration": 32,
    "start_time": "2023-04-09T18:27:36.545Z"
   },
   {
    "duration": 10,
    "start_time": "2023-04-09T18:27:36.581Z"
   },
   {
    "duration": 24,
    "start_time": "2023-04-09T18:27:36.593Z"
   },
   {
    "duration": 10,
    "start_time": "2023-04-09T18:27:36.619Z"
   },
   {
    "duration": 23,
    "start_time": "2023-04-09T18:27:36.631Z"
   },
   {
    "duration": 7,
    "start_time": "2023-04-09T18:27:36.656Z"
   },
   {
    "duration": 34,
    "start_time": "2023-04-09T18:27:36.664Z"
   },
   {
    "duration": 593,
    "start_time": "2023-04-09T18:27:36.700Z"
   },
   {
    "duration": 212,
    "start_time": "2023-04-09T18:27:37.294Z"
   },
   {
    "duration": 294,
    "start_time": "2023-04-09T18:27:37.507Z"
   },
   {
    "duration": 9,
    "start_time": "2023-04-09T18:27:37.802Z"
   },
   {
    "duration": 234,
    "start_time": "2023-04-09T18:27:37.813Z"
   },
   {
    "duration": 358,
    "start_time": "2023-04-09T18:27:38.050Z"
   },
   {
    "duration": 61,
    "start_time": "2023-04-09T18:27:38.410Z"
   },
   {
    "duration": 229,
    "start_time": "2023-04-09T18:27:38.473Z"
   },
   {
    "duration": 5,
    "start_time": "2023-04-09T18:27:38.704Z"
   },
   {
    "duration": 292,
    "start_time": "2023-04-09T18:27:38.710Z"
   },
   {
    "duration": 7,
    "start_time": "2023-04-09T18:27:39.004Z"
   },
   {
    "duration": 884,
    "start_time": "2023-04-09T18:27:39.012Z"
   },
   {
    "duration": 12,
    "start_time": "2023-04-09T18:27:39.899Z"
   },
   {
    "duration": 65,
    "start_time": "2023-04-09T18:27:39.913Z"
   },
   {
    "duration": 27,
    "start_time": "2023-04-09T18:27:39.982Z"
   },
   {
    "duration": 271,
    "start_time": "2023-04-09T18:27:40.011Z"
   },
   {
    "duration": 0,
    "start_time": "2023-04-09T18:27:40.288Z"
   },
   {
    "duration": 9,
    "start_time": "2023-04-09T18:27:46.629Z"
   },
   {
    "duration": 8,
    "start_time": "2023-04-09T18:28:34.948Z"
   },
   {
    "duration": 10,
    "start_time": "2023-04-09T18:28:47.882Z"
   },
   {
    "duration": 9,
    "start_time": "2023-04-09T18:28:55.896Z"
   },
   {
    "duration": 9,
    "start_time": "2023-04-09T18:29:18.883Z"
   },
   {
    "duration": 4,
    "start_time": "2023-04-09T18:30:11.803Z"
   },
   {
    "duration": 1069,
    "start_time": "2023-04-09T18:30:19.517Z"
   },
   {
    "duration": 61,
    "start_time": "2023-04-09T18:30:20.588Z"
   },
   {
    "duration": 11,
    "start_time": "2023-04-09T18:30:20.651Z"
   },
   {
    "duration": 18,
    "start_time": "2023-04-09T18:30:20.664Z"
   },
   {
    "duration": 7,
    "start_time": "2023-04-09T18:30:20.684Z"
   },
   {
    "duration": 20,
    "start_time": "2023-04-09T18:30:20.693Z"
   },
   {
    "duration": 17,
    "start_time": "2023-04-09T18:30:20.715Z"
   },
   {
    "duration": 7,
    "start_time": "2023-04-09T18:30:20.734Z"
   },
   {
    "duration": 6,
    "start_time": "2023-04-09T18:30:20.743Z"
   },
   {
    "duration": 16,
    "start_time": "2023-04-09T18:30:20.751Z"
   },
   {
    "duration": 7,
    "start_time": "2023-04-09T18:30:20.769Z"
   },
   {
    "duration": 11,
    "start_time": "2023-04-09T18:30:20.778Z"
   },
   {
    "duration": 12,
    "start_time": "2023-04-09T18:30:20.790Z"
   },
   {
    "duration": 11,
    "start_time": "2023-04-09T18:30:20.804Z"
   },
   {
    "duration": 4,
    "start_time": "2023-04-09T18:30:20.816Z"
   },
   {
    "duration": 8,
    "start_time": "2023-04-09T18:30:20.822Z"
   },
   {
    "duration": 45,
    "start_time": "2023-04-09T18:30:20.832Z"
   },
   {
    "duration": 13,
    "start_time": "2023-04-09T18:30:20.879Z"
   },
   {
    "duration": 6,
    "start_time": "2023-04-09T18:30:20.894Z"
   },
   {
    "duration": 11,
    "start_time": "2023-04-09T18:30:20.901Z"
   },
   {
    "duration": 24,
    "start_time": "2023-04-09T18:30:20.913Z"
   },
   {
    "duration": 13,
    "start_time": "2023-04-09T18:30:20.939Z"
   },
   {
    "duration": 568,
    "start_time": "2023-04-09T18:30:20.954Z"
   },
   {
    "duration": 206,
    "start_time": "2023-04-09T18:30:21.523Z"
   },
   {
    "duration": 338,
    "start_time": "2023-04-09T18:30:21.731Z"
   },
   {
    "duration": 9,
    "start_time": "2023-04-09T18:30:22.071Z"
   },
   {
    "duration": 227,
    "start_time": "2023-04-09T18:30:22.081Z"
   },
   {
    "duration": 343,
    "start_time": "2023-04-09T18:30:22.311Z"
   },
   {
    "duration": 13,
    "start_time": "2023-04-09T18:30:22.656Z"
   },
   {
    "duration": 128,
    "start_time": "2023-04-09T18:30:22.671Z"
   },
   {
    "duration": 5,
    "start_time": "2023-04-09T18:30:22.801Z"
   },
   {
    "duration": 123,
    "start_time": "2023-04-09T18:30:22.808Z"
   },
   {
    "duration": 6,
    "start_time": "2023-04-09T18:30:22.932Z"
   },
   {
    "duration": 382,
    "start_time": "2023-04-09T18:30:22.940Z"
   },
   {
    "duration": 10,
    "start_time": "2023-04-09T18:30:23.323Z"
   },
   {
    "duration": 15,
    "start_time": "2023-04-09T18:30:23.334Z"
   },
   {
    "duration": 40,
    "start_time": "2023-04-09T18:30:23.350Z"
   },
   {
    "duration": 123,
    "start_time": "2023-04-09T18:30:23.392Z"
   },
   {
    "duration": 0,
    "start_time": "2023-04-09T18:30:23.517Z"
   },
   {
    "duration": 1036,
    "start_time": "2023-04-09T18:32:06.202Z"
   },
   {
    "duration": 63,
    "start_time": "2023-04-09T18:32:07.240Z"
   },
   {
    "duration": 12,
    "start_time": "2023-04-09T18:32:07.304Z"
   },
   {
    "duration": 10,
    "start_time": "2023-04-09T18:32:07.319Z"
   },
   {
    "duration": 3,
    "start_time": "2023-04-09T18:32:07.330Z"
   },
   {
    "duration": 17,
    "start_time": "2023-04-09T18:32:07.334Z"
   },
   {
    "duration": 10,
    "start_time": "2023-04-09T18:32:07.352Z"
   },
   {
    "duration": 4,
    "start_time": "2023-04-09T18:32:07.363Z"
   },
   {
    "duration": 6,
    "start_time": "2023-04-09T18:32:07.368Z"
   },
   {
    "duration": 3,
    "start_time": "2023-04-09T18:32:07.377Z"
   },
   {
    "duration": 6,
    "start_time": "2023-04-09T18:32:07.382Z"
   },
   {
    "duration": 9,
    "start_time": "2023-04-09T18:32:07.390Z"
   },
   {
    "duration": 11,
    "start_time": "2023-04-09T18:32:07.401Z"
   },
   {
    "duration": 12,
    "start_time": "2023-04-09T18:32:07.414Z"
   },
   {
    "duration": 41,
    "start_time": "2023-04-09T18:32:07.428Z"
   },
   {
    "duration": 6,
    "start_time": "2023-04-09T18:32:07.471Z"
   },
   {
    "duration": 15,
    "start_time": "2023-04-09T18:32:07.479Z"
   },
   {
    "duration": 9,
    "start_time": "2023-04-09T18:32:07.496Z"
   },
   {
    "duration": 9,
    "start_time": "2023-04-09T18:32:07.507Z"
   },
   {
    "duration": 13,
    "start_time": "2023-04-09T18:32:07.518Z"
   },
   {
    "duration": 37,
    "start_time": "2023-04-09T18:32:07.533Z"
   },
   {
    "duration": 15,
    "start_time": "2023-04-09T18:32:07.572Z"
   },
   {
    "duration": 573,
    "start_time": "2023-04-09T18:32:07.588Z"
   },
   {
    "duration": 209,
    "start_time": "2023-04-09T18:32:08.168Z"
   },
   {
    "duration": 296,
    "start_time": "2023-04-09T18:32:08.379Z"
   },
   {
    "duration": 11,
    "start_time": "2023-04-09T18:32:08.677Z"
   },
   {
    "duration": 237,
    "start_time": "2023-04-09T18:32:08.690Z"
   },
   {
    "duration": 374,
    "start_time": "2023-04-09T18:32:08.930Z"
   },
   {
    "duration": 9,
    "start_time": "2023-04-09T18:32:09.305Z"
   },
   {
    "duration": 144,
    "start_time": "2023-04-09T18:32:09.316Z"
   },
   {
    "duration": 5,
    "start_time": "2023-04-09T18:32:09.461Z"
   },
   {
    "duration": 122,
    "start_time": "2023-04-09T18:32:09.468Z"
   },
   {
    "duration": 5,
    "start_time": "2023-04-09T18:32:09.591Z"
   },
   {
    "duration": 362,
    "start_time": "2023-04-09T18:32:09.597Z"
   },
   {
    "duration": 12,
    "start_time": "2023-04-09T18:32:09.961Z"
   },
   {
    "duration": 12,
    "start_time": "2023-04-09T18:32:09.975Z"
   },
   {
    "duration": 23,
    "start_time": "2023-04-09T18:32:09.988Z"
   },
   {
    "duration": 120,
    "start_time": "2023-04-09T18:32:10.012Z"
   },
   {
    "duration": 0,
    "start_time": "2023-04-09T18:32:10.134Z"
   },
   {
    "duration": 569,
    "start_time": "2023-04-09T18:44:48.161Z"
   },
   {
    "duration": 423,
    "start_time": "2023-04-09T18:45:37.449Z"
   },
   {
    "duration": 418,
    "start_time": "2023-04-09T18:46:03.950Z"
   },
   {
    "duration": 420,
    "start_time": "2023-04-09T18:46:11.970Z"
   },
   {
    "duration": 193,
    "start_time": "2023-04-09T18:46:59.402Z"
   },
   {
    "duration": 261,
    "start_time": "2023-04-09T18:47:40.575Z"
   },
   {
    "duration": 195,
    "start_time": "2023-04-09T18:47:58.961Z"
   },
   {
    "duration": 286,
    "start_time": "2023-04-09T18:48:16.118Z"
   },
   {
    "duration": 102,
    "start_time": "2023-04-09T18:49:33.179Z"
   },
   {
    "duration": 18,
    "start_time": "2023-04-09T18:51:46.972Z"
   },
   {
    "duration": 157,
    "start_time": "2023-04-09T18:52:45.136Z"
   },
   {
    "duration": 324,
    "start_time": "2023-04-09T18:53:21.457Z"
   },
   {
    "duration": 333,
    "start_time": "2023-04-09T18:54:01.987Z"
   },
   {
    "duration": 19,
    "start_time": "2023-04-09T18:54:53.976Z"
   },
   {
    "duration": 18,
    "start_time": "2023-04-09T18:55:14.373Z"
   },
   {
    "duration": 164,
    "start_time": "2023-04-09T19:00:06.410Z"
   },
   {
    "duration": 520,
    "start_time": "2023-04-09T19:00:41.775Z"
   },
   {
    "duration": 321,
    "start_time": "2023-04-09T19:01:21.839Z"
   },
   {
    "duration": 1078,
    "start_time": "2023-04-09T19:01:30.800Z"
   },
   {
    "duration": 61,
    "start_time": "2023-04-09T19:01:31.880Z"
   },
   {
    "duration": 11,
    "start_time": "2023-04-09T19:01:31.943Z"
   },
   {
    "duration": 11,
    "start_time": "2023-04-09T19:01:31.955Z"
   },
   {
    "duration": 16,
    "start_time": "2023-04-09T19:01:31.967Z"
   },
   {
    "duration": 24,
    "start_time": "2023-04-09T19:01:31.984Z"
   },
   {
    "duration": 9,
    "start_time": "2023-04-09T19:01:32.009Z"
   },
   {
    "duration": 16,
    "start_time": "2023-04-09T19:01:32.020Z"
   },
   {
    "duration": 24,
    "start_time": "2023-04-09T19:01:32.038Z"
   },
   {
    "duration": 28,
    "start_time": "2023-04-09T19:01:32.066Z"
   },
   {
    "duration": 26,
    "start_time": "2023-04-09T19:01:32.095Z"
   },
   {
    "duration": 11,
    "start_time": "2023-04-09T19:01:32.122Z"
   },
   {
    "duration": 16,
    "start_time": "2023-04-09T19:01:32.135Z"
   },
   {
    "duration": 13,
    "start_time": "2023-04-09T19:01:32.152Z"
   },
   {
    "duration": 14,
    "start_time": "2023-04-09T19:01:32.167Z"
   },
   {
    "duration": 20,
    "start_time": "2023-04-09T19:01:32.182Z"
   },
   {
    "duration": 12,
    "start_time": "2023-04-09T19:01:32.203Z"
   },
   {
    "duration": 9,
    "start_time": "2023-04-09T19:01:32.216Z"
   },
   {
    "duration": 6,
    "start_time": "2023-04-09T19:01:32.226Z"
   },
   {
    "duration": 9,
    "start_time": "2023-04-09T19:01:32.234Z"
   },
   {
    "duration": 11,
    "start_time": "2023-04-09T19:01:32.245Z"
   },
   {
    "duration": 32,
    "start_time": "2023-04-09T19:01:32.258Z"
   },
   {
    "duration": 489,
    "start_time": "2023-04-09T19:01:32.292Z"
   },
   {
    "duration": 194,
    "start_time": "2023-04-09T19:01:32.783Z"
   },
   {
    "duration": 272,
    "start_time": "2023-04-09T19:01:32.978Z"
   },
   {
    "duration": 17,
    "start_time": "2023-04-09T19:01:33.252Z"
   },
   {
    "duration": 182,
    "start_time": "2023-04-09T19:01:33.271Z"
   },
   {
    "duration": 273,
    "start_time": "2023-04-09T19:01:33.456Z"
   },
   {
    "duration": 9,
    "start_time": "2023-04-09T19:01:33.730Z"
   },
   {
    "duration": 130,
    "start_time": "2023-04-09T19:01:33.741Z"
   },
   {
    "duration": 6,
    "start_time": "2023-04-09T19:01:33.873Z"
   },
   {
    "duration": 134,
    "start_time": "2023-04-09T19:01:33.880Z"
   },
   {
    "duration": 5,
    "start_time": "2023-04-09T19:01:34.015Z"
   },
   {
    "duration": 362,
    "start_time": "2023-04-09T19:01:34.022Z"
   },
   {
    "duration": 10,
    "start_time": "2023-04-09T19:01:34.385Z"
   },
   {
    "duration": 10,
    "start_time": "2023-04-09T19:01:34.396Z"
   },
   {
    "duration": 24,
    "start_time": "2023-04-09T19:01:34.407Z"
   },
   {
    "duration": 41,
    "start_time": "2023-04-09T19:01:34.433Z"
   },
   {
    "duration": 430,
    "start_time": "2023-04-09T19:01:34.476Z"
   },
   {
    "duration": 0,
    "start_time": "2023-04-09T19:01:34.908Z"
   },
   {
    "duration": 20,
    "start_time": "2023-04-09T19:04:20.472Z"
   },
   {
    "duration": 22,
    "start_time": "2023-04-09T19:05:43.650Z"
   },
   {
    "duration": 192,
    "start_time": "2023-04-09T19:06:42.052Z"
   },
   {
    "duration": 433,
    "start_time": "2023-04-09T19:09:51.219Z"
   },
   {
    "duration": 358,
    "start_time": "2023-04-09T19:10:31.252Z"
   },
   {
    "duration": 1109,
    "start_time": "2023-04-09T19:10:46.126Z"
   },
   {
    "duration": 74,
    "start_time": "2023-04-09T19:10:47.237Z"
   },
   {
    "duration": 12,
    "start_time": "2023-04-09T19:10:47.313Z"
   },
   {
    "duration": 19,
    "start_time": "2023-04-09T19:10:47.327Z"
   },
   {
    "duration": 7,
    "start_time": "2023-04-09T19:10:47.347Z"
   },
   {
    "duration": 38,
    "start_time": "2023-04-09T19:10:47.356Z"
   },
   {
    "duration": 11,
    "start_time": "2023-04-09T19:10:47.395Z"
   },
   {
    "duration": 10,
    "start_time": "2023-04-09T19:10:47.408Z"
   },
   {
    "duration": 11,
    "start_time": "2023-04-09T19:10:47.420Z"
   },
   {
    "duration": 10,
    "start_time": "2023-04-09T19:10:47.434Z"
   },
   {
    "duration": 14,
    "start_time": "2023-04-09T19:10:47.446Z"
   },
   {
    "duration": 33,
    "start_time": "2023-04-09T19:10:47.462Z"
   },
   {
    "duration": 13,
    "start_time": "2023-04-09T19:10:47.496Z"
   },
   {
    "duration": 18,
    "start_time": "2023-04-09T19:10:47.511Z"
   },
   {
    "duration": 5,
    "start_time": "2023-04-09T19:10:47.531Z"
   },
   {
    "duration": 6,
    "start_time": "2023-04-09T19:10:47.538Z"
   },
   {
    "duration": 11,
    "start_time": "2023-04-09T19:10:47.546Z"
   },
   {
    "duration": 19,
    "start_time": "2023-04-09T19:10:47.559Z"
   },
   {
    "duration": 7,
    "start_time": "2023-04-09T19:10:47.582Z"
   },
   {
    "duration": 15,
    "start_time": "2023-04-09T19:10:47.593Z"
   },
   {
    "duration": 6,
    "start_time": "2023-04-09T19:10:47.610Z"
   },
   {
    "duration": 18,
    "start_time": "2023-04-09T19:10:47.617Z"
   },
   {
    "duration": 559,
    "start_time": "2023-04-09T19:10:47.636Z"
   },
   {
    "duration": 206,
    "start_time": "2023-04-09T19:10:48.198Z"
   },
   {
    "duration": 344,
    "start_time": "2023-04-09T19:10:48.406Z"
   },
   {
    "duration": 17,
    "start_time": "2023-04-09T19:10:48.752Z"
   },
   {
    "duration": 226,
    "start_time": "2023-04-09T19:10:48.771Z"
   },
   {
    "duration": 321,
    "start_time": "2023-04-09T19:10:49.002Z"
   },
   {
    "duration": 10,
    "start_time": "2023-04-09T19:10:49.325Z"
   },
   {
    "duration": 171,
    "start_time": "2023-04-09T19:10:49.337Z"
   },
   {
    "duration": 7,
    "start_time": "2023-04-09T19:10:49.510Z"
   },
   {
    "duration": 197,
    "start_time": "2023-04-09T19:10:49.519Z"
   },
   {
    "duration": 6,
    "start_time": "2023-04-09T19:10:49.718Z"
   },
   {
    "duration": 601,
    "start_time": "2023-04-09T19:10:49.727Z"
   },
   {
    "duration": 12,
    "start_time": "2023-04-09T19:10:50.330Z"
   },
   {
    "duration": 31,
    "start_time": "2023-04-09T19:10:50.344Z"
   },
   {
    "duration": 33,
    "start_time": "2023-04-09T19:10:50.378Z"
   },
   {
    "duration": 18,
    "start_time": "2023-04-09T19:10:50.414Z"
   },
   {
    "duration": 602,
    "start_time": "2023-04-09T19:10:50.434Z"
   },
   {
    "duration": 0,
    "start_time": "2023-04-09T19:10:51.039Z"
   },
   {
    "duration": 17,
    "start_time": "2023-04-09T19:11:19.180Z"
   },
   {
    "duration": 15,
    "start_time": "2023-04-09T19:19:28.464Z"
   },
   {
    "duration": 9,
    "start_time": "2023-04-09T19:19:52.397Z"
   },
   {
    "duration": 550,
    "start_time": "2023-04-09T19:26:28.451Z"
   },
   {
    "duration": 499,
    "start_time": "2023-04-09T19:27:54.033Z"
   },
   {
    "duration": 168,
    "start_time": "2023-04-09T19:28:47.909Z"
   },
   {
    "duration": 357,
    "start_time": "2023-04-09T19:31:40.871Z"
   },
   {
    "duration": 314,
    "start_time": "2023-04-09T19:32:04.482Z"
   },
   {
    "duration": 287,
    "start_time": "2023-04-09T19:33:49.644Z"
   },
   {
    "duration": 338,
    "start_time": "2023-04-09T19:33:57.299Z"
   },
   {
    "duration": 272,
    "start_time": "2023-04-09T19:34:04.650Z"
   },
   {
    "duration": 1092,
    "start_time": "2023-04-09T20:11:34.774Z"
   },
   {
    "duration": 141,
    "start_time": "2023-04-09T20:11:35.868Z"
   },
   {
    "duration": 10,
    "start_time": "2023-04-09T20:11:36.011Z"
   },
   {
    "duration": 9,
    "start_time": "2023-04-09T20:11:36.023Z"
   },
   {
    "duration": 3,
    "start_time": "2023-04-09T20:11:36.035Z"
   },
   {
    "duration": 13,
    "start_time": "2023-04-09T20:11:36.040Z"
   },
   {
    "duration": 9,
    "start_time": "2023-04-09T20:11:36.055Z"
   },
   {
    "duration": 3,
    "start_time": "2023-04-09T20:11:36.065Z"
   },
   {
    "duration": 9,
    "start_time": "2023-04-09T20:11:36.070Z"
   },
   {
    "duration": 4,
    "start_time": "2023-04-09T20:11:36.080Z"
   },
   {
    "duration": 8,
    "start_time": "2023-04-09T20:11:36.085Z"
   },
   {
    "duration": 9,
    "start_time": "2023-04-09T20:11:36.094Z"
   },
   {
    "duration": 11,
    "start_time": "2023-04-09T20:11:36.104Z"
   },
   {
    "duration": 8,
    "start_time": "2023-04-09T20:11:36.118Z"
   },
   {
    "duration": 11,
    "start_time": "2023-04-09T20:11:36.127Z"
   },
   {
    "duration": 13,
    "start_time": "2023-04-09T20:11:36.140Z"
   },
   {
    "duration": 21,
    "start_time": "2023-04-09T20:11:36.154Z"
   },
   {
    "duration": 8,
    "start_time": "2023-04-09T20:11:36.176Z"
   },
   {
    "duration": 6,
    "start_time": "2023-04-09T20:11:36.185Z"
   },
   {
    "duration": 9,
    "start_time": "2023-04-09T20:11:36.192Z"
   },
   {
    "duration": 7,
    "start_time": "2023-04-09T20:11:36.202Z"
   },
   {
    "duration": 20,
    "start_time": "2023-04-09T20:11:36.210Z"
   },
   {
    "duration": 499,
    "start_time": "2023-04-09T20:11:36.231Z"
   },
   {
    "duration": 176,
    "start_time": "2023-04-09T20:11:36.732Z"
   },
   {
    "duration": 275,
    "start_time": "2023-04-09T20:11:36.910Z"
   },
   {
    "duration": 8,
    "start_time": "2023-04-09T20:11:37.186Z"
   },
   {
    "duration": 197,
    "start_time": "2023-04-09T20:11:37.195Z"
   },
   {
    "duration": 254,
    "start_time": "2023-04-09T20:11:37.393Z"
   },
   {
    "duration": 8,
    "start_time": "2023-04-09T20:11:37.649Z"
   },
   {
    "duration": 113,
    "start_time": "2023-04-09T20:11:37.658Z"
   },
   {
    "duration": 5,
    "start_time": "2023-04-09T20:11:37.773Z"
   },
   {
    "duration": 123,
    "start_time": "2023-04-09T20:11:37.779Z"
   },
   {
    "duration": 4,
    "start_time": "2023-04-09T20:11:37.904Z"
   },
   {
    "duration": 342,
    "start_time": "2023-04-09T20:11:37.909Z"
   },
   {
    "duration": 17,
    "start_time": "2023-04-09T20:11:38.253Z"
   },
   {
    "duration": 9,
    "start_time": "2023-04-09T20:11:38.271Z"
   },
   {
    "duration": 23,
    "start_time": "2023-04-09T20:11:38.281Z"
   },
   {
    "duration": 11,
    "start_time": "2023-04-09T20:11:38.305Z"
   },
   {
    "duration": 119,
    "start_time": "2023-04-09T20:11:38.317Z"
   },
   {
    "duration": 0,
    "start_time": "2023-04-09T20:11:38.437Z"
   },
   {
    "duration": 348,
    "start_time": "2023-04-09T20:12:36.310Z"
   },
   {
    "duration": 294,
    "start_time": "2023-04-09T20:13:25.490Z"
   },
   {
    "duration": 309,
    "start_time": "2023-04-09T20:13:35.134Z"
   },
   {
    "duration": 295,
    "start_time": "2023-04-09T20:13:41.084Z"
   },
   {
    "duration": 283,
    "start_time": "2023-04-09T20:13:51.711Z"
   },
   {
    "duration": 343,
    "start_time": "2023-04-09T20:14:15.732Z"
   },
   {
    "duration": 131,
    "start_time": "2023-04-09T20:16:56.506Z"
   },
   {
    "duration": 120,
    "start_time": "2023-04-09T20:18:11.648Z"
   },
   {
    "duration": 47,
    "start_time": "2023-04-09T20:18:53.609Z"
   },
   {
    "duration": 49,
    "start_time": "2023-04-09T20:19:03.517Z"
   },
   {
    "duration": 140,
    "start_time": "2023-04-09T20:19:11.303Z"
   },
   {
    "duration": 129,
    "start_time": "2023-04-09T20:19:24.686Z"
   },
   {
    "duration": 133,
    "start_time": "2023-04-09T20:19:28.669Z"
   },
   {
    "duration": 122,
    "start_time": "2023-04-09T20:19:43.588Z"
   },
   {
    "duration": 45,
    "start_time": "2023-04-09T20:19:51.841Z"
   },
   {
    "duration": 151,
    "start_time": "2023-04-09T20:19:59.602Z"
   },
   {
    "duration": 208,
    "start_time": "2023-04-09T20:20:16.313Z"
   },
   {
    "duration": 1176,
    "start_time": "2023-04-09T20:34:17.543Z"
   },
   {
    "duration": 60,
    "start_time": "2023-04-09T20:34:18.720Z"
   },
   {
    "duration": 12,
    "start_time": "2023-04-09T20:34:18.782Z"
   },
   {
    "duration": 11,
    "start_time": "2023-04-09T20:34:18.796Z"
   },
   {
    "duration": 14,
    "start_time": "2023-04-09T20:34:18.808Z"
   },
   {
    "duration": 21,
    "start_time": "2023-04-09T20:34:18.824Z"
   },
   {
    "duration": 10,
    "start_time": "2023-04-09T20:34:18.847Z"
   },
   {
    "duration": 11,
    "start_time": "2023-04-09T20:34:18.858Z"
   },
   {
    "duration": 13,
    "start_time": "2023-04-09T20:34:18.870Z"
   },
   {
    "duration": 12,
    "start_time": "2023-04-09T20:34:18.885Z"
   },
   {
    "duration": 22,
    "start_time": "2023-04-09T20:34:18.899Z"
   },
   {
    "duration": 15,
    "start_time": "2023-04-09T20:34:18.923Z"
   },
   {
    "duration": 16,
    "start_time": "2023-04-09T20:34:18.940Z"
   },
   {
    "duration": 17,
    "start_time": "2023-04-09T20:34:18.958Z"
   },
   {
    "duration": 19,
    "start_time": "2023-04-09T20:34:18.977Z"
   },
   {
    "duration": 7,
    "start_time": "2023-04-09T20:34:18.997Z"
   },
   {
    "duration": 20,
    "start_time": "2023-04-09T20:34:19.005Z"
   },
   {
    "duration": 10,
    "start_time": "2023-04-09T20:34:19.026Z"
   },
   {
    "duration": 25,
    "start_time": "2023-04-09T20:34:19.038Z"
   },
   {
    "duration": 12,
    "start_time": "2023-04-09T20:34:19.064Z"
   },
   {
    "duration": 7,
    "start_time": "2023-04-09T20:34:19.077Z"
   },
   {
    "duration": 17,
    "start_time": "2023-04-09T20:34:19.086Z"
   },
   {
    "duration": 597,
    "start_time": "2023-04-09T20:34:19.105Z"
   },
   {
    "duration": 221,
    "start_time": "2023-04-09T20:34:19.704Z"
   },
   {
    "duration": 335,
    "start_time": "2023-04-09T20:34:19.927Z"
   },
   {
    "duration": 9,
    "start_time": "2023-04-09T20:34:20.269Z"
   },
   {
    "duration": 244,
    "start_time": "2023-04-09T20:34:20.279Z"
   },
   {
    "duration": 365,
    "start_time": "2023-04-09T20:34:20.527Z"
   },
   {
    "duration": 139,
    "start_time": "2023-04-09T20:34:20.895Z"
   },
   {
    "duration": 5,
    "start_time": "2023-04-09T20:34:21.036Z"
   },
   {
    "duration": 152,
    "start_time": "2023-04-09T20:34:21.043Z"
   },
   {
    "duration": 5,
    "start_time": "2023-04-09T20:34:21.197Z"
   },
   {
    "duration": 392,
    "start_time": "2023-04-09T20:34:21.203Z"
   },
   {
    "duration": 10,
    "start_time": "2023-04-09T20:34:21.597Z"
   },
   {
    "duration": 9,
    "start_time": "2023-04-09T20:34:21.609Z"
   },
   {
    "duration": 25,
    "start_time": "2023-04-09T20:34:21.620Z"
   },
   {
    "duration": 31,
    "start_time": "2023-04-09T20:34:21.647Z"
   },
   {
    "duration": 130,
    "start_time": "2023-04-09T20:34:21.680Z"
   },
   {
    "duration": 0,
    "start_time": "2023-04-09T20:34:21.811Z"
   },
   {
    "duration": 53,
    "start_time": "2023-04-09T20:49:10.416Z"
   },
   {
    "duration": 11,
    "start_time": "2023-04-09T20:49:19.549Z"
   },
   {
    "duration": 22,
    "start_time": "2023-04-09T21:07:35.886Z"
   },
   {
    "duration": 15,
    "start_time": "2023-04-09T21:08:00.065Z"
   },
   {
    "duration": 5,
    "start_time": "2023-04-09T21:09:22.066Z"
   },
   {
    "duration": 11,
    "start_time": "2023-04-09T21:09:32.002Z"
   },
   {
    "duration": 9,
    "start_time": "2023-04-09T21:10:53.704Z"
   },
   {
    "duration": 10,
    "start_time": "2023-04-09T21:11:16.638Z"
   },
   {
    "duration": 43,
    "start_time": "2023-04-09T21:44:59.095Z"
   },
   {
    "duration": 1262,
    "start_time": "2023-04-10T13:44:29.370Z"
   },
   {
    "duration": 208,
    "start_time": "2023-04-10T13:44:30.634Z"
   },
   {
    "duration": 11,
    "start_time": "2023-04-10T13:44:30.844Z"
   },
   {
    "duration": 61,
    "start_time": "2023-04-10T13:44:30.857Z"
   },
   {
    "duration": 38,
    "start_time": "2023-04-10T13:44:30.920Z"
   },
   {
    "duration": 56,
    "start_time": "2023-04-10T13:44:30.960Z"
   },
   {
    "duration": 49,
    "start_time": "2023-04-10T13:44:31.017Z"
   },
   {
    "duration": 29,
    "start_time": "2023-04-10T13:44:31.069Z"
   },
   {
    "duration": 33,
    "start_time": "2023-04-10T13:44:31.099Z"
   },
   {
    "duration": 26,
    "start_time": "2023-04-10T13:44:31.135Z"
   },
   {
    "duration": 34,
    "start_time": "2023-04-10T13:44:31.163Z"
   },
   {
    "duration": 46,
    "start_time": "2023-04-10T13:44:31.198Z"
   },
   {
    "duration": 30,
    "start_time": "2023-04-10T13:44:31.245Z"
   },
   {
    "duration": 35,
    "start_time": "2023-04-10T13:44:31.276Z"
   },
   {
    "duration": 27,
    "start_time": "2023-04-10T13:44:31.312Z"
   },
   {
    "duration": 35,
    "start_time": "2023-04-10T13:44:31.340Z"
   },
   {
    "duration": 33,
    "start_time": "2023-04-10T13:44:31.377Z"
   },
   {
    "duration": 27,
    "start_time": "2023-04-10T13:44:31.412Z"
   },
   {
    "duration": 21,
    "start_time": "2023-04-10T13:44:31.441Z"
   },
   {
    "duration": 31,
    "start_time": "2023-04-10T13:44:31.464Z"
   },
   {
    "duration": 29,
    "start_time": "2023-04-10T13:44:31.496Z"
   },
   {
    "duration": 33,
    "start_time": "2023-04-10T13:44:31.527Z"
   },
   {
    "duration": 557,
    "start_time": "2023-04-10T13:44:31.561Z"
   },
   {
    "duration": 205,
    "start_time": "2023-04-10T13:44:32.120Z"
   },
   {
    "duration": 379,
    "start_time": "2023-04-10T13:44:32.327Z"
   },
   {
    "duration": 11,
    "start_time": "2023-04-10T13:44:32.708Z"
   },
   {
    "duration": 249,
    "start_time": "2023-04-10T13:44:32.721Z"
   },
   {
    "duration": 300,
    "start_time": "2023-04-10T13:44:32.973Z"
   },
   {
    "duration": 129,
    "start_time": "2023-04-10T13:44:33.274Z"
   },
   {
    "duration": 5,
    "start_time": "2023-04-10T13:44:33.405Z"
   },
   {
    "duration": 162,
    "start_time": "2023-04-10T13:44:33.411Z"
   },
   {
    "duration": 4,
    "start_time": "2023-04-10T13:44:33.575Z"
   },
   {
    "duration": 111,
    "start_time": "2023-04-10T13:44:33.580Z"
   },
   {
    "duration": 0,
    "start_time": "2023-04-10T13:44:33.692Z"
   },
   {
    "duration": 0,
    "start_time": "2023-04-10T13:44:33.693Z"
   },
   {
    "duration": 0,
    "start_time": "2023-04-10T13:44:33.694Z"
   },
   {
    "duration": 0,
    "start_time": "2023-04-10T13:44:33.695Z"
   },
   {
    "duration": 0,
    "start_time": "2023-04-10T13:44:33.696Z"
   },
   {
    "duration": 0,
    "start_time": "2023-04-10T13:44:33.697Z"
   },
   {
    "duration": 0,
    "start_time": "2023-04-10T13:44:33.698Z"
   },
   {
    "duration": 3,
    "start_time": "2023-04-10T13:45:43.314Z"
   },
   {
    "duration": 1109,
    "start_time": "2023-04-10T13:45:49.150Z"
   },
   {
    "duration": 63,
    "start_time": "2023-04-10T13:45:50.261Z"
   },
   {
    "duration": 10,
    "start_time": "2023-04-10T13:45:50.325Z"
   },
   {
    "duration": 12,
    "start_time": "2023-04-10T13:45:50.337Z"
   },
   {
    "duration": 5,
    "start_time": "2023-04-10T13:45:50.350Z"
   },
   {
    "duration": 19,
    "start_time": "2023-04-10T13:45:50.357Z"
   },
   {
    "duration": 45,
    "start_time": "2023-04-10T13:45:50.377Z"
   },
   {
    "duration": 12,
    "start_time": "2023-04-10T13:45:50.423Z"
   },
   {
    "duration": 15,
    "start_time": "2023-04-10T13:45:50.437Z"
   },
   {
    "duration": 14,
    "start_time": "2023-04-10T13:45:50.456Z"
   },
   {
    "duration": 15,
    "start_time": "2023-04-10T13:45:50.472Z"
   },
   {
    "duration": 13,
    "start_time": "2023-04-10T13:45:50.488Z"
   },
   {
    "duration": 29,
    "start_time": "2023-04-10T13:45:50.502Z"
   },
   {
    "duration": 15,
    "start_time": "2023-04-10T13:45:50.532Z"
   },
   {
    "duration": 14,
    "start_time": "2023-04-10T13:45:50.550Z"
   },
   {
    "duration": 8,
    "start_time": "2023-04-10T13:45:50.566Z"
   },
   {
    "duration": 18,
    "start_time": "2023-04-10T13:45:50.575Z"
   },
   {
    "duration": 9,
    "start_time": "2023-04-10T13:45:50.594Z"
   },
   {
    "duration": 6,
    "start_time": "2023-04-10T13:45:50.605Z"
   },
   {
    "duration": 10,
    "start_time": "2023-04-10T13:45:50.613Z"
   },
   {
    "duration": 5,
    "start_time": "2023-04-10T13:45:50.636Z"
   },
   {
    "duration": 14,
    "start_time": "2023-04-10T13:45:50.643Z"
   },
   {
    "duration": 583,
    "start_time": "2023-04-10T13:45:50.658Z"
   },
   {
    "duration": 218,
    "start_time": "2023-04-10T13:45:51.243Z"
   },
   {
    "duration": 310,
    "start_time": "2023-04-10T13:45:51.463Z"
   },
   {
    "duration": 8,
    "start_time": "2023-04-10T13:45:51.774Z"
   },
   {
    "duration": 268,
    "start_time": "2023-04-10T13:45:51.784Z"
   },
   {
    "duration": 345,
    "start_time": "2023-04-10T13:45:52.057Z"
   },
   {
    "duration": 176,
    "start_time": "2023-04-10T13:45:52.404Z"
   },
   {
    "duration": 5,
    "start_time": "2023-04-10T13:45:52.581Z"
   },
   {
    "duration": 176,
    "start_time": "2023-04-10T13:45:52.588Z"
   },
   {
    "duration": 6,
    "start_time": "2023-04-10T13:45:52.766Z"
   },
   {
    "duration": 21,
    "start_time": "2023-04-10T13:45:52.774Z"
   },
   {
    "duration": 350,
    "start_time": "2023-04-10T13:45:52.796Z"
   },
   {
    "duration": 12,
    "start_time": "2023-04-10T13:45:53.147Z"
   },
   {
    "duration": 17,
    "start_time": "2023-04-10T13:45:53.161Z"
   },
   {
    "duration": 38,
    "start_time": "2023-04-10T13:45:53.180Z"
   },
   {
    "duration": 18,
    "start_time": "2023-04-10T13:45:53.219Z"
   },
   {
    "duration": 109,
    "start_time": "2023-04-10T13:45:53.239Z"
   },
   {
    "duration": 0,
    "start_time": "2023-04-10T13:45:53.349Z"
   },
   {
    "duration": 21,
    "start_time": "2023-04-10T13:46:51.431Z"
   },
   {
    "duration": 19,
    "start_time": "2023-04-10T13:47:55.863Z"
   },
   {
    "duration": 9,
    "start_time": "2023-04-10T15:31:23.386Z"
   },
   {
    "duration": 11,
    "start_time": "2023-04-10T15:33:03.632Z"
   },
   {
    "duration": 9,
    "start_time": "2023-04-10T15:33:52.828Z"
   },
   {
    "duration": 27,
    "start_time": "2023-04-10T15:33:57.834Z"
   },
   {
    "duration": 16,
    "start_time": "2023-04-10T15:34:42.522Z"
   },
   {
    "duration": 1141,
    "start_time": "2023-04-10T15:34:57.465Z"
   },
   {
    "duration": 79,
    "start_time": "2023-04-10T15:34:58.608Z"
   },
   {
    "duration": 11,
    "start_time": "2023-04-10T15:34:58.689Z"
   },
   {
    "duration": 12,
    "start_time": "2023-04-10T15:34:58.701Z"
   },
   {
    "duration": 7,
    "start_time": "2023-04-10T15:34:58.715Z"
   },
   {
    "duration": 16,
    "start_time": "2023-04-10T15:34:58.724Z"
   },
   {
    "duration": 11,
    "start_time": "2023-04-10T15:34:58.742Z"
   },
   {
    "duration": 13,
    "start_time": "2023-04-10T15:34:58.755Z"
   },
   {
    "duration": 30,
    "start_time": "2023-04-10T15:34:58.770Z"
   },
   {
    "duration": 7,
    "start_time": "2023-04-10T15:34:58.802Z"
   },
   {
    "duration": 15,
    "start_time": "2023-04-10T15:34:58.810Z"
   },
   {
    "duration": 11,
    "start_time": "2023-04-10T15:34:58.827Z"
   },
   {
    "duration": 19,
    "start_time": "2023-04-10T15:34:58.839Z"
   },
   {
    "duration": 10,
    "start_time": "2023-04-10T15:34:58.859Z"
   },
   {
    "duration": 12,
    "start_time": "2023-04-10T15:34:58.871Z"
   },
   {
    "duration": 27,
    "start_time": "2023-04-10T15:34:58.885Z"
   },
   {
    "duration": 16,
    "start_time": "2023-04-10T15:34:58.914Z"
   },
   {
    "duration": 15,
    "start_time": "2023-04-10T15:34:58.931Z"
   },
   {
    "duration": 12,
    "start_time": "2023-04-10T15:34:58.948Z"
   },
   {
    "duration": 14,
    "start_time": "2023-04-10T15:34:58.961Z"
   },
   {
    "duration": 11,
    "start_time": "2023-04-10T15:34:58.976Z"
   },
   {
    "duration": 18,
    "start_time": "2023-04-10T15:34:58.989Z"
   },
   {
    "duration": 533,
    "start_time": "2023-04-10T15:34:59.008Z"
   },
   {
    "duration": 181,
    "start_time": "2023-04-10T15:34:59.543Z"
   },
   {
    "duration": 304,
    "start_time": "2023-04-10T15:34:59.726Z"
   },
   {
    "duration": 10,
    "start_time": "2023-04-10T15:35:00.036Z"
   },
   {
    "duration": 247,
    "start_time": "2023-04-10T15:35:00.047Z"
   },
   {
    "duration": 363,
    "start_time": "2023-04-10T15:35:00.297Z"
   },
   {
    "duration": 144,
    "start_time": "2023-04-10T15:35:00.663Z"
   },
   {
    "duration": 5,
    "start_time": "2023-04-10T15:35:00.809Z"
   },
   {
    "duration": 213,
    "start_time": "2023-04-10T15:35:00.816Z"
   },
   {
    "duration": 9,
    "start_time": "2023-04-10T15:35:01.030Z"
   },
   {
    "duration": 75,
    "start_time": "2023-04-10T15:35:01.041Z"
   },
   {
    "duration": 386,
    "start_time": "2023-04-10T15:35:01.118Z"
   },
   {
    "duration": 10,
    "start_time": "2023-04-10T15:35:01.506Z"
   },
   {
    "duration": 81,
    "start_time": "2023-04-10T15:35:01.518Z"
   },
   {
    "duration": 100,
    "start_time": "2023-04-10T15:35:01.601Z"
   },
   {
    "duration": 65,
    "start_time": "2023-04-10T15:35:01.703Z"
   },
   {
    "duration": 114,
    "start_time": "2023-04-10T15:35:01.769Z"
   },
   {
    "duration": 1241,
    "start_time": "2023-04-10T16:47:29.077Z"
   },
   {
    "duration": 62,
    "start_time": "2023-04-10T16:47:30.320Z"
   },
   {
    "duration": 15,
    "start_time": "2023-04-10T16:47:30.384Z"
   },
   {
    "duration": 17,
    "start_time": "2023-04-10T16:47:30.402Z"
   },
   {
    "duration": 27,
    "start_time": "2023-04-10T16:47:30.420Z"
   },
   {
    "duration": 50,
    "start_time": "2023-04-10T16:47:30.449Z"
   },
   {
    "duration": 28,
    "start_time": "2023-04-10T16:47:30.501Z"
   },
   {
    "duration": 43,
    "start_time": "2023-04-10T16:47:30.531Z"
   },
   {
    "duration": 32,
    "start_time": "2023-04-10T16:47:30.576Z"
   },
   {
    "duration": 34,
    "start_time": "2023-04-10T16:47:30.610Z"
   },
   {
    "duration": 30,
    "start_time": "2023-04-10T16:47:30.646Z"
   },
   {
    "duration": 29,
    "start_time": "2023-04-10T16:47:30.678Z"
   },
   {
    "duration": 46,
    "start_time": "2023-04-10T16:47:30.709Z"
   },
   {
    "duration": 46,
    "start_time": "2023-04-10T16:47:30.757Z"
   },
   {
    "duration": 42,
    "start_time": "2023-04-10T16:47:30.806Z"
   },
   {
    "duration": 26,
    "start_time": "2023-04-10T16:47:30.849Z"
   },
   {
    "duration": 33,
    "start_time": "2023-04-10T16:47:30.877Z"
   },
   {
    "duration": 44,
    "start_time": "2023-04-10T16:47:30.912Z"
   },
   {
    "duration": 24,
    "start_time": "2023-04-10T16:47:30.958Z"
   },
   {
    "duration": 39,
    "start_time": "2023-04-10T16:47:30.984Z"
   },
   {
    "duration": 34,
    "start_time": "2023-04-10T16:47:31.024Z"
   },
   {
    "duration": 65,
    "start_time": "2023-04-10T16:47:31.060Z"
   },
   {
    "duration": 648,
    "start_time": "2023-04-10T16:47:31.127Z"
   },
   {
    "duration": 217,
    "start_time": "2023-04-10T16:47:31.778Z"
   },
   {
    "duration": 326,
    "start_time": "2023-04-10T16:47:31.997Z"
   },
   {
    "duration": 9,
    "start_time": "2023-04-10T16:47:32.325Z"
   },
   {
    "duration": 275,
    "start_time": "2023-04-10T16:47:32.335Z"
   },
   {
    "duration": 326,
    "start_time": "2023-04-10T16:47:32.613Z"
   },
   {
    "duration": 154,
    "start_time": "2023-04-10T16:47:32.941Z"
   },
   {
    "duration": 6,
    "start_time": "2023-04-10T16:47:33.097Z"
   },
   {
    "duration": 153,
    "start_time": "2023-04-10T16:47:33.105Z"
   },
   {
    "duration": 5,
    "start_time": "2023-04-10T16:47:33.260Z"
   },
   {
    "duration": 33,
    "start_time": "2023-04-10T16:47:33.266Z"
   },
   {
    "duration": 375,
    "start_time": "2023-04-10T16:47:33.300Z"
   },
   {
    "duration": 20,
    "start_time": "2023-04-10T16:47:33.677Z"
   },
   {
    "duration": 11,
    "start_time": "2023-04-10T16:47:33.699Z"
   },
   {
    "duration": 35,
    "start_time": "2023-04-10T16:47:33.711Z"
   },
   {
    "duration": 13,
    "start_time": "2023-04-10T16:47:33.748Z"
   },
   {
    "duration": 4,
    "start_time": "2023-04-11T21:06:46.759Z"
   },
   {
    "duration": 78,
    "start_time": "2023-04-11T21:07:50.935Z"
   },
   {
    "duration": 1331,
    "start_time": "2023-04-11T21:08:14.703Z"
   },
   {
    "duration": 217,
    "start_time": "2023-04-11T21:08:16.036Z"
   },
   {
    "duration": 12,
    "start_time": "2023-04-11T21:08:16.254Z"
   },
   {
    "duration": 47,
    "start_time": "2023-04-11T21:08:16.268Z"
   },
   {
    "duration": 16,
    "start_time": "2023-04-11T21:08:16.317Z"
   },
   {
    "duration": 23,
    "start_time": "2023-04-11T21:08:16.335Z"
   },
   {
    "duration": 11,
    "start_time": "2023-04-11T21:08:16.360Z"
   },
   {
    "duration": 7,
    "start_time": "2023-04-11T21:08:16.373Z"
   },
   {
    "duration": 13,
    "start_time": "2023-04-11T21:08:16.381Z"
   },
   {
    "duration": 4,
    "start_time": "2023-04-11T21:08:16.397Z"
   },
   {
    "duration": 8,
    "start_time": "2023-04-11T21:08:16.402Z"
   },
   {
    "duration": 24,
    "start_time": "2023-04-11T21:08:16.411Z"
   },
   {
    "duration": 21,
    "start_time": "2023-04-11T21:08:16.437Z"
   },
   {
    "duration": 15,
    "start_time": "2023-04-11T21:08:16.460Z"
   },
   {
    "duration": 6,
    "start_time": "2023-04-11T21:08:16.477Z"
   },
   {
    "duration": 10,
    "start_time": "2023-04-11T21:08:16.485Z"
   },
   {
    "duration": 13,
    "start_time": "2023-04-11T21:08:16.496Z"
   },
   {
    "duration": 25,
    "start_time": "2023-04-11T21:08:16.510Z"
   },
   {
    "duration": 7,
    "start_time": "2023-04-11T21:08:16.537Z"
   },
   {
    "duration": 14,
    "start_time": "2023-04-11T21:08:16.545Z"
   },
   {
    "duration": 8,
    "start_time": "2023-04-11T21:08:16.561Z"
   },
   {
    "duration": 19,
    "start_time": "2023-04-11T21:08:16.571Z"
   },
   {
    "duration": 578,
    "start_time": "2023-04-11T21:08:16.591Z"
   },
   {
    "duration": 211,
    "start_time": "2023-04-11T21:08:17.171Z"
   },
   {
    "duration": 393,
    "start_time": "2023-04-11T21:08:17.384Z"
   },
   {
    "duration": 8,
    "start_time": "2023-04-11T21:08:17.779Z"
   },
   {
    "duration": 214,
    "start_time": "2023-04-11T21:08:17.788Z"
   },
   {
    "duration": 373,
    "start_time": "2023-04-11T21:08:18.005Z"
   },
   {
    "duration": 132,
    "start_time": "2023-04-11T21:08:18.380Z"
   },
   {
    "duration": 5,
    "start_time": "2023-04-11T21:08:18.514Z"
   },
   {
    "duration": 142,
    "start_time": "2023-04-11T21:08:18.520Z"
   },
   {
    "duration": 5,
    "start_time": "2023-04-11T21:08:18.664Z"
   },
   {
    "duration": 14,
    "start_time": "2023-04-11T21:08:18.671Z"
   },
   {
    "duration": 371,
    "start_time": "2023-04-11T21:08:18.686Z"
   },
   {
    "duration": 11,
    "start_time": "2023-04-11T21:08:19.059Z"
   },
   {
    "duration": 11,
    "start_time": "2023-04-11T21:08:19.071Z"
   },
   {
    "duration": 64,
    "start_time": "2023-04-11T21:08:19.084Z"
   },
   {
    "duration": 15,
    "start_time": "2023-04-11T21:08:19.150Z"
   },
   {
    "duration": 9,
    "start_time": "2023-04-11T21:12:11.278Z"
   },
   {
    "duration": 6,
    "start_time": "2023-04-11T21:12:52.323Z"
   },
   {
    "duration": 11,
    "start_time": "2023-04-11T21:13:10.542Z"
   },
   {
    "duration": 110,
    "start_time": "2023-04-11T21:16:53.540Z"
   },
   {
    "duration": 11,
    "start_time": "2023-04-11T21:18:02.584Z"
   },
   {
    "duration": 17,
    "start_time": "2023-04-11T21:18:17.532Z"
   },
   {
    "duration": 5,
    "start_time": "2023-04-11T21:18:49.400Z"
   },
   {
    "duration": 14,
    "start_time": "2023-04-11T21:18:57.432Z"
   },
   {
    "duration": 8,
    "start_time": "2023-04-11T21:19:36.429Z"
   },
   {
    "duration": 5,
    "start_time": "2023-04-11T21:22:24.289Z"
   },
   {
    "duration": 5,
    "start_time": "2023-04-11T21:22:44.571Z"
   },
   {
    "duration": 6,
    "start_time": "2023-04-11T21:24:27.203Z"
   },
   {
    "duration": 7,
    "start_time": "2023-04-11T21:25:13.088Z"
   },
   {
    "duration": 4,
    "start_time": "2023-04-11T21:26:29.926Z"
   },
   {
    "duration": 92,
    "start_time": "2023-04-11T21:26:50.084Z"
   },
   {
    "duration": 5,
    "start_time": "2023-04-11T21:26:56.072Z"
   },
   {
    "duration": 6,
    "start_time": "2023-04-11T21:28:56.406Z"
   },
   {
    "duration": 5,
    "start_time": "2023-04-11T21:29:49.680Z"
   },
   {
    "duration": 5,
    "start_time": "2023-04-11T21:30:40.728Z"
   },
   {
    "duration": 5,
    "start_time": "2023-04-11T21:31:02.904Z"
   },
   {
    "duration": 20,
    "start_time": "2023-04-11T21:36:10.886Z"
   },
   {
    "duration": 8,
    "start_time": "2023-04-11T21:39:04.759Z"
   },
   {
    "duration": 116,
    "start_time": "2023-04-11T21:40:08.724Z"
   },
   {
    "duration": 203,
    "start_time": "2023-04-11T21:40:14.723Z"
   },
   {
    "duration": 8,
    "start_time": "2023-04-11T21:40:23.193Z"
   },
   {
    "duration": 88,
    "start_time": "2023-04-11T21:42:19.436Z"
   },
   {
    "duration": 7,
    "start_time": "2023-04-11T21:43:14.105Z"
   },
   {
    "duration": 8,
    "start_time": "2023-04-11T21:44:39.729Z"
   },
   {
    "duration": 8,
    "start_time": "2023-04-11T21:44:54.473Z"
   },
   {
    "duration": 7,
    "start_time": "2023-04-11T21:45:06.661Z"
   },
   {
    "duration": 6,
    "start_time": "2023-04-11T21:45:14.793Z"
   },
   {
    "duration": 6,
    "start_time": "2023-04-11T22:04:34.447Z"
   },
   {
    "duration": 165,
    "start_time": "2023-04-11T22:06:31.180Z"
   },
   {
    "duration": 316,
    "start_time": "2023-04-11T22:07:10.532Z"
   },
   {
    "duration": 6,
    "start_time": "2023-04-11T22:07:40.518Z"
   },
   {
    "duration": 6,
    "start_time": "2023-04-11T22:08:40.357Z"
   },
   {
    "duration": 7,
    "start_time": "2023-04-11T22:11:27.655Z"
   },
   {
    "duration": 8,
    "start_time": "2023-04-11T22:13:02.731Z"
   },
   {
    "duration": 4,
    "start_time": "2023-04-11T22:15:01.323Z"
   },
   {
    "duration": 4,
    "start_time": "2023-04-11T22:15:55.619Z"
   },
   {
    "duration": 6,
    "start_time": "2023-04-11T22:17:38.368Z"
   },
   {
    "duration": 6,
    "start_time": "2023-04-11T22:18:11.387Z"
   },
   {
    "duration": 7,
    "start_time": "2023-04-11T22:18:22.871Z"
   },
   {
    "duration": 11,
    "start_time": "2023-04-11T22:19:48.704Z"
   },
   {
    "duration": 19,
    "start_time": "2023-04-11T22:20:11.529Z"
   },
   {
    "duration": 8,
    "start_time": "2023-04-11T22:20:57.889Z"
   },
   {
    "duration": 12,
    "start_time": "2023-04-11T22:23:32.038Z"
   },
   {
    "duration": 7,
    "start_time": "2023-04-11T22:25:15.002Z"
   },
   {
    "duration": 6,
    "start_time": "2023-04-11T22:26:15.695Z"
   },
   {
    "duration": 4,
    "start_time": "2023-04-11T22:28:18.421Z"
   },
   {
    "duration": 109,
    "start_time": "2023-04-11T22:30:18.756Z"
   },
   {
    "duration": 10,
    "start_time": "2023-04-11T22:30:33.532Z"
   },
   {
    "duration": 9,
    "start_time": "2023-04-11T22:31:26.661Z"
   },
   {
    "duration": 15,
    "start_time": "2023-04-11T22:31:44.509Z"
   },
   {
    "duration": 12,
    "start_time": "2023-04-11T22:32:01.509Z"
   },
   {
    "duration": 10,
    "start_time": "2023-04-11T22:34:58.581Z"
   },
   {
    "duration": 3,
    "start_time": "2023-04-11T22:36:34.423Z"
   },
   {
    "duration": 85,
    "start_time": "2023-04-11T22:37:38.399Z"
   },
   {
    "duration": 8,
    "start_time": "2023-04-11T22:38:13.875Z"
   },
   {
    "duration": 8,
    "start_time": "2023-04-11T22:38:53.907Z"
   },
   {
    "duration": 8,
    "start_time": "2023-04-11T22:39:36.699Z"
   },
   {
    "duration": 378,
    "start_time": "2023-04-11T22:55:01.996Z"
   },
   {
    "duration": 3,
    "start_time": "2023-04-11T22:55:13.744Z"
   },
   {
    "duration": 12,
    "start_time": "2023-04-11T23:01:11.754Z"
   },
   {
    "duration": 344,
    "start_time": "2023-04-11T23:20:54.592Z"
   },
   {
    "duration": 250,
    "start_time": "2023-04-11T23:21:28.335Z"
   },
   {
    "duration": 246,
    "start_time": "2023-04-11T23:21:34.865Z"
   },
   {
    "duration": 230,
    "start_time": "2023-04-11T23:32:08.093Z"
   },
   {
    "duration": 295,
    "start_time": "2023-04-11T23:34:28.050Z"
   },
   {
    "duration": 70,
    "start_time": "2023-04-11T23:48:25.862Z"
   },
   {
    "duration": 10,
    "start_time": "2023-04-11T23:48:45.135Z"
   },
   {
    "duration": 11,
    "start_time": "2023-04-11T23:50:40.663Z"
   },
   {
    "duration": 10,
    "start_time": "2023-04-11T23:51:41.460Z"
   },
   {
    "duration": 9,
    "start_time": "2023-04-11T23:53:21.223Z"
   },
   {
    "duration": 36,
    "start_time": "2023-04-11T23:53:32.115Z"
   },
   {
    "duration": 1164,
    "start_time": "2023-04-11T23:54:05.733Z"
   },
   {
    "duration": 75,
    "start_time": "2023-04-11T23:54:06.898Z"
   },
   {
    "duration": 13,
    "start_time": "2023-04-11T23:54:06.975Z"
   },
   {
    "duration": 11,
    "start_time": "2023-04-11T23:54:06.989Z"
   },
   {
    "duration": 7,
    "start_time": "2023-04-11T23:54:07.002Z"
   },
   {
    "duration": 20,
    "start_time": "2023-04-11T23:54:07.010Z"
   },
   {
    "duration": 32,
    "start_time": "2023-04-11T23:54:07.032Z"
   },
   {
    "duration": 5,
    "start_time": "2023-04-11T23:54:07.066Z"
   },
   {
    "duration": 17,
    "start_time": "2023-04-11T23:54:07.072Z"
   },
   {
    "duration": 8,
    "start_time": "2023-04-11T23:54:07.091Z"
   },
   {
    "duration": 26,
    "start_time": "2023-04-11T23:54:07.100Z"
   },
   {
    "duration": 18,
    "start_time": "2023-04-11T23:54:07.127Z"
   },
   {
    "duration": 18,
    "start_time": "2023-04-11T23:54:07.147Z"
   },
   {
    "duration": 12,
    "start_time": "2023-04-11T23:54:07.167Z"
   },
   {
    "duration": 5,
    "start_time": "2023-04-11T23:54:07.181Z"
   },
   {
    "duration": 8,
    "start_time": "2023-04-11T23:54:07.187Z"
   },
   {
    "duration": 10,
    "start_time": "2023-04-11T23:54:07.196Z"
   },
   {
    "duration": 5,
    "start_time": "2023-04-11T23:54:07.208Z"
   },
   {
    "duration": 29,
    "start_time": "2023-04-11T23:54:07.214Z"
   },
   {
    "duration": 10,
    "start_time": "2023-04-11T23:54:07.248Z"
   },
   {
    "duration": 8,
    "start_time": "2023-04-11T23:54:07.259Z"
   },
   {
    "duration": 11,
    "start_time": "2023-04-11T23:54:07.268Z"
   },
   {
    "duration": 14,
    "start_time": "2023-04-11T23:54:07.281Z"
   },
   {
    "duration": 12,
    "start_time": "2023-04-11T23:54:07.297Z"
   },
   {
    "duration": 25,
    "start_time": "2023-04-11T23:54:07.310Z"
   },
   {
    "duration": 7,
    "start_time": "2023-04-11T23:54:07.337Z"
   },
   {
    "duration": 18,
    "start_time": "2023-04-11T23:54:07.347Z"
   },
   {
    "duration": 549,
    "start_time": "2023-04-11T23:54:07.369Z"
   },
   {
    "duration": 18,
    "start_time": "2023-04-11T23:54:07.919Z"
   },
   {
    "duration": 208,
    "start_time": "2023-04-11T23:54:07.942Z"
   },
   {
    "duration": 308,
    "start_time": "2023-04-11T23:54:08.151Z"
   },
   {
    "duration": 11,
    "start_time": "2023-04-11T23:54:08.461Z"
   },
   {
    "duration": 281,
    "start_time": "2023-04-11T23:54:08.473Z"
   },
   {
    "duration": 332,
    "start_time": "2023-04-11T23:54:08.755Z"
   },
   {
    "duration": 136,
    "start_time": "2023-04-11T23:54:09.088Z"
   },
   {
    "duration": 27,
    "start_time": "2023-04-11T23:54:09.225Z"
   },
   {
    "duration": 138,
    "start_time": "2023-04-11T23:54:09.254Z"
   },
   {
    "duration": 129,
    "start_time": "2023-04-11T23:54:09.394Z"
   },
   {
    "duration": 0,
    "start_time": "2023-04-11T23:54:09.525Z"
   },
   {
    "duration": 0,
    "start_time": "2023-04-11T23:54:09.526Z"
   },
   {
    "duration": 0,
    "start_time": "2023-04-11T23:54:09.538Z"
   },
   {
    "duration": 0,
    "start_time": "2023-04-11T23:54:09.538Z"
   },
   {
    "duration": 0,
    "start_time": "2023-04-11T23:54:09.539Z"
   },
   {
    "duration": 0,
    "start_time": "2023-04-11T23:54:09.540Z"
   },
   {
    "duration": 0,
    "start_time": "2023-04-11T23:54:09.540Z"
   },
   {
    "duration": 0,
    "start_time": "2023-04-11T23:54:09.541Z"
   },
   {
    "duration": 1139,
    "start_time": "2023-04-11T23:55:07.148Z"
   },
   {
    "duration": 87,
    "start_time": "2023-04-11T23:55:08.289Z"
   },
   {
    "duration": 11,
    "start_time": "2023-04-11T23:55:08.377Z"
   },
   {
    "duration": 49,
    "start_time": "2023-04-11T23:55:08.390Z"
   },
   {
    "duration": 14,
    "start_time": "2023-04-11T23:55:08.441Z"
   },
   {
    "duration": 25,
    "start_time": "2023-04-11T23:55:08.456Z"
   },
   {
    "duration": 10,
    "start_time": "2023-04-11T23:55:08.483Z"
   },
   {
    "duration": 17,
    "start_time": "2023-04-11T23:55:08.494Z"
   },
   {
    "duration": 10,
    "start_time": "2023-04-11T23:55:08.512Z"
   },
   {
    "duration": 5,
    "start_time": "2023-04-11T23:55:08.524Z"
   },
   {
    "duration": 40,
    "start_time": "2023-04-11T23:55:08.530Z"
   },
   {
    "duration": 20,
    "start_time": "2023-04-11T23:55:08.572Z"
   },
   {
    "duration": 35,
    "start_time": "2023-04-11T23:55:08.594Z"
   },
   {
    "duration": 29,
    "start_time": "2023-04-11T23:55:08.630Z"
   },
   {
    "duration": 12,
    "start_time": "2023-04-11T23:55:08.660Z"
   },
   {
    "duration": 11,
    "start_time": "2023-04-11T23:55:08.674Z"
   },
   {
    "duration": 11,
    "start_time": "2023-04-11T23:55:08.687Z"
   },
   {
    "duration": 11,
    "start_time": "2023-04-11T23:55:08.699Z"
   },
   {
    "duration": 31,
    "start_time": "2023-04-11T23:55:08.712Z"
   },
   {
    "duration": 37,
    "start_time": "2023-04-11T23:55:08.745Z"
   },
   {
    "duration": 6,
    "start_time": "2023-04-11T23:55:08.784Z"
   },
   {
    "duration": 21,
    "start_time": "2023-04-11T23:55:08.791Z"
   },
   {
    "duration": 13,
    "start_time": "2023-04-11T23:55:08.814Z"
   },
   {
    "duration": 11,
    "start_time": "2023-04-11T23:55:08.828Z"
   },
   {
    "duration": 19,
    "start_time": "2023-04-11T23:55:08.841Z"
   },
   {
    "duration": 12,
    "start_time": "2023-04-11T23:55:08.861Z"
   },
   {
    "duration": 19,
    "start_time": "2023-04-11T23:55:08.875Z"
   },
   {
    "duration": 546,
    "start_time": "2023-04-11T23:55:08.897Z"
   },
   {
    "duration": 11,
    "start_time": "2023-04-11T23:55:09.446Z"
   },
   {
    "duration": 195,
    "start_time": "2023-04-11T23:55:09.459Z"
   },
   {
    "duration": 299,
    "start_time": "2023-04-11T23:55:09.656Z"
   },
   {
    "duration": 8,
    "start_time": "2023-04-11T23:55:09.957Z"
   },
   {
    "duration": 288,
    "start_time": "2023-04-11T23:55:09.967Z"
   },
   {
    "duration": 317,
    "start_time": "2023-04-11T23:55:10.257Z"
   },
   {
    "duration": 130,
    "start_time": "2023-04-11T23:55:10.576Z"
   },
   {
    "duration": 5,
    "start_time": "2023-04-11T23:55:10.707Z"
   },
   {
    "duration": 149,
    "start_time": "2023-04-11T23:55:10.713Z"
   },
   {
    "duration": 112,
    "start_time": "2023-04-11T23:55:10.864Z"
   },
   {
    "duration": 0,
    "start_time": "2023-04-11T23:55:10.978Z"
   },
   {
    "duration": 0,
    "start_time": "2023-04-11T23:55:10.979Z"
   },
   {
    "duration": 0,
    "start_time": "2023-04-11T23:55:10.981Z"
   },
   {
    "duration": 0,
    "start_time": "2023-04-11T23:55:10.982Z"
   },
   {
    "duration": 0,
    "start_time": "2023-04-11T23:55:10.984Z"
   },
   {
    "duration": 0,
    "start_time": "2023-04-11T23:55:10.985Z"
   },
   {
    "duration": 0,
    "start_time": "2023-04-11T23:55:10.987Z"
   },
   {
    "duration": 125,
    "start_time": "2023-04-12T00:00:54.795Z"
   },
   {
    "duration": 220,
    "start_time": "2023-04-12T00:01:19.114Z"
   },
   {
    "duration": 1143,
    "start_time": "2023-04-12T00:04:06.319Z"
   },
   {
    "duration": 71,
    "start_time": "2023-04-12T00:04:07.464Z"
   },
   {
    "duration": 9,
    "start_time": "2023-04-12T00:04:07.537Z"
   },
   {
    "duration": 11,
    "start_time": "2023-04-12T00:04:07.548Z"
   },
   {
    "duration": 5,
    "start_time": "2023-04-12T00:04:07.562Z"
   },
   {
    "duration": 16,
    "start_time": "2023-04-12T00:04:07.569Z"
   },
   {
    "duration": 8,
    "start_time": "2023-04-12T00:04:07.587Z"
   },
   {
    "duration": 8,
    "start_time": "2023-04-12T00:04:07.597Z"
   },
   {
    "duration": 7,
    "start_time": "2023-04-12T00:04:07.606Z"
   },
   {
    "duration": 20,
    "start_time": "2023-04-12T00:04:07.614Z"
   },
   {
    "duration": 9,
    "start_time": "2023-04-12T00:04:07.636Z"
   },
   {
    "duration": 10,
    "start_time": "2023-04-12T00:04:07.646Z"
   },
   {
    "duration": 13,
    "start_time": "2023-04-12T00:04:07.658Z"
   },
   {
    "duration": 8,
    "start_time": "2023-04-12T00:04:07.675Z"
   },
   {
    "duration": 7,
    "start_time": "2023-04-12T00:04:07.685Z"
   },
   {
    "duration": 8,
    "start_time": "2023-04-12T00:04:07.693Z"
   },
   {
    "duration": 32,
    "start_time": "2023-04-12T00:04:07.702Z"
   },
   {
    "duration": 3,
    "start_time": "2023-04-12T00:04:07.736Z"
   },
   {
    "duration": 27,
    "start_time": "2023-04-12T00:04:07.741Z"
   },
   {
    "duration": 18,
    "start_time": "2023-04-12T00:04:07.769Z"
   },
   {
    "duration": 12,
    "start_time": "2023-04-12T00:04:07.788Z"
   },
   {
    "duration": 18,
    "start_time": "2023-04-12T00:04:07.801Z"
   },
   {
    "duration": 6,
    "start_time": "2023-04-12T00:04:07.821Z"
   },
   {
    "duration": 5,
    "start_time": "2023-04-12T00:04:07.829Z"
   },
   {
    "duration": 14,
    "start_time": "2023-04-12T00:04:07.836Z"
   },
   {
    "duration": 13,
    "start_time": "2023-04-12T00:04:07.851Z"
   },
   {
    "duration": 21,
    "start_time": "2023-04-12T00:04:07.865Z"
   },
   {
    "duration": 527,
    "start_time": "2023-04-12T00:04:07.887Z"
   },
   {
    "duration": 9,
    "start_time": "2023-04-12T00:04:08.415Z"
   },
   {
    "duration": 190,
    "start_time": "2023-04-12T00:04:08.426Z"
   },
   {
    "duration": 317,
    "start_time": "2023-04-12T00:04:08.617Z"
   },
   {
    "duration": 8,
    "start_time": "2023-04-12T00:04:08.936Z"
   },
   {
    "duration": 250,
    "start_time": "2023-04-12T00:04:08.945Z"
   },
   {
    "duration": 317,
    "start_time": "2023-04-12T00:04:09.197Z"
   },
   {
    "duration": 127,
    "start_time": "2023-04-12T00:04:09.515Z"
   },
   {
    "duration": 4,
    "start_time": "2023-04-12T00:04:09.643Z"
   },
   {
    "duration": 141,
    "start_time": "2023-04-12T00:04:09.649Z"
   },
   {
    "duration": 139,
    "start_time": "2023-04-12T00:04:09.791Z"
   },
   {
    "duration": 5,
    "start_time": "2023-04-12T00:04:09.931Z"
   },
   {
    "duration": 12,
    "start_time": "2023-04-12T00:04:09.937Z"
   },
   {
    "duration": 424,
    "start_time": "2023-04-12T00:04:09.953Z"
   },
   {
    "duration": 9,
    "start_time": "2023-04-12T00:04:10.378Z"
   },
   {
    "duration": 16,
    "start_time": "2023-04-12T00:04:10.388Z"
   },
   {
    "duration": 36,
    "start_time": "2023-04-12T00:04:10.405Z"
   },
   {
    "duration": 10,
    "start_time": "2023-04-12T00:04:10.443Z"
   },
   {
    "duration": 1178,
    "start_time": "2023-04-12T00:08:27.636Z"
   },
   {
    "duration": 72,
    "start_time": "2023-04-12T00:08:28.816Z"
   },
   {
    "duration": 13,
    "start_time": "2023-04-12T00:08:28.890Z"
   },
   {
    "duration": 31,
    "start_time": "2023-04-12T00:08:28.905Z"
   },
   {
    "duration": 24,
    "start_time": "2023-04-12T00:08:28.937Z"
   },
   {
    "duration": 34,
    "start_time": "2023-04-12T00:08:28.963Z"
   },
   {
    "duration": 21,
    "start_time": "2023-04-12T00:08:28.998Z"
   },
   {
    "duration": 15,
    "start_time": "2023-04-12T00:08:29.021Z"
   },
   {
    "duration": 23,
    "start_time": "2023-04-12T00:08:29.037Z"
   },
   {
    "duration": 18,
    "start_time": "2023-04-12T00:08:29.064Z"
   },
   {
    "duration": 17,
    "start_time": "2023-04-12T00:08:29.083Z"
   },
   {
    "duration": 28,
    "start_time": "2023-04-12T00:08:29.101Z"
   },
   {
    "duration": 24,
    "start_time": "2023-04-12T00:08:29.130Z"
   },
   {
    "duration": 15,
    "start_time": "2023-04-12T00:08:29.156Z"
   },
   {
    "duration": 21,
    "start_time": "2023-04-12T00:08:29.173Z"
   },
   {
    "duration": 21,
    "start_time": "2023-04-12T00:08:29.196Z"
   },
   {
    "duration": 37,
    "start_time": "2023-04-12T00:08:29.219Z"
   },
   {
    "duration": 22,
    "start_time": "2023-04-12T00:08:29.257Z"
   },
   {
    "duration": 18,
    "start_time": "2023-04-12T00:08:29.281Z"
   },
   {
    "duration": 18,
    "start_time": "2023-04-12T00:08:29.300Z"
   },
   {
    "duration": 19,
    "start_time": "2023-04-12T00:08:29.319Z"
   },
   {
    "duration": 27,
    "start_time": "2023-04-12T00:08:29.339Z"
   },
   {
    "duration": 35,
    "start_time": "2023-04-12T00:08:29.367Z"
   },
   {
    "duration": 31,
    "start_time": "2023-04-12T00:08:29.403Z"
   },
   {
    "duration": 17,
    "start_time": "2023-04-12T00:08:29.435Z"
   },
   {
    "duration": 31,
    "start_time": "2023-04-12T00:08:29.454Z"
   },
   {
    "duration": 24,
    "start_time": "2023-04-12T00:08:29.486Z"
   },
   {
    "duration": 519,
    "start_time": "2023-04-12T00:08:29.515Z"
   },
   {
    "duration": 10,
    "start_time": "2023-04-12T00:08:30.036Z"
   },
   {
    "duration": 196,
    "start_time": "2023-04-12T00:08:30.048Z"
   },
   {
    "duration": 298,
    "start_time": "2023-04-12T00:08:30.245Z"
   },
   {
    "duration": 9,
    "start_time": "2023-04-12T00:08:30.545Z"
   },
   {
    "duration": 296,
    "start_time": "2023-04-12T00:08:30.555Z"
   },
   {
    "duration": 358,
    "start_time": "2023-04-12T00:08:30.853Z"
   },
   {
    "duration": 159,
    "start_time": "2023-04-12T00:08:31.213Z"
   },
   {
    "duration": 5,
    "start_time": "2023-04-12T00:08:31.374Z"
   },
   {
    "duration": 171,
    "start_time": "2023-04-12T00:08:31.381Z"
   },
   {
    "duration": 149,
    "start_time": "2023-04-12T00:08:31.554Z"
   },
   {
    "duration": 6,
    "start_time": "2023-04-12T00:08:31.704Z"
   },
   {
    "duration": 55,
    "start_time": "2023-04-12T00:08:31.711Z"
   },
   {
    "duration": 415,
    "start_time": "2023-04-12T00:08:31.769Z"
   },
   {
    "duration": 11,
    "start_time": "2023-04-12T00:08:32.186Z"
   },
   {
    "duration": 26,
    "start_time": "2023-04-12T00:08:32.198Z"
   },
   {
    "duration": 46,
    "start_time": "2023-04-12T00:08:32.226Z"
   },
   {
    "duration": 16,
    "start_time": "2023-04-12T00:08:32.273Z"
   },
   {
    "duration": 1774,
    "start_time": "2023-04-12T07:10:14.342Z"
   },
   {
    "duration": 263,
    "start_time": "2023-04-12T07:10:16.119Z"
   },
   {
    "duration": 14,
    "start_time": "2023-04-12T07:10:16.384Z"
   },
   {
    "duration": 13,
    "start_time": "2023-04-12T07:10:16.400Z"
   },
   {
    "duration": 8,
    "start_time": "2023-04-12T07:10:16.415Z"
   },
   {
    "duration": 59,
    "start_time": "2023-04-12T07:10:16.425Z"
   },
   {
    "duration": 17,
    "start_time": "2023-04-12T07:10:16.486Z"
   },
   {
    "duration": 17,
    "start_time": "2023-04-12T07:10:16.505Z"
   },
   {
    "duration": 8,
    "start_time": "2023-04-12T07:10:16.524Z"
   },
   {
    "duration": 5,
    "start_time": "2023-04-12T07:10:16.536Z"
   },
   {
    "duration": 15,
    "start_time": "2023-04-12T07:10:16.543Z"
   },
   {
    "duration": 29,
    "start_time": "2023-04-12T07:10:16.559Z"
   },
   {
    "duration": 64,
    "start_time": "2023-04-12T07:10:16.593Z"
   },
   {
    "duration": 28,
    "start_time": "2023-04-12T07:10:16.661Z"
   },
   {
    "duration": 26,
    "start_time": "2023-04-12T07:10:16.692Z"
   },
   {
    "duration": 20,
    "start_time": "2023-04-12T07:10:16.721Z"
   },
   {
    "duration": 59,
    "start_time": "2023-04-12T07:10:16.743Z"
   },
   {
    "duration": 25,
    "start_time": "2023-04-12T07:10:16.805Z"
   },
   {
    "duration": 45,
    "start_time": "2023-04-12T07:10:16.833Z"
   },
   {
    "duration": 34,
    "start_time": "2023-04-12T07:10:16.881Z"
   },
   {
    "duration": 21,
    "start_time": "2023-04-12T07:10:16.918Z"
   },
   {
    "duration": 27,
    "start_time": "2023-04-12T07:10:16.941Z"
   },
   {
    "duration": 29,
    "start_time": "2023-04-12T07:10:16.970Z"
   },
   {
    "duration": 24,
    "start_time": "2023-04-12T07:10:17.002Z"
   },
   {
    "duration": 23,
    "start_time": "2023-04-12T07:10:17.029Z"
   },
   {
    "duration": 26,
    "start_time": "2023-04-12T07:10:17.055Z"
   },
   {
    "duration": 43,
    "start_time": "2023-04-12T07:10:17.083Z"
   },
   {
    "duration": 648,
    "start_time": "2023-04-12T07:10:17.129Z"
   },
   {
    "duration": 16,
    "start_time": "2023-04-12T07:10:17.779Z"
   },
   {
    "duration": 244,
    "start_time": "2023-04-12T07:10:17.797Z"
   },
   {
    "duration": 364,
    "start_time": "2023-04-12T07:10:18.052Z"
   },
   {
    "duration": 16,
    "start_time": "2023-04-12T07:10:18.418Z"
   },
   {
    "duration": 345,
    "start_time": "2023-04-12T07:10:18.437Z"
   },
   {
    "duration": 372,
    "start_time": "2023-04-12T07:10:18.784Z"
   },
   {
    "duration": 161,
    "start_time": "2023-04-12T07:10:19.158Z"
   },
   {
    "duration": 5,
    "start_time": "2023-04-12T07:10:19.333Z"
   },
   {
    "duration": 229,
    "start_time": "2023-04-12T07:10:19.341Z"
   },
   {
    "duration": 178,
    "start_time": "2023-04-12T07:10:19.572Z"
   },
   {
    "duration": 6,
    "start_time": "2023-04-12T07:10:19.751Z"
   },
   {
    "duration": 19,
    "start_time": "2023-04-12T07:10:19.759Z"
   },
   {
    "duration": 543,
    "start_time": "2023-04-12T07:10:19.780Z"
   },
   {
    "duration": 12,
    "start_time": "2023-04-12T07:10:20.333Z"
   },
   {
    "duration": 27,
    "start_time": "2023-04-12T07:10:20.347Z"
   },
   {
    "duration": 72,
    "start_time": "2023-04-12T07:10:20.376Z"
   },
   {
    "duration": 18,
    "start_time": "2023-04-12T07:10:20.450Z"
   },
   {
    "duration": 14,
    "start_time": "2023-04-12T07:34:12.638Z"
   },
   {
    "duration": 11,
    "start_time": "2023-04-12T07:35:31.807Z"
   },
   {
    "duration": 10,
    "start_time": "2023-04-12T07:35:53.863Z"
   },
   {
    "duration": 101,
    "start_time": "2023-04-12T07:53:34.029Z"
   },
   {
    "duration": 332,
    "start_time": "2023-04-12T07:53:52.593Z"
   },
   {
    "duration": 20,
    "start_time": "2023-04-12T07:54:15.925Z"
   },
   {
    "duration": 13,
    "start_time": "2023-04-12T08:00:02.968Z"
   },
   {
    "duration": 1232,
    "start_time": "2023-04-12T08:17:39.145Z"
   },
   {
    "duration": 78,
    "start_time": "2023-04-12T08:17:40.379Z"
   },
   {
    "duration": 14,
    "start_time": "2023-04-12T08:17:40.459Z"
   },
   {
    "duration": 24,
    "start_time": "2023-04-12T08:17:40.475Z"
   },
   {
    "duration": 27,
    "start_time": "2023-04-12T08:17:40.501Z"
   },
   {
    "duration": 42,
    "start_time": "2023-04-12T08:17:40.530Z"
   },
   {
    "duration": 21,
    "start_time": "2023-04-12T08:17:40.574Z"
   },
   {
    "duration": 25,
    "start_time": "2023-04-12T08:17:40.596Z"
   },
   {
    "duration": 17,
    "start_time": "2023-04-12T08:17:40.623Z"
   },
   {
    "duration": 31,
    "start_time": "2023-04-12T08:17:40.641Z"
   },
   {
    "duration": 26,
    "start_time": "2023-04-12T08:17:40.674Z"
   },
   {
    "duration": 23,
    "start_time": "2023-04-12T08:17:40.702Z"
   },
   {
    "duration": 41,
    "start_time": "2023-04-12T08:17:40.727Z"
   },
   {
    "duration": 35,
    "start_time": "2023-04-12T08:17:40.771Z"
   },
   {
    "duration": 28,
    "start_time": "2023-04-12T08:17:40.808Z"
   },
   {
    "duration": 33,
    "start_time": "2023-04-12T08:17:40.838Z"
   },
   {
    "duration": 21,
    "start_time": "2023-04-12T08:17:40.874Z"
   },
   {
    "duration": 13,
    "start_time": "2023-04-12T08:17:40.897Z"
   },
   {
    "duration": 30,
    "start_time": "2023-04-12T08:17:40.912Z"
   },
   {
    "duration": 16,
    "start_time": "2023-04-12T08:17:40.944Z"
   },
   {
    "duration": 28,
    "start_time": "2023-04-12T08:17:40.962Z"
   },
   {
    "duration": 21,
    "start_time": "2023-04-12T08:17:40.992Z"
   },
   {
    "duration": 25,
    "start_time": "2023-04-12T08:17:41.016Z"
   },
   {
    "duration": 21,
    "start_time": "2023-04-12T08:17:41.042Z"
   },
   {
    "duration": 35,
    "start_time": "2023-04-12T08:17:41.064Z"
   },
   {
    "duration": 23,
    "start_time": "2023-04-12T08:17:41.100Z"
   },
   {
    "duration": 45,
    "start_time": "2023-04-12T08:17:41.125Z"
   },
   {
    "duration": 603,
    "start_time": "2023-04-12T08:17:41.171Z"
   },
   {
    "duration": 11,
    "start_time": "2023-04-12T08:17:41.775Z"
   },
   {
    "duration": 253,
    "start_time": "2023-04-12T08:17:41.788Z"
   },
   {
    "duration": 341,
    "start_time": "2023-04-12T08:17:42.043Z"
   },
   {
    "duration": 10,
    "start_time": "2023-04-12T08:17:42.386Z"
   },
   {
    "duration": 303,
    "start_time": "2023-04-12T08:17:42.398Z"
   },
   {
    "duration": 383,
    "start_time": "2023-04-12T08:17:42.703Z"
   },
   {
    "duration": 170,
    "start_time": "2023-04-12T08:17:43.088Z"
   },
   {
    "duration": 6,
    "start_time": "2023-04-12T08:17:43.260Z"
   },
   {
    "duration": 178,
    "start_time": "2023-04-12T08:17:43.268Z"
   },
   {
    "duration": 164,
    "start_time": "2023-04-12T08:17:43.447Z"
   },
   {
    "duration": 5,
    "start_time": "2023-04-12T08:17:43.613Z"
   },
   {
    "duration": 20,
    "start_time": "2023-04-12T08:17:43.620Z"
   },
   {
    "duration": 490,
    "start_time": "2023-04-12T08:17:43.645Z"
   },
   {
    "duration": 12,
    "start_time": "2023-04-12T08:17:44.137Z"
   },
   {
    "duration": 16,
    "start_time": "2023-04-12T08:17:44.151Z"
   },
   {
    "duration": 40,
    "start_time": "2023-04-12T08:17:44.169Z"
   },
   {
    "duration": 31,
    "start_time": "2023-04-12T08:17:44.211Z"
   },
   {
    "duration": 1437,
    "start_time": "2023-04-13T06:58:50.803Z"
   },
   {
    "duration": 169,
    "start_time": "2023-04-13T06:58:52.242Z"
   },
   {
    "duration": 11,
    "start_time": "2023-04-13T06:58:52.413Z"
   },
   {
    "duration": 11,
    "start_time": "2023-04-13T06:58:52.426Z"
   },
   {
    "duration": 4,
    "start_time": "2023-04-13T06:58:52.438Z"
   },
   {
    "duration": 14,
    "start_time": "2023-04-13T06:58:52.443Z"
   },
   {
    "duration": 10,
    "start_time": "2023-04-13T06:58:52.459Z"
   },
   {
    "duration": 5,
    "start_time": "2023-04-13T06:58:52.471Z"
   },
   {
    "duration": 13,
    "start_time": "2023-04-13T06:58:52.478Z"
   },
   {
    "duration": 4,
    "start_time": "2023-04-13T06:58:52.493Z"
   },
   {
    "duration": 8,
    "start_time": "2023-04-13T06:58:52.499Z"
   },
   {
    "duration": 10,
    "start_time": "2023-04-13T06:58:52.509Z"
   },
   {
    "duration": 36,
    "start_time": "2023-04-13T06:58:52.521Z"
   },
   {
    "duration": 11,
    "start_time": "2023-04-13T06:58:52.559Z"
   },
   {
    "duration": 5,
    "start_time": "2023-04-13T06:58:52.571Z"
   },
   {
    "duration": 9,
    "start_time": "2023-04-13T06:58:52.578Z"
   },
   {
    "duration": 11,
    "start_time": "2023-04-13T06:58:52.590Z"
   },
   {
    "duration": 6,
    "start_time": "2023-04-13T06:58:52.603Z"
   },
   {
    "duration": 47,
    "start_time": "2023-04-13T06:58:52.611Z"
   },
   {
    "duration": 7,
    "start_time": "2023-04-13T06:58:52.659Z"
   },
   {
    "duration": 11,
    "start_time": "2023-04-13T06:58:52.667Z"
   },
   {
    "duration": 17,
    "start_time": "2023-04-13T06:58:52.680Z"
   },
   {
    "duration": 8,
    "start_time": "2023-04-13T06:58:52.699Z"
   },
   {
    "duration": 6,
    "start_time": "2023-04-13T06:58:52.709Z"
   },
   {
    "duration": 10,
    "start_time": "2023-04-13T06:58:52.717Z"
   },
   {
    "duration": 8,
    "start_time": "2023-04-13T06:58:52.756Z"
   },
   {
    "duration": 13,
    "start_time": "2023-04-13T06:58:52.765Z"
   },
   {
    "duration": 558,
    "start_time": "2023-04-13T06:58:52.781Z"
   },
   {
    "duration": 16,
    "start_time": "2023-04-13T06:58:53.340Z"
   },
   {
    "duration": 202,
    "start_time": "2023-04-13T06:58:53.358Z"
   },
   {
    "duration": 344,
    "start_time": "2023-04-13T06:58:53.561Z"
   },
   {
    "duration": 11,
    "start_time": "2023-04-13T06:58:53.908Z"
   },
   {
    "duration": 305,
    "start_time": "2023-04-13T06:58:53.921Z"
   },
   {
    "duration": 345,
    "start_time": "2023-04-13T06:58:54.228Z"
   },
   {
    "duration": 142,
    "start_time": "2023-04-13T06:58:54.575Z"
   },
   {
    "duration": 5,
    "start_time": "2023-04-13T06:58:54.719Z"
   },
   {
    "duration": 153,
    "start_time": "2023-04-13T06:58:54.726Z"
   },
   {
    "duration": 148,
    "start_time": "2023-04-13T06:58:54.881Z"
   },
   {
    "duration": 5,
    "start_time": "2023-04-13T06:58:55.031Z"
   },
   {
    "duration": 23,
    "start_time": "2023-04-13T06:58:55.037Z"
   },
   {
    "duration": 469,
    "start_time": "2023-04-13T06:58:55.062Z"
   },
   {
    "duration": 10,
    "start_time": "2023-04-13T06:58:55.533Z"
   },
   {
    "duration": 23,
    "start_time": "2023-04-13T06:58:55.545Z"
   },
   {
    "duration": 29,
    "start_time": "2023-04-13T06:58:55.570Z"
   },
   {
    "duration": 15,
    "start_time": "2023-04-13T06:58:55.601Z"
   },
   {
    "duration": 1094,
    "start_time": "2023-04-13T06:59:04.313Z"
   },
   {
    "duration": 62,
    "start_time": "2023-04-13T06:59:05.409Z"
   },
   {
    "duration": 12,
    "start_time": "2023-04-13T06:59:05.472Z"
   },
   {
    "duration": 32,
    "start_time": "2023-04-13T06:59:05.486Z"
   },
   {
    "duration": 29,
    "start_time": "2023-04-13T06:59:05.520Z"
   },
   {
    "duration": 49,
    "start_time": "2023-04-13T06:59:05.550Z"
   },
   {
    "duration": 51,
    "start_time": "2023-04-13T06:59:05.601Z"
   },
   {
    "duration": 51,
    "start_time": "2023-04-13T06:59:05.655Z"
   },
   {
    "duration": 18,
    "start_time": "2023-04-13T06:59:05.708Z"
   },
   {
    "duration": 20,
    "start_time": "2023-04-13T06:59:05.729Z"
   },
   {
    "duration": 27,
    "start_time": "2023-04-13T06:59:05.751Z"
   },
   {
    "duration": 19,
    "start_time": "2023-04-13T06:59:05.779Z"
   },
   {
    "duration": 29,
    "start_time": "2023-04-13T06:59:05.800Z"
   },
   {
    "duration": 24,
    "start_time": "2023-04-13T06:59:05.831Z"
   },
   {
    "duration": 22,
    "start_time": "2023-04-13T06:59:05.857Z"
   },
   {
    "duration": 6,
    "start_time": "2023-04-13T06:59:05.881Z"
   },
   {
    "duration": 32,
    "start_time": "2023-04-13T06:59:05.889Z"
   },
   {
    "duration": 40,
    "start_time": "2023-04-13T06:59:05.923Z"
   },
   {
    "duration": 17,
    "start_time": "2023-04-13T06:59:05.964Z"
   },
   {
    "duration": 26,
    "start_time": "2023-04-13T06:59:05.983Z"
   },
   {
    "duration": 10,
    "start_time": "2023-04-13T06:59:06.011Z"
   },
   {
    "duration": 11,
    "start_time": "2023-04-13T06:59:06.022Z"
   },
   {
    "duration": 14,
    "start_time": "2023-04-13T06:59:06.035Z"
   },
   {
    "duration": 27,
    "start_time": "2023-04-13T06:59:06.050Z"
   },
   {
    "duration": 25,
    "start_time": "2023-04-13T06:59:06.078Z"
   },
   {
    "duration": 12,
    "start_time": "2023-04-13T06:59:06.105Z"
   },
   {
    "duration": 23,
    "start_time": "2023-04-13T06:59:06.118Z"
   },
   {
    "duration": 540,
    "start_time": "2023-04-13T06:59:06.145Z"
   },
   {
    "duration": 9,
    "start_time": "2023-04-13T06:59:06.687Z"
   },
   {
    "duration": 201,
    "start_time": "2023-04-13T06:59:06.698Z"
   },
   {
    "duration": 302,
    "start_time": "2023-04-13T06:59:06.901Z"
   },
   {
    "duration": 8,
    "start_time": "2023-04-13T06:59:07.205Z"
   },
   {
    "duration": 279,
    "start_time": "2023-04-13T06:59:07.215Z"
   },
   {
    "duration": 306,
    "start_time": "2023-04-13T06:59:07.496Z"
   },
   {
    "duration": 153,
    "start_time": "2023-04-13T06:59:07.804Z"
   },
   {
    "duration": 5,
    "start_time": "2023-04-13T06:59:07.959Z"
   },
   {
    "duration": 172,
    "start_time": "2023-04-13T06:59:07.966Z"
   },
   {
    "duration": 169,
    "start_time": "2023-04-13T06:59:08.140Z"
   },
   {
    "duration": 6,
    "start_time": "2023-04-13T06:59:08.311Z"
   },
   {
    "duration": 15,
    "start_time": "2023-04-13T06:59:08.319Z"
   },
   {
    "duration": 497,
    "start_time": "2023-04-13T06:59:08.337Z"
   },
   {
    "duration": 20,
    "start_time": "2023-04-13T06:59:08.836Z"
   },
   {
    "duration": 13,
    "start_time": "2023-04-13T06:59:08.858Z"
   },
   {
    "duration": 29,
    "start_time": "2023-04-13T06:59:08.873Z"
   },
   {
    "duration": 15,
    "start_time": "2023-04-13T06:59:08.904Z"
   },
   {
    "duration": 1163,
    "start_time": "2023-04-13T07:03:05.188Z"
   },
   {
    "duration": 61,
    "start_time": "2023-04-13T07:03:06.353Z"
   },
   {
    "duration": 13,
    "start_time": "2023-04-13T07:03:06.415Z"
   },
   {
    "duration": 11,
    "start_time": "2023-04-13T07:03:06.430Z"
   },
   {
    "duration": 5,
    "start_time": "2023-04-13T07:03:06.443Z"
   },
   {
    "duration": 17,
    "start_time": "2023-04-13T07:03:06.450Z"
   },
   {
    "duration": 11,
    "start_time": "2023-04-13T07:03:06.473Z"
   },
   {
    "duration": 5,
    "start_time": "2023-04-13T07:03:06.486Z"
   },
   {
    "duration": 13,
    "start_time": "2023-04-13T07:03:06.493Z"
   },
   {
    "duration": 6,
    "start_time": "2023-04-13T07:03:06.507Z"
   },
   {
    "duration": 7,
    "start_time": "2023-04-13T07:03:06.515Z"
   },
   {
    "duration": 34,
    "start_time": "2023-04-13T07:03:06.524Z"
   },
   {
    "duration": 12,
    "start_time": "2023-04-13T07:03:06.560Z"
   },
   {
    "duration": 11,
    "start_time": "2023-04-13T07:03:06.575Z"
   },
   {
    "duration": 8,
    "start_time": "2023-04-13T07:03:06.588Z"
   },
   {
    "duration": 7,
    "start_time": "2023-04-13T07:03:06.597Z"
   },
   {
    "duration": 51,
    "start_time": "2023-04-13T07:03:06.605Z"
   },
   {
    "duration": 5,
    "start_time": "2023-04-13T07:03:06.658Z"
   },
   {
    "duration": 13,
    "start_time": "2023-04-13T07:03:06.665Z"
   },
   {
    "duration": 8,
    "start_time": "2023-04-13T07:03:06.679Z"
   },
   {
    "duration": 17,
    "start_time": "2023-04-13T07:03:06.689Z"
   },
   {
    "duration": 13,
    "start_time": "2023-04-13T07:03:06.708Z"
   },
   {
    "duration": 27,
    "start_time": "2023-04-13T07:03:06.722Z"
   },
   {
    "duration": 8,
    "start_time": "2023-04-13T07:03:06.751Z"
   },
   {
    "duration": 11,
    "start_time": "2023-04-13T07:03:06.760Z"
   },
   {
    "duration": 10,
    "start_time": "2023-04-13T07:03:06.773Z"
   },
   {
    "duration": 16,
    "start_time": "2023-04-13T07:03:06.784Z"
   },
   {
    "duration": 579,
    "start_time": "2023-04-13T07:03:06.802Z"
   },
   {
    "duration": 12,
    "start_time": "2023-04-13T07:03:07.382Z"
   },
   {
    "duration": 225,
    "start_time": "2023-04-13T07:03:07.396Z"
   },
   {
    "duration": 344,
    "start_time": "2023-04-13T07:03:07.623Z"
   },
   {
    "duration": 10,
    "start_time": "2023-04-13T07:03:07.968Z"
   },
   {
    "duration": 306,
    "start_time": "2023-04-13T07:03:07.980Z"
   },
   {
    "duration": 300,
    "start_time": "2023-04-13T07:03:08.288Z"
   },
   {
    "duration": 143,
    "start_time": "2023-04-13T07:03:08.590Z"
   },
   {
    "duration": 6,
    "start_time": "2023-04-13T07:03:08.734Z"
   },
   {
    "duration": 147,
    "start_time": "2023-04-13T07:03:08.756Z"
   },
   {
    "duration": 150,
    "start_time": "2023-04-13T07:03:08.905Z"
   },
   {
    "duration": 5,
    "start_time": "2023-04-13T07:03:09.058Z"
   },
   {
    "duration": 14,
    "start_time": "2023-04-13T07:03:09.064Z"
   },
   {
    "duration": 500,
    "start_time": "2023-04-13T07:03:09.082Z"
   },
   {
    "duration": 11,
    "start_time": "2023-04-13T07:03:09.584Z"
   },
   {
    "duration": 17,
    "start_time": "2023-04-13T07:03:09.596Z"
   },
   {
    "duration": 44,
    "start_time": "2023-04-13T07:03:09.615Z"
   },
   {
    "duration": 15,
    "start_time": "2023-04-13T07:03:09.661Z"
   }
  ],
  "kernelspec": {
   "display_name": "Python 3 (ipykernel)",
   "language": "python",
   "name": "python3"
  },
  "language_info": {
   "codemirror_mode": {
    "name": "ipython",
    "version": 3
   },
   "file_extension": ".py",
   "mimetype": "text/x-python",
   "name": "python",
   "nbconvert_exporter": "python",
   "pygments_lexer": "ipython3",
   "version": "3.10.9"
  },
  "toc": {
   "base_numbering": 1,
   "nav_menu": {},
   "number_sections": true,
   "sideBar": true,
   "skip_h1_title": true,
   "title_cell": "Table of Contents",
   "title_sidebar": "Contents",
   "toc_cell": false,
   "toc_position": {
    "height": "calc(100% - 180px)",
    "left": "10px",
    "top": "150px",
    "width": "289.438px"
   },
   "toc_section_display": true,
   "toc_window_display": true
  }
 },
 "nbformat": 4,
 "nbformat_minor": 2
}
